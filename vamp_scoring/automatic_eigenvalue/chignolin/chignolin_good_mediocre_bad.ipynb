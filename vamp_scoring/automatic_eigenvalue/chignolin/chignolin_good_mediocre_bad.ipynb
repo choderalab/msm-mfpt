{
 "cells": [
  {
   "cell_type": "code",
   "execution_count": 1,
   "metadata": {},
   "outputs": [],
   "source": [
    "# here we examine \"good\", \"mediocre\" and \"bad\" models\n",
    "# i.e. models with top, medium and lowest scores"
   ]
  },
  {
   "cell_type": "code",
   "execution_count": 18,
   "metadata": {},
   "outputs": [],
   "source": [
    "import pyemma\n",
    "import matplotlib\n",
    "%matplotlib inline\n",
    "import matplotlib.pyplot as plt\n",
    "import seaborn as sns\n",
    "sns.set_style('ticks')\n",
    "import numpy as np\n",
    "from glob import glob\n",
    "import scipy"
   ]
  },
  {
   "cell_type": "code",
   "execution_count": 19,
   "metadata": {},
   "outputs": [],
   "source": [
    "scores = [\n",
    "np.load('scores_msmlag10ns_splittica_alleigen.npy'),\n",
    "np.load('50ns/scores_msmlag50ns_splittica_alleigen.npy'),\n",
    "np.load('100ns/scores_msmlag100ns_splittica_alleigen.npy')\n",
    "]"
   ]
  },
  {
   "cell_type": "code",
   "execution_count": 20,
   "metadata": {},
   "outputs": [],
   "source": [
    "def get_order_lag(no_eigenvalues, lag):\n",
    "    \n",
    "    current_choice = no_eigenvalues  # number of eigenvalues\n",
    "\n",
    "    # lag is 0, 1 or 2 meaning 10ns, 50ns, 100ns\n",
    "    \n",
    "    output = scores[lag]\n",
    "    \n",
    "    #output = scores\n",
    "    eigenvalues_no = 49 # how many numbers of eigenvalues we've tried\n",
    "    eigenvalues_index = current_choice - 2 # this is actual number of eigenvalues - 2\n",
    "\n",
    "    # test scores\n",
    "\n",
    "    y_kinetic = []\n",
    "    y_commute = []\n",
    "    tic_nos_kinetic = []\n",
    "    tic_nos_commute = []\n",
    "\n",
    "    for model in output[1]:\n",
    "        y_kinetic_ = []\n",
    "        y_commute_ = []\n",
    "        tic_nos_kinetic_ = []\n",
    "        tic_nos_commute_ = []\n",
    "        if isinstance(model[0], list):\n",
    "            for replicate in model[eigenvalues_index::eigenvalues_no]:\n",
    "                y_kinetic_.append(replicate[0][0])\n",
    "                y_commute_.append(replicate[0][1])\n",
    "                tic_nos_kinetic_.append(replicate[1][0])\n",
    "                tic_nos_commute_.append(replicate[1][1])\n",
    "        else:\n",
    "            for replicate in model[eigenvalues_index::eigenvalues_no]:\n",
    "                y_kinetic_.append(replicate[0])\n",
    "                y_commute_.append(replicate[1])\n",
    "        y_kinetic.append(np.array(y_kinetic_))\n",
    "        y_commute.append(np.array(y_commute_))\n",
    "        if tic_nos_kinetic_:\n",
    "            tic_nos_kinetic.append(np.max(tic_nos_kinetic_))\n",
    "        else:\n",
    "            tic_nos_kinetic.append(None)\n",
    "        if tic_nos_commute_:\n",
    "            tic_nos_commute.append(np.max(tic_nos_commute_))\n",
    "        else:\n",
    "            tic_nos_commute.append(None)\n",
    "\n",
    "    y = y_kinetic + y_commute\n",
    "\n",
    "    x = []\n",
    "\n",
    "    for index, model in enumerate(output[0]):\n",
    "        if tic_nos_kinetic[index]:\n",
    "            x.append(str(('kinetic', model[0], str(model[1]) + ': ' + str(tic_nos_kinetic[index]), model[2], model[3])))\n",
    "        else:\n",
    "            x.append(str(('kinetic', model[0], model[1], model[2], model[3])))\n",
    "    for index, model in enumerate(output[0]):\n",
    "        if tic_nos_commute[index]:\n",
    "            x.append(str(('commute', model[0], str(model[1]) + ': ' + str(tic_nos_commute[index]), model[2], model[3])))\n",
    "        else:\n",
    "            x.append(str(('commute', model[0], model[1], model[2], model[3])))\n",
    "\n",
    "    order_means = []\n",
    "    #just_means = []\n",
    "    for index, model in enumerate(x):\n",
    "        order_means.append((model, np.mean(y[index])))\n",
    "        #just_means.append(np.mean(y[index]))\n",
    "    order_means = sorted(order_means, key = lambda i: i[1], reverse=True)\n",
    "    order = [i[0] for i in order_means]\n",
    "    \n",
    "#     # for those with 95p tics, remove the number of tics, so the labels between two nos of eigen are the same\n",
    "#     order_ = []\n",
    "#     for model in order:\n",
    "#         split = model.split(', ')\n",
    "#         if split[2][:4] == \"'95p\":\n",
    "#             new_model = split[0] + \", \" + split[1] + \", \" + split[2][:4] + \"', \" + split[3] + \")\"\n",
    "#             order_.append(new_model)\n",
    "#         else:\n",
    "#             new_model = split[0] + \", \" + split[1] + \", \" + split[2] + \", \" + split[3] + \")\"\n",
    "#             order_.append(new_model)\n",
    "            \n",
    "    \n",
    "#     return order_\n",
    "\n",
    "\n",
    "    # for those with 95p tics, remove the 95p so we can read number of tics into MSM making script\n",
    "    order_ = []\n",
    "    for model in order:\n",
    "        split = model.split(', ')\n",
    "        if split[2][:4] == \"'95p\":\n",
    "            new_model = split[0] + \", \" + split[1] + \", \" + split[2][6:-1] + \", \" + split[3] + \")\"\n",
    "            order_.append(new_model)\n",
    "        else:\n",
    "            new_model = split[0] + \", \" + split[1] + \", \" + split[2] + \", \" + split[3] + \")\"\n",
    "            order_.append(new_model)\n",
    "    \n",
    "    return order_"
   ]
  },
  {
   "cell_type": "code",
   "execution_count": 5,
   "metadata": {},
   "outputs": [
    {
     "data": {
      "text/plain": [
       "[\"('kinetic', 5, 15, 100)\",\n",
       " \"('commute', 5, 21, 100)\",\n",
       " \"('commute', 5, 21, 50)\",\n",
       " \"('kinetic', 5, 15, 50)\",\n",
       " \"('kinetic', 25, 6, 100)\",\n",
       " \"('kinetic', 25, 6, 200)\",\n",
       " \"('kinetic', 25, 6, 50)\",\n",
       " \"('commute', 5, 21, 200)\",\n",
       " \"('commute', 5, 21, 700)\",\n",
       " \"('kinetic', 5, 15, 200)\",\n",
       " \"('kinetic', 50, 3, 200)\",\n",
       " \"('kinetic', 25, 6, 300)\",\n",
       " \"('kinetic', 25, 6, 400)\",\n",
       " \"('commute', 25, 22, 400)\",\n",
       " \"('kinetic', 50, 3, 100)\",\n",
       " \"('kinetic', 25, 6, 600)\",\n",
       " \"('commute', 25, 22, 300)\",\n",
       " \"('kinetic', 25, 6, 500)\",\n",
       " \"('commute', 25, 22, 700)\",\n",
       " \"('kinetic', 5, 15, 300)\",\n",
       " \"('commute', 25, 22, 200)\",\n",
       " \"('kinetic', 50, 3, 300)\",\n",
       " \"('kinetic', 50, 3, 400)\",\n",
       " \"('commute', 5, 21, 300)\",\n",
       " \"('commute', 5, 21, 500)\",\n",
       " \"('kinetic', 5, 15, 400)\",\n",
       " \"('kinetic', 5, 15, 700)\",\n",
       " \"('commute', 25, 22, 600)\",\n",
       " \"('kinetic', 5, 15, 600)\",\n",
       " \"('kinetic', 5, 15, 500)\",\n",
       " \"('kinetic', 50, 2, 200)\",\n",
       " \"('kinetic', 25, 6, 700)\",\n",
       " \"('commute', 25, 22, 800)\",\n",
       " \"('commute', 25, 22, 500)\",\n",
       " \"('commute', 5, 21, 800)\",\n",
       " \"('commute', 5, 21, 600)\",\n",
       " \"('kinetic', 50, 3, 500)\",\n",
       " \"('kinetic', 50, 2, 100)\",\n",
       " \"('kinetic', 50, 2, 300)\",\n",
       " \"('commute', 25, 22, 900)\",\n",
       " \"('commute', 5, 21, 400)\",\n",
       " \"('kinetic', 50, 2, 400)\",\n",
       " \"('kinetic', 5, 15, 800)\",\n",
       " \"('kinetic', 5, 15, 900)\",\n",
       " \"('kinetic', 50, 3, 700)\",\n",
       " \"('kinetic', 50, 2, 500)\",\n",
       " \"('kinetic', 5, 15, 1000)\",\n",
       " \"('commute', 25, 22, 1000)\",\n",
       " \"('kinetic', 25, 6, 800)\",\n",
       " \"('kinetic', 50, 3, 50)\",\n",
       " \"('kinetic', 50, 2, 600)\",\n",
       " \"('kinetic', 25, 6, 1000)\",\n",
       " \"('commute', 25, 22, 100)\",\n",
       " \"('kinetic', 50, 3, 600)\",\n",
       " \"('kinetic', 50, 3, 800)\",\n",
       " \"('kinetic', 50, 2, 700)\",\n",
       " \"('commute', 5, 21, 900)\",\n",
       " \"('kinetic', 25, 2, 200)\",\n",
       " \"('commute', 25, 2, 200)\",\n",
       " \"('kinetic', 50, 2, 50)\",\n",
       " \"('kinetic', 50, 3, 900)\",\n",
       " \"('kinetic', 25, 2, 400)\",\n",
       " \"('commute', 25, 2, 300)\",\n",
       " \"('kinetic', 25, 2, 300)\",\n",
       " \"('commute', 25, 2, 500)\",\n",
       " \"('kinetic', 50, 2, 900)\",\n",
       " \"('kinetic', 50, 3, 1000)\",\n",
       " \"('commute', 25, 2, 400)\",\n",
       " \"('kinetic', 25, 2, 100)\",\n",
       " \"('commute', 5, 21, 1000)\",\n",
       " \"('kinetic', 50, 2, 800)\",\n",
       " \"('kinetic', 25, 2, 500)\",\n",
       " \"('commute', 25, 2, 600)\",\n",
       " \"('kinetic', 25, 2, 600)\",\n",
       " \"('kinetic', 50, 2, 1000)\",\n",
       " \"('kinetic', 25, 6, 900)\",\n",
       " \"('commute', 25, 2, 700)\",\n",
       " \"('kinetic', 25, 2, 700)\",\n",
       " \"('commute', 25, 2, 100)\",\n",
       " \"('commute', 25, 2, 800)\",\n",
       " \"('commute', 25, 2, 900)\",\n",
       " \"('commute', 25, 2, 1000)\",\n",
       " \"('kinetic', 25, 2, 800)\",\n",
       " \"('kinetic', 25, 2, 900)\",\n",
       " \"('commute', 25, 22, 50)\",\n",
       " \"('kinetic', 25, 2, 50)\",\n",
       " \"('kinetic', 25, 2, 1000)\",\n",
       " \"('commute', 25, 2, 50)\",\n",
       " \"('commute', 5, 2, 200)\",\n",
       " \"('commute', 5, 2, 300)\",\n",
       " \"('commute', 5, 2, 400)\",\n",
       " \"('kinetic', 5, 2, 300)\",\n",
       " \"('commute', 5, 2, 100)\",\n",
       " \"('kinetic', 5, 2, 200)\",\n",
       " \"('kinetic', 5, 2, 400)\",\n",
       " \"('commute', 5, 2, 500)\",\n",
       " \"('commute', 5, 2, 600)\",\n",
       " \"('kinetic', 5, 2, 500)\",\n",
       " \"('kinetic', 5, 2, 100)\",\n",
       " \"('kinetic', 5, 2, 600)\",\n",
       " \"('commute', 5, 2, 700)\",\n",
       " \"('commute', 5, 2, 800)\",\n",
       " \"('kinetic', 5, 2, 700)\",\n",
       " \"('commute', 5, 2, 900)\",\n",
       " \"('commute', 5, 2, 1000)\",\n",
       " \"('commute', 5, 2, 50)\",\n",
       " \"('kinetic', 5, 2, 800)\",\n",
       " \"('kinetic', 5, 2, 900)\",\n",
       " \"('kinetic', 5, 2, 1000)\",\n",
       " \"('kinetic', 5, 2, 50)\",\n",
       " \"('commute', 50, 2, 50)\",\n",
       " \"('commute', 50, 2, 100)\",\n",
       " \"('commute', 50, 2, 200)\",\n",
       " \"('commute', 50, 2, 300)\",\n",
       " \"('commute', 50, 23, 50)\",\n",
       " \"('commute', 50, 23, 100)\",\n",
       " \"('commute', 50, 2, 400)\",\n",
       " \"('commute', 50, 2, 500)\",\n",
       " \"('commute', 50, 23, 200)\",\n",
       " \"('commute', 50, 23, 300)\",\n",
       " \"('commute', 50, 2, 600)\",\n",
       " \"('commute', 50, 2, 700)\",\n",
       " \"('commute', 50, 23, 400)\",\n",
       " \"('commute', 50, 2, 800)\",\n",
       " \"('commute', 50, 23, 500)\",\n",
       " \"('commute', 50, 2, 900)\",\n",
       " \"('commute', 50, 23, 600)\",\n",
       " \"('commute', 50, 2, 1000)\",\n",
       " \"('commute', 50, 23, 700)\",\n",
       " \"('commute', 50, 23, 800)\",\n",
       " \"('commute', 50, 23, 900)\",\n",
       " \"('commute', 50, 23, 1000)\"]"
      ]
     },
     "execution_count": 5,
     "metadata": {},
     "output_type": "execute_result"
    }
   ],
   "source": [
    "get_order_lag(4,0)"
   ]
  },
  {
   "cell_type": "code",
   "execution_count": 6,
   "metadata": {},
   "outputs": [
    {
     "data": {
      "text/plain": [
       "132"
      ]
     },
     "execution_count": 6,
     "metadata": {},
     "output_type": "execute_result"
    }
   ],
   "source": [
    "len(get_order_lag(4,0))"
   ]
  },
  {
   "cell_type": "code",
   "execution_count": 8,
   "metadata": {},
   "outputs": [],
   "source": [
    "# let's take 9 models at equal intervals, including the best and worst ones"
   ]
  },
  {
   "cell_type": "code",
   "execution_count": 14,
   "metadata": {},
   "outputs": [
    {
     "data": {
      "text/plain": [
       "14.666666666666666"
      ]
     },
     "execution_count": 14,
     "metadata": {},
     "output_type": "execute_result"
    }
   ],
   "source": [
    "len(get_order_lag(4,0)) / 9"
   ]
  },
  {
   "cell_type": "code",
   "execution_count": 24,
   "metadata": {},
   "outputs": [
    {
     "data": {
      "text/plain": [
       "array([\"('kinetic', 5, 15, 100)\", \"('kinetic', 25, 6, 600)\",\n",
       "       \"('kinetic', 50, 2, 200)\", \"('kinetic', 50, 2, 500)\",\n",
       "       \"('kinetic', 50, 3, 900)\", \"('kinetic', 25, 6, 900)\",\n",
       "       \"('commute', 5, 2, 400)\", \"('commute', 5, 2, 50)\",\n",
       "       \"('commute', 50, 2, 600)\", \"('commute', 50, 23, 1000)\"], \n",
       "      dtype='<U25')"
      ]
     },
     "execution_count": 24,
     "metadata": {},
     "output_type": "execute_result"
    }
   ],
   "source": [
    "np.array(get_order_lag(4,0))[np.array(list(np.arange(0,132,15)) + [131])]"
   ]
  },
  {
   "cell_type": "code",
   "execution_count": 25,
   "metadata": {},
   "outputs": [],
   "source": [
    "# ok so let's compute these models, and we'll look at the timescales, CK tests and ACFs (when have code from Josh)"
   ]
  },
  {
   "cell_type": "code",
   "execution_count": 1,
   "metadata": {},
   "outputs": [],
   "source": [
    "# pdb_file = '/Volumes/Seagate Backup Plus Drive/DESRES/chignolin/chig_pdb_166.pdb'"
   ]
  },
  {
   "cell_type": "code",
   "execution_count": 2,
   "metadata": {},
   "outputs": [],
   "source": [
    "# traj_files = sorted(glob('/Volumes/Seagate Backup Plus Drive/DESRES/chignolin/*.dcd'))"
   ]
  },
  {
   "cell_type": "code",
   "execution_count": 4,
   "metadata": {},
   "outputs": [],
   "source": [
    "# features = pyemma.coordinates.featurizer(pdb_file)\n",
    "# features.add_residue_mindist()\n",
    "# X = pyemma.coordinates.load([traj_files], features=features)"
   ]
  },
  {
   "cell_type": "code",
   "execution_count": 5,
   "metadata": {},
   "outputs": [],
   "source": [
    "# all_dtrajs = []\n",
    "# all_msms = []"
   ]
  },
  {
   "cell_type": "code",
   "execution_count": 6,
   "metadata": {},
   "outputs": [],
   "source": [
    "# # tica_map = # change below\n",
    "# tica_lag = 5\n",
    "# tica_dim = 15\n",
    "# states = 100\n",
    "# # msm lag # change below\n",
    "\n",
    "# tica = pyemma.coordinates.tica(X, lag=tica_lag, dim=tica_dim, kinetic_map=True, commute_map=False)\n",
    "# Y = tica.get_output()\n",
    "# kmeans = pyemma.coordinates.cluster_kmeans(Y, k=states, max_iter=1000)\n",
    "# dtrajs = kmeans.dtrajs\n",
    "# msm = pyemma.msm.estimate_markov_model(dtrajs, 150*5)\n",
    "\n",
    "# all_dtrajs.append(dtrajs)\n",
    "# all_msms.append(msm)"
   ]
  },
  {
   "cell_type": "code",
   "execution_count": 7,
   "metadata": {},
   "outputs": [],
   "source": [
    "# # tica_map # change below\n",
    "# tica_lag = 25\n",
    "# tica_dim = 6\n",
    "# states = 600\n",
    "# # msm lag # change below\n",
    "\n",
    "# tica = pyemma.coordinates.tica(X, lag=tica_lag, dim=tica_dim, kinetic_map=True, commute_map=False)\n",
    "# Y = tica.get_output()\n",
    "# kmeans = pyemma.coordinates.cluster_kmeans(Y, k=states, max_iter=1000)\n",
    "# dtrajs = kmeans.dtrajs\n",
    "# msm = pyemma.msm.estimate_markov_model(dtrajs, 150*5)\n",
    "\n",
    "# all_dtrajs.append(dtrajs)\n",
    "# all_msms.append(msm)"
   ]
  },
  {
   "cell_type": "code",
   "execution_count": 8,
   "metadata": {},
   "outputs": [],
   "source": [
    "# # tica_map # change below\n",
    "# tica_lag = 50\n",
    "# tica_dim = 2\n",
    "# states = 200\n",
    "# # msm lag # change below\n",
    "\n",
    "# tica = pyemma.coordinates.tica(X, lag=tica_lag, dim=tica_dim, kinetic_map=True, commute_map=False)\n",
    "# Y = tica.get_output()\n",
    "# kmeans = pyemma.coordinates.cluster_kmeans(Y, k=states, max_iter=1000)\n",
    "# dtrajs = kmeans.dtrajs\n",
    "# msm = pyemma.msm.estimate_markov_model(dtrajs, 150*5)\n",
    "\n",
    "# all_dtrajs.append(dtrajs)\n",
    "# all_msms.append(msm)"
   ]
  },
  {
   "cell_type": "code",
   "execution_count": 9,
   "metadata": {},
   "outputs": [],
   "source": [
    "# # tica_map # change below\n",
    "# tica_lag = 50\n",
    "# tica_dim = 2\n",
    "# states = 500\n",
    "# # msm lag # change below\n",
    "\n",
    "# tica = pyemma.coordinates.tica(X, lag=tica_lag, dim=tica_dim, kinetic_map=True, commute_map=False)\n",
    "# Y = tica.get_output()\n",
    "# kmeans = pyemma.coordinates.cluster_kmeans(Y, k=states, max_iter=1000)\n",
    "# dtrajs = kmeans.dtrajs\n",
    "# msm = pyemma.msm.estimate_markov_model(dtrajs, 150*5)\n",
    "\n",
    "# all_dtrajs.append(dtrajs)\n",
    "# all_msms.append(msm)"
   ]
  },
  {
   "cell_type": "code",
   "execution_count": 10,
   "metadata": {},
   "outputs": [],
   "source": [
    "# # tica_map # change below\n",
    "# tica_lag = 50\n",
    "# tica_dim = 3\n",
    "# states = 900\n",
    "# # msm lag # change below\n",
    "\n",
    "# tica = pyemma.coordinates.tica(X, lag=tica_lag, dim=tica_dim, kinetic_map=True, commute_map=False)\n",
    "# Y = tica.get_output()\n",
    "# kmeans = pyemma.coordinates.cluster_kmeans(Y, k=states, max_iter=1000)\n",
    "# dtrajs = kmeans.dtrajs\n",
    "# msm = pyemma.msm.estimate_markov_model(dtrajs, 150*5)\n",
    "\n",
    "# all_dtrajs.append(dtrajs)\n",
    "# all_msms.append(msm)"
   ]
  },
  {
   "cell_type": "code",
   "execution_count": 11,
   "metadata": {},
   "outputs": [],
   "source": [
    "# # tica_map # change below\n",
    "# tica_lag = 25\n",
    "# tica_dim = 6\n",
    "# states = 900\n",
    "# # msm lag # change below\n",
    "\n",
    "# tica = pyemma.coordinates.tica(X, lag=tica_lag, dim=tica_dim, kinetic_map=True, commute_map=False)\n",
    "# Y = tica.get_output()\n",
    "# kmeans = pyemma.coordinates.cluster_kmeans(Y, k=states, max_iter=1000)\n",
    "# dtrajs = kmeans.dtrajs\n",
    "# msm = pyemma.msm.estimate_markov_model(dtrajs, 150*5)\n",
    "\n",
    "# all_dtrajs.append(dtrajs)\n",
    "# all_msms.append(msm)"
   ]
  },
  {
   "cell_type": "code",
   "execution_count": 12,
   "metadata": {},
   "outputs": [],
   "source": [
    "# # tica_map # change below\n",
    "# tica_lag = 5\n",
    "# tica_dim = 2\n",
    "# states = 400\n",
    "# # msm lag # change below\n",
    "\n",
    "# tica = pyemma.coordinates.tica(X, lag=tica_lag, dim=tica_dim, kinetic_map=False, commute_map=True)\n",
    "# Y = tica.get_output()\n",
    "# kmeans = pyemma.coordinates.cluster_kmeans(Y, k=states, max_iter=1000)\n",
    "# dtrajs = kmeans.dtrajs\n",
    "# msm = pyemma.msm.estimate_markov_model(dtrajs, 150*5)\n",
    "\n",
    "# all_dtrajs.append(dtrajs)\n",
    "# all_msms.append(msm)"
   ]
  },
  {
   "cell_type": "code",
   "execution_count": 13,
   "metadata": {},
   "outputs": [],
   "source": [
    "# # tica_map # change below\n",
    "# tica_lag = 5\n",
    "# tica_dim = 2\n",
    "# states = 50\n",
    "# # msm lag # change below\n",
    "\n",
    "# tica = pyemma.coordinates.tica(X, lag=tica_lag, dim=tica_dim, kinetic_map=False, commute_map=True)\n",
    "# Y = tica.get_output()\n",
    "# kmeans = pyemma.coordinates.cluster_kmeans(Y, k=states, max_iter=1000)\n",
    "# dtrajs = kmeans.dtrajs\n",
    "# msm = pyemma.msm.estimate_markov_model(dtrajs, 150*5)\n",
    "\n",
    "# all_dtrajs.append(dtrajs)\n",
    "# all_msms.append(msm)"
   ]
  },
  {
   "cell_type": "code",
   "execution_count": 14,
   "metadata": {},
   "outputs": [],
   "source": [
    "# # tica_map # change below\n",
    "# tica_lag = 50\n",
    "# tica_dim = 2\n",
    "# states = 600\n",
    "# # msm lag # change below\n",
    "\n",
    "# tica = pyemma.coordinates.tica(X, lag=tica_lag, dim=tica_dim, kinetic_map=False, commute_map=True)\n",
    "# Y = tica.get_output()\n",
    "# kmeans = pyemma.coordinates.cluster_kmeans(Y, k=states, max_iter=1000)\n",
    "# dtrajs = kmeans.dtrajs\n",
    "# msm = pyemma.msm.estimate_markov_model(dtrajs, 150*5)\n",
    "\n",
    "# all_dtrajs.append(dtrajs)\n",
    "# all_msms.append(msm)"
   ]
  },
  {
   "cell_type": "code",
   "execution_count": 15,
   "metadata": {},
   "outputs": [],
   "source": [
    "# # tica_map # change below\n",
    "# tica_lag = 50\n",
    "# tica_dim = 23\n",
    "# states = 1000\n",
    "# # msm lag # change below\n",
    "\n",
    "# tica = pyemma.coordinates.tica(X, lag=tica_lag, dim=tica_dim, kinetic_map=False, commute_map=True)\n",
    "# Y = tica.get_output()\n",
    "# kmeans = pyemma.coordinates.cluster_kmeans(Y, k=states, max_iter=1000)\n",
    "# dtrajs = kmeans.dtrajs\n",
    "# msm = pyemma.msm.estimate_markov_model(dtrajs, 150*5)\n",
    "\n",
    "# all_dtrajs.append(dtrajs)\n",
    "# all_msms.append(msm)"
   ]
  },
  {
   "cell_type": "code",
   "execution_count": 16,
   "metadata": {},
   "outputs": [],
   "source": [
    "# for i, dtraj in enumerate(all_dtrajs):\n",
    "#     np.save('good_med_bad/%d.npy' % i, dtraj)"
   ]
  },
  {
   "cell_type": "code",
   "execution_count": null,
   "metadata": {},
   "outputs": [],
   "source": [
    "####### model calculation now done on lilac"
   ]
  },
  {
   "cell_type": "code",
   "execution_count": 48,
   "metadata": {},
   "outputs": [],
   "source": [
    "# load in from dtrajs made here in notebook (by commented out code above)\n",
    "all_dtrajs = []\n",
    "\n",
    "for i in range(10):\n",
    "    all_dtrajs.append(list(np.load('good_med_bad/%d.npy' % i)))"
   ]
  },
  {
   "cell_type": "code",
   "execution_count": null,
   "metadata": {},
   "outputs": [],
   "source": [
    "# ### alternative load in from lilac dtrajs\n",
    "# all_dtrajs = np.load('good_med_bad/dtrajs_goodmedbad_models.npy')"
   ]
  },
  {
   "cell_type": "code",
   "execution_count": 25,
   "metadata": {},
   "outputs": [],
   "source": [
    "all_itss = []"
   ]
  },
  {
   "cell_type": "code",
   "execution_count": 26,
   "metadata": {},
   "outputs": [
    {
     "data": {
      "application/vnd.jupyter.widget-view+json": {
       "model_id": "b27e8d6d364d4e93a6053e2704a5f038",
       "version_major": 2,
       "version_minor": 0
      },
      "text/html": [
       "<p>Failed to display Jupyter Widget of type <code>HBox</code>.</p>\n",
       "<p>\n",
       "  If you're reading this message in the Jupyter Notebook or JupyterLab Notebook, it may mean\n",
       "  that the widgets JavaScript is still loading. If this message persists, it\n",
       "  likely means that the widgets JavaScript library is either not installed or\n",
       "  not enabled. See the <a href=\"https://ipywidgets.readthedocs.io/en/stable/user_install.html\">Jupyter\n",
       "  Widgets Documentation</a> for setup instructions.\n",
       "</p>\n",
       "<p>\n",
       "  If you're reading this message in another frontend (for example, a static\n",
       "  rendering on GitHub or <a href=\"https://nbviewer.jupyter.org/\">NBViewer</a>),\n",
       "  it may mean that your frontend doesn't currently support widgets.\n",
       "</p>\n"
      ],
      "text/plain": [
       "HBox(children=(HBox(children=(Label(value='estimating MaximumLikelihoodMSM'),), layout=Layout(max_width='35%', min_width='35%')), HBox(children=(IntProgress(value=0, max=20), HTML(value='')), layout=Layout(padding='0 0 0 20px'))), layout=Layout(display='flex', width='100%'))"
      ]
     },
     "metadata": {},
     "output_type": "display_data"
    },
    {
     "name": "stdout",
     "output_type": "stream",
     "text": [
      "\r"
     ]
    },
    {
     "data": {
      "application/vnd.jupyter.widget-view+json": {
       "model_id": "67ebaac18b1040bc9aea54f0dd4bac9d",
       "version_major": 2,
       "version_minor": 0
      },
      "text/html": [
       "<p>Failed to display Jupyter Widget of type <code>HBox</code>.</p>\n",
       "<p>\n",
       "  If you're reading this message in the Jupyter Notebook or JupyterLab Notebook, it may mean\n",
       "  that the widgets JavaScript is still loading. If this message persists, it\n",
       "  likely means that the widgets JavaScript library is either not installed or\n",
       "  not enabled. See the <a href=\"https://ipywidgets.readthedocs.io/en/stable/user_install.html\">Jupyter\n",
       "  Widgets Documentation</a> for setup instructions.\n",
       "</p>\n",
       "<p>\n",
       "  If you're reading this message in another frontend (for example, a static\n",
       "  rendering on GitHub or <a href=\"https://nbviewer.jupyter.org/\">NBViewer</a>),\n",
       "  it may mean that your frontend doesn't currently support widgets.\n",
       "</p>\n"
      ],
      "text/plain": [
       "HBox(children=(HBox(children=(Label(value='estimating MaximumLikelihoodMSM'),), layout=Layout(max_width='35%', min_width='35%')), HBox(children=(IntProgress(value=0, max=20), HTML(value='')), layout=Layout(padding='0 0 0 20px'))), layout=Layout(display='flex', width='100%'))"
      ]
     },
     "metadata": {},
     "output_type": "display_data"
    },
    {
     "name": "stdout",
     "output_type": "stream",
     "text": [
      "\r"
     ]
    },
    {
     "data": {
      "application/vnd.jupyter.widget-view+json": {
       "model_id": "0dca8027ca3a4274abb5b15313ad55a6",
       "version_major": 2,
       "version_minor": 0
      },
      "text/html": [
       "<p>Failed to display Jupyter Widget of type <code>HBox</code>.</p>\n",
       "<p>\n",
       "  If you're reading this message in the Jupyter Notebook or JupyterLab Notebook, it may mean\n",
       "  that the widgets JavaScript is still loading. If this message persists, it\n",
       "  likely means that the widgets JavaScript library is either not installed or\n",
       "  not enabled. See the <a href=\"https://ipywidgets.readthedocs.io/en/stable/user_install.html\">Jupyter\n",
       "  Widgets Documentation</a> for setup instructions.\n",
       "</p>\n",
       "<p>\n",
       "  If you're reading this message in another frontend (for example, a static\n",
       "  rendering on GitHub or <a href=\"https://nbviewer.jupyter.org/\">NBViewer</a>),\n",
       "  it may mean that your frontend doesn't currently support widgets.\n",
       "</p>\n"
      ],
      "text/plain": [
       "HBox(children=(HBox(children=(Label(value='estimating MaximumLikelihoodMSM'),), layout=Layout(max_width='35%', min_width='35%')), HBox(children=(IntProgress(value=0, max=20), HTML(value='')), layout=Layout(padding='0 0 0 20px'))), layout=Layout(display='flex', width='100%'))"
      ]
     },
     "metadata": {},
     "output_type": "display_data"
    },
    {
     "name": "stdout",
     "output_type": "stream",
     "text": [
      "\r"
     ]
    },
    {
     "data": {
      "application/vnd.jupyter.widget-view+json": {
       "model_id": "737f2ed4157841bba338ddd43909e922",
       "version_major": 2,
       "version_minor": 0
      },
      "text/html": [
       "<p>Failed to display Jupyter Widget of type <code>HBox</code>.</p>\n",
       "<p>\n",
       "  If you're reading this message in the Jupyter Notebook or JupyterLab Notebook, it may mean\n",
       "  that the widgets JavaScript is still loading. If this message persists, it\n",
       "  likely means that the widgets JavaScript library is either not installed or\n",
       "  not enabled. See the <a href=\"https://ipywidgets.readthedocs.io/en/stable/user_install.html\">Jupyter\n",
       "  Widgets Documentation</a> for setup instructions.\n",
       "</p>\n",
       "<p>\n",
       "  If you're reading this message in another frontend (for example, a static\n",
       "  rendering on GitHub or <a href=\"https://nbviewer.jupyter.org/\">NBViewer</a>),\n",
       "  it may mean that your frontend doesn't currently support widgets.\n",
       "</p>\n"
      ],
      "text/plain": [
       "HBox(children=(HBox(children=(Label(value='estimating MaximumLikelihoodMSM'),), layout=Layout(max_width='35%', min_width='35%')), HBox(children=(IntProgress(value=0, max=20), HTML(value='')), layout=Layout(padding='0 0 0 20px'))), layout=Layout(display='flex', width='100%'))"
      ]
     },
     "metadata": {},
     "output_type": "display_data"
    },
    {
     "name": "stdout",
     "output_type": "stream",
     "text": [
      "\r"
     ]
    },
    {
     "data": {
      "application/vnd.jupyter.widget-view+json": {
       "model_id": "6e41fe23f9c842ea983644ce83e4aec7",
       "version_major": 2,
       "version_minor": 0
      },
      "text/html": [
       "<p>Failed to display Jupyter Widget of type <code>HBox</code>.</p>\n",
       "<p>\n",
       "  If you're reading this message in the Jupyter Notebook or JupyterLab Notebook, it may mean\n",
       "  that the widgets JavaScript is still loading. If this message persists, it\n",
       "  likely means that the widgets JavaScript library is either not installed or\n",
       "  not enabled. See the <a href=\"https://ipywidgets.readthedocs.io/en/stable/user_install.html\">Jupyter\n",
       "  Widgets Documentation</a> for setup instructions.\n",
       "</p>\n",
       "<p>\n",
       "  If you're reading this message in another frontend (for example, a static\n",
       "  rendering on GitHub or <a href=\"https://nbviewer.jupyter.org/\">NBViewer</a>),\n",
       "  it may mean that your frontend doesn't currently support widgets.\n",
       "</p>\n"
      ],
      "text/plain": [
       "HBox(children=(HBox(children=(Label(value='estimating MaximumLikelihoodMSM'),), layout=Layout(max_width='35%', min_width='35%')), HBox(children=(IntProgress(value=0, max=20), HTML(value='')), layout=Layout(padding='0 0 0 20px'))), layout=Layout(display='flex', width='100%'))"
      ]
     },
     "metadata": {},
     "output_type": "display_data"
    },
    {
     "name": "stdout",
     "output_type": "stream",
     "text": [
      "\r"
     ]
    },
    {
     "data": {
      "application/vnd.jupyter.widget-view+json": {
       "model_id": "b223dbcbff164958bd26092e2f0146fd",
       "version_major": 2,
       "version_minor": 0
      },
      "text/html": [
       "<p>Failed to display Jupyter Widget of type <code>HBox</code>.</p>\n",
       "<p>\n",
       "  If you're reading this message in the Jupyter Notebook or JupyterLab Notebook, it may mean\n",
       "  that the widgets JavaScript is still loading. If this message persists, it\n",
       "  likely means that the widgets JavaScript library is either not installed or\n",
       "  not enabled. See the <a href=\"https://ipywidgets.readthedocs.io/en/stable/user_install.html\">Jupyter\n",
       "  Widgets Documentation</a> for setup instructions.\n",
       "</p>\n",
       "<p>\n",
       "  If you're reading this message in another frontend (for example, a static\n",
       "  rendering on GitHub or <a href=\"https://nbviewer.jupyter.org/\">NBViewer</a>),\n",
       "  it may mean that your frontend doesn't currently support widgets.\n",
       "</p>\n"
      ],
      "text/plain": [
       "HBox(children=(HBox(children=(Label(value='estimating MaximumLikelihoodMSM'),), layout=Layout(max_width='35%', min_width='35%')), HBox(children=(IntProgress(value=0, max=20), HTML(value='')), layout=Layout(padding='0 0 0 20px'))), layout=Layout(display='flex', width='100%'))"
      ]
     },
     "metadata": {},
     "output_type": "display_data"
    },
    {
     "name": "stdout",
     "output_type": "stream",
     "text": [
      "\r"
     ]
    },
    {
     "data": {
      "application/vnd.jupyter.widget-view+json": {
       "model_id": "cda6451a2eb549a1ac10906fe26af82e",
       "version_major": 2,
       "version_minor": 0
      },
      "text/html": [
       "<p>Failed to display Jupyter Widget of type <code>HBox</code>.</p>\n",
       "<p>\n",
       "  If you're reading this message in the Jupyter Notebook or JupyterLab Notebook, it may mean\n",
       "  that the widgets JavaScript is still loading. If this message persists, it\n",
       "  likely means that the widgets JavaScript library is either not installed or\n",
       "  not enabled. See the <a href=\"https://ipywidgets.readthedocs.io/en/stable/user_install.html\">Jupyter\n",
       "  Widgets Documentation</a> for setup instructions.\n",
       "</p>\n",
       "<p>\n",
       "  If you're reading this message in another frontend (for example, a static\n",
       "  rendering on GitHub or <a href=\"https://nbviewer.jupyter.org/\">NBViewer</a>),\n",
       "  it may mean that your frontend doesn't currently support widgets.\n",
       "</p>\n"
      ],
      "text/plain": [
       "HBox(children=(HBox(children=(Label(value='estimating MaximumLikelihoodMSM'),), layout=Layout(max_width='35%', min_width='35%')), HBox(children=(IntProgress(value=0, max=20), HTML(value='')), layout=Layout(padding='0 0 0 20px'))), layout=Layout(display='flex', width='100%'))"
      ]
     },
     "metadata": {},
     "output_type": "display_data"
    },
    {
     "name": "stdout",
     "output_type": "stream",
     "text": [
      "\r"
     ]
    },
    {
     "data": {
      "application/vnd.jupyter.widget-view+json": {
       "model_id": "587315a6b4a0496badbd65b0e58239eb",
       "version_major": 2,
       "version_minor": 0
      },
      "text/html": [
       "<p>Failed to display Jupyter Widget of type <code>HBox</code>.</p>\n",
       "<p>\n",
       "  If you're reading this message in the Jupyter Notebook or JupyterLab Notebook, it may mean\n",
       "  that the widgets JavaScript is still loading. If this message persists, it\n",
       "  likely means that the widgets JavaScript library is either not installed or\n",
       "  not enabled. See the <a href=\"https://ipywidgets.readthedocs.io/en/stable/user_install.html\">Jupyter\n",
       "  Widgets Documentation</a> for setup instructions.\n",
       "</p>\n",
       "<p>\n",
       "  If you're reading this message in another frontend (for example, a static\n",
       "  rendering on GitHub or <a href=\"https://nbviewer.jupyter.org/\">NBViewer</a>),\n",
       "  it may mean that your frontend doesn't currently support widgets.\n",
       "</p>\n"
      ],
      "text/plain": [
       "HBox(children=(HBox(children=(Label(value='estimating MaximumLikelihoodMSM'),), layout=Layout(max_width='35%', min_width='35%')), HBox(children=(IntProgress(value=0, max=20), HTML(value='')), layout=Layout(padding='0 0 0 20px'))), layout=Layout(display='flex', width='100%'))"
      ]
     },
     "metadata": {},
     "output_type": "display_data"
    },
    {
     "name": "stdout",
     "output_type": "stream",
     "text": [
      "\r"
     ]
    },
    {
     "data": {
      "application/vnd.jupyter.widget-view+json": {
       "model_id": "77680604590c48f8898ddd420fb85fb9",
       "version_major": 2,
       "version_minor": 0
      },
      "text/html": [
       "<p>Failed to display Jupyter Widget of type <code>HBox</code>.</p>\n",
       "<p>\n",
       "  If you're reading this message in the Jupyter Notebook or JupyterLab Notebook, it may mean\n",
       "  that the widgets JavaScript is still loading. If this message persists, it\n",
       "  likely means that the widgets JavaScript library is either not installed or\n",
       "  not enabled. See the <a href=\"https://ipywidgets.readthedocs.io/en/stable/user_install.html\">Jupyter\n",
       "  Widgets Documentation</a> for setup instructions.\n",
       "</p>\n",
       "<p>\n",
       "  If you're reading this message in another frontend (for example, a static\n",
       "  rendering on GitHub or <a href=\"https://nbviewer.jupyter.org/\">NBViewer</a>),\n",
       "  it may mean that your frontend doesn't currently support widgets.\n",
       "</p>\n"
      ],
      "text/plain": [
       "HBox(children=(HBox(children=(Label(value='estimating MaximumLikelihoodMSM'),), layout=Layout(max_width='35%', min_width='35%')), HBox(children=(IntProgress(value=0, max=20), HTML(value='')), layout=Layout(padding='0 0 0 20px'))), layout=Layout(display='flex', width='100%'))"
      ]
     },
     "metadata": {},
     "output_type": "display_data"
    },
    {
     "name": "stdout",
     "output_type": "stream",
     "text": [
      "\r"
     ]
    },
    {
     "data": {
      "application/vnd.jupyter.widget-view+json": {
       "model_id": "a212865c12d74c6380e0ab880ad6b485",
       "version_major": 2,
       "version_minor": 0
      },
      "text/html": [
       "<p>Failed to display Jupyter Widget of type <code>HBox</code>.</p>\n",
       "<p>\n",
       "  If you're reading this message in the Jupyter Notebook or JupyterLab Notebook, it may mean\n",
       "  that the widgets JavaScript is still loading. If this message persists, it\n",
       "  likely means that the widgets JavaScript library is either not installed or\n",
       "  not enabled. See the <a href=\"https://ipywidgets.readthedocs.io/en/stable/user_install.html\">Jupyter\n",
       "  Widgets Documentation</a> for setup instructions.\n",
       "</p>\n",
       "<p>\n",
       "  If you're reading this message in another frontend (for example, a static\n",
       "  rendering on GitHub or <a href=\"https://nbviewer.jupyter.org/\">NBViewer</a>),\n",
       "  it may mean that your frontend doesn't currently support widgets.\n",
       "</p>\n"
      ],
      "text/plain": [
       "HBox(children=(HBox(children=(Label(value='estimating MaximumLikelihoodMSM'),), layout=Layout(max_width='35%', min_width='35%')), HBox(children=(IntProgress(value=0, max=20), HTML(value='')), layout=Layout(padding='0 0 0 20px'))), layout=Layout(display='flex', width='100%'))"
      ]
     },
     "metadata": {},
     "output_type": "display_data"
    },
    {
     "name": "stdout",
     "output_type": "stream",
     "text": [
      "\r"
     ]
    }
   ],
   "source": [
    "for dtraj in all_dtrajs:\n",
    "    its = pyemma.msm.its(dtraj, 500*5)\n",
    "    all_itss.append(its)"
   ]
  },
  {
   "cell_type": "code",
   "execution_count": 27,
   "metadata": {},
   "outputs": [],
   "source": [
    "import numpy as _np\n",
    "from pyemma.util.types import  is_iterable_of_int as _is_iterable_of_int, is_int as _is_int\n",
    "\n",
    "def plot_implied_timescales(ITS, ax=None, outfile=None, show_mle=True, show_mean=True,\n",
    "                            xlog=False, ylog=True, confidence=0.95, refs=None, nits=-1,\n",
    "                            process=None, units='steps', dt=1., colors = ['blue'], **kwargs):\n",
    "    r\"\"\"Implied timescale plot\n",
    "    Parameters\n",
    "    ----------\n",
    "    ITS : implied timescales object.\n",
    "        Object whose data will be plotted. Must provide the functions: get_timescales() and get_timescales(i) where i is the\n",
    "        the property samples_available\n",
    "    ax : matplotlib Axes object, optional, default = None\n",
    "        the axes to plot to. When set to None the default Axes object will be used.\n",
    "    outfile : str, optional, default = None\n",
    "        output file to write the figure to. When not given, the plot will be displayed\n",
    "    show_mean : bool, default = True\n",
    "        Line for mean value will be shown, if available\n",
    "    show_mle : bool, default = True\n",
    "        Line for maximum likelihood estimate will be shown\n",
    "    xlog : bool, optional, default = False\n",
    "        Iff true, the x-Axis is logarithmized\n",
    "    ylog : bool, optional, default = True\n",
    "        Iff true, the y-Axis is logarithmized\n",
    "    confidence : float, optional, default = 0.95\n",
    "        The confidence interval for plotting error bars (if available)\n",
    "    refs : ndarray((m), dtype=float), optional, default = None\n",
    "        Reference (exact solution or other reference) timescales if known. The number of timescales must match those\n",
    "        in the ITS object\n",
    "    nits: integer, default = -1\n",
    "        Number of implied timescales to be shown. The default behaviour (-1) is to show all timescales available.\n",
    "        :py:obj:`nits` != -1 and :py:obj:`process` != None are mutually exclusive\n",
    "    process : iterable of integers, default is None\n",
    "        list or ndarray((m), dtype=int) containing a list of the processes to be shown. The default behaviour is\n",
    "        to show all timescales available.\n",
    "        :py:obj:`process` != None and :py:obj:`nits` != -1 are mutually exclusive\n",
    "    units: str or list (len=2) of strings, optional, default = 'steps'\n",
    "        Affects the labeling of the axes. Used with :py:obj:`dt`, allows for changing the physical units of the axes.\n",
    "        Accepts simple LaTeX math strings, eg. '$\\mu$s'\n",
    "        If this parameter is a list, it will be assumed that units[0] is for the x-axis and units[1] for the y-axis.\n",
    "    dt: float or list(len=2) of floats, optional, default = 1.0\n",
    "        Physical time between frames, expressed the units given in :py:obj:`units`. E.g, if you know that each\n",
    "        frame corresponds to .010 ns, you can use the combination of parameters :py:obj:`dt` =0.01,\n",
    "        :py:obj:`units` ='ns' to display the implied timescales in ns (instead of frames)\n",
    "        If this parameter is a list, it will be assumed that dt[0] is for the x-axis and dt[1] for the y-axis.\n",
    "    **kwargs: Will be passed to pyplot.plot when plotting the MLE datapoints (not the bootstrapped means).\n",
    "            See the doc of pyplot for more options. Most useful lineproperties like `marker='o'` and/or :markersize=5\n",
    "    Returns\n",
    "    -------\n",
    "    ax : Axes object containing the plot\n",
    "    \"\"\"\n",
    "    import matplotlib.pyplot as _plt\n",
    "    # check input\n",
    "    if ax is None:\n",
    "        ax = _plt.gca()\n",
    "    #colors = ['blue', 'red', 'green', 'cyan', 'purple', 'orange', 'violet']\n",
    "    lags = ITS.lagtimes\n",
    "    xmax = _np.max(lags)\n",
    "    srt = _np.argsort(lags)\n",
    "    # Check the processes to be shown\n",
    "    if process is not None:\n",
    "        if nits != -1:\n",
    "            raise TypeError(\n",
    "                'optional arguments nits and process are mutually exclusive:', nits, process)\n",
    "        if not _is_iterable_of_int(process):\n",
    "            raise ValueError('process has to be an iterable of integers')\n",
    "        if _np.max(process)+1 > ITS.number_of_timescales:\n",
    "            raise ValueError(\n",
    "                'requested process %u, whereas ITS only contains %u timescales' % (\n",
    "                    _np.max(process), ITS.number_of_timescales))\n",
    "        # Now that it's for sure that nits==-1, process is iter_of_ints, and the requested processes exist in its object:\n",
    "        its_idx = process\n",
    "    else:\n",
    "        if not _is_int(nits):\n",
    "            raise TypeError('nits is not an integer, ',nits)\n",
    "        if nits == -1:\n",
    "            nits = ITS.number_of_timescales\n",
    "        its_idx = _np.arange(ITS.number_of_timescales)[:nits]\n",
    "    # Check units and dt for user error.\n",
    "    if isinstance(units, list) and len(units) != 2:\n",
    "        raise TypeError(\"If units is a list, len(units) has to be = 2\")\n",
    "    if isinstance(dt, list) and len(dt) != 2:\n",
    "        raise TypeError(\"If dt is a list, len(dt) has to be = 2\")\n",
    "    # Create list of units and dts for different axis\n",
    "    if isinstance(units, str):\n",
    "        units = [units] * 2\n",
    "    if isinstance(dt, (float, int)):\n",
    "        dt = [dt] * 2\n",
    "    #ymin = min(_np.min(lags), _np.min(ITS.get_timescales()))\n",
    "    #ymax = 1.5*_np.min(ITS.get_timescales())\n",
    "    for i in its_idx:\n",
    "        # plot estimate\n",
    "        if show_mle:\n",
    "            ax.plot(\n",
    "                lags[srt] * dt[0], ITS.get_timescales(process=i)[srt] * dt[1],\n",
    "                color=colors[i % len(colors)], **kwargs)\n",
    "        # sample available?\n",
    "        if ITS.samples_available:# and ITS.sample_number_of_timescales > i):\n",
    "            # plot sample mean\n",
    "            if show_mean:\n",
    "                ax.plot(\n",
    "                    lags[srt] * dt[0], ITS.get_sample_mean(process=i)[srt] * dt[1], marker='o',\n",
    "                    color=colors[i % len(colors)], linestyle='dashed')\n",
    "            (lconf, rconf) = ITS.get_sample_conf(confidence, i)\n",
    "            ax.fill_between(\n",
    "                lags[srt] * dt[0], lconf[srt] * dt[1], rconf[srt] * dt[1],\n",
    "                alpha=0.2, color=colors[i % len(colors)])\n",
    "        # reference available?\n",
    "        if refs is not None:\n",
    "            tref = refs[i] * dt[1]\n",
    "            ax.plot([0, min(tref, xmax) * dt[0]], [tref, tref], color='black', linewidth=1)\n",
    "    # cutoff\n",
    "    ax.plot(lags[srt] * dt[0], lags[srt] * dt[1], linewidth=2, color='black')\n",
    "    ax.set_xlim([1.0 * dt[0], xmax * dt[0]])\n",
    "    #ax.set_ylim([ymin,ymax])\n",
    "    ax.fill_between(\n",
    "        lags[srt] * dt[0], ax.get_ylim()[0]*_np.ones(len(lags))*dt[1], lags[srt] * dt[1],\n",
    "        alpha=0.5, color='grey')\n",
    "    # formatting\n",
    "    ax.set_xlabel('lag time / %s' % units[0])\n",
    "    ax.set_ylabel('timescale / %s' % units[1])\n",
    "    if (xlog):\n",
    "        ax.set_xscale('log')\n",
    "    if (ylog):\n",
    "        ax.set_yscale('log')\n",
    "    # show or save\n",
    "    # if outfile is None:\n",
    "    #    _plt.show()\n",
    "    if outfile is not None:\n",
    "        _plt.savefig(outfile)\n",
    "    return ax"
   ]
  },
  {
   "cell_type": "code",
   "execution_count": 41,
   "metadata": {},
   "outputs": [
    {
     "data": {
      "image/png": "[encoded data removed]",
      "text/plain": [
       "<matplotlib.figure.Figure at 0x1a7c350780>"
      ]
     },
     "metadata": {},
     "output_type": "display_data"
    }
   ],
   "source": [
    "nits = 2\n",
    "\n",
    "plt.figure(dpi=100)\n",
    "plot_implied_timescales(all_itss[0], ylog=False, dt=0.2, units='ns', nits=nits, colors=['blue'], show_mean=True, label='1')\n",
    "plot_implied_timescales(all_itss[1], ylog=False, dt=0.2, units='ns', nits=nits, colors=['red'], show_mean=True, label='2')\n",
    "plot_implied_timescales(all_itss[2], ylog=False, dt=0.2, units='ns', nits=nits, colors=['green'], show_mean=True, label='3')\n",
    "plot_implied_timescales(all_itss[3], ylog=False, dt=0.2, units='ns', nits=nits, colors=['orange'], show_mean=True, label='4')\n",
    "plot_implied_timescales(all_itss[4], ylog=False, dt=0.2, units='ns', nits=nits, colors=['pink'], show_mean=True, label='5')\n",
    "plot_implied_timescales(all_itss[5], ylog=False, dt=0.2, units='ns', nits=nits, colors=['yellow'], show_mean=True, label='6')\n",
    "plot_implied_timescales(all_itss[6], ylog=False, dt=0.2, units='ns', nits=nits, colors=['black'], show_mean=True, label='7')\n",
    "plot_implied_timescales(all_itss[7], ylog=False, dt=0.2, units='ns', nits=nits, colors=['brown'], show_mean=True, label='8')\n",
    "plot_implied_timescales(all_itss[8], ylog=False, dt=0.2, units='ns', nits=nits, colors=['navy'], show_mean=True, label='9')\n",
    "plot_implied_timescales(all_itss[9], ylog=False, dt=0.2, units='ns', nits=nits, colors=['purple'], show_mean=True, label='10')\n",
    "#plt.legend()\n",
    "#plt.axvline(10, c='red')\n",
    "plt.title('Chignolin 150 ns - top, mediocre, bad')\n",
    "plt.xticks(np.arange(0,500,100))\n",
    "plt.yscale('log')\n",
    "plt.tight_layout()"
   ]
  },
  {
   "cell_type": "code",
   "execution_count": 42,
   "metadata": {},
   "outputs": [
    {
     "data": {
      "image/png": "[encoded data removed]",
      "text/plain": [
       "<matplotlib.figure.Figure at 0x1a7c484e10>"
      ]
     },
     "metadata": {},
     "output_type": "display_data"
    }
   ],
   "source": [
    "nits = 1\n",
    "\n",
    "plt.figure(dpi=100)\n",
    "plot_implied_timescales(all_itss[0], ylog=False, dt=0.2, units='ns', nits=nits, colors=['blue'], show_mean=True, label='1')\n",
    "plot_implied_timescales(all_itss[1], ylog=False, dt=0.2, units='ns', nits=nits, colors=['red'], show_mean=True, label='2')\n",
    "plot_implied_timescales(all_itss[2], ylog=False, dt=0.2, units='ns', nits=nits, colors=['green'], show_mean=True, label='3')\n",
    "plot_implied_timescales(all_itss[3], ylog=False, dt=0.2, units='ns', nits=nits, colors=['orange'], show_mean=True, label='4')\n",
    "plot_implied_timescales(all_itss[4], ylog=False, dt=0.2, units='ns', nits=nits, colors=['pink'], show_mean=True, label='5')\n",
    "plot_implied_timescales(all_itss[5], ylog=False, dt=0.2, units='ns', nits=nits, colors=['yellow'], show_mean=True, label='6')\n",
    "plot_implied_timescales(all_itss[6], ylog=False, dt=0.2, units='ns', nits=nits, colors=['black'], show_mean=True, label='7')\n",
    "plot_implied_timescales(all_itss[7], ylog=False, dt=0.2, units='ns', nits=nits, colors=['brown'], show_mean=True, label='8')\n",
    "plot_implied_timescales(all_itss[8], ylog=False, dt=0.2, units='ns', nits=nits, colors=['navy'], show_mean=True, label='9')\n",
    "plot_implied_timescales(all_itss[9], ylog=False, dt=0.2, units='ns', nits=nits, colors=['purple'], show_mean=True, label='10')\n",
    "plt.legend()\n",
    "#plt.axvline(10, c='red')\n",
    "plt.title('Chignolin 150 ns - top, mediocre, bad')\n",
    "plt.xticks(np.arange(0,500,100))\n",
    "#plt.yscale('log')\n",
    "plt.tight_layout()"
   ]
  },
  {
   "cell_type": "code",
   "execution_count": 44,
   "metadata": {},
   "outputs": [
    {
     "data": {
      "image/png": "[encoded data removed]",
      "text/plain": [
       "<matplotlib.figure.Figure at 0x1a7c620860>"
      ]
     },
     "metadata": {},
     "output_type": "display_data"
    }
   ],
   "source": [
    "process = [2]\n",
    "\n",
    "plt.figure(dpi=100)\n",
    "plot_implied_timescales(all_itss[0], ylog=False, dt=0.2, units='ns', process=process, colors=['blue'], show_mean=True, label='1')\n",
    "plot_implied_timescales(all_itss[1], ylog=False, dt=0.2, units='ns', process=process, colors=['red'], show_mean=True, label='2')\n",
    "plot_implied_timescales(all_itss[2], ylog=False, dt=0.2, units='ns', process=process, colors=['green'], show_mean=True, label='3')\n",
    "plot_implied_timescales(all_itss[3], ylog=False, dt=0.2, units='ns', process=process, colors=['orange'], show_mean=True, label='4')\n",
    "plot_implied_timescales(all_itss[4], ylog=False, dt=0.2, units='ns', process=process, colors=['pink'], show_mean=True, label='5')\n",
    "plot_implied_timescales(all_itss[5], ylog=False, dt=0.2, units='ns', process=process, colors=['yellow'], show_mean=True, label='6')\n",
    "plot_implied_timescales(all_itss[6], ylog=False, dt=0.2, units='ns', process=process, colors=['black'], show_mean=True, label='7')\n",
    "plot_implied_timescales(all_itss[7], ylog=False, dt=0.2, units='ns', process=process, colors=['brown'], show_mean=True, label='8')\n",
    "plot_implied_timescales(all_itss[8], ylog=False, dt=0.2, units='ns', process=process, colors=['navy'], show_mean=True, label='9')\n",
    "plot_implied_timescales(all_itss[9], ylog=False, dt=0.2, units='ns', process=process, colors=['purple'], show_mean=True, label='10')\n",
    "plt.legend()\n",
    "#plt.axvline(10, c='red')\n",
    "plt.title('Chignolin 150 ns - top, mediocre, bad')\n",
    "plt.xticks(np.arange(0,500,100))\n",
    "#plt.yscale('log')\n",
    "plt.tight_layout()"
   ]
  },
  {
   "cell_type": "code",
   "execution_count": 71,
   "metadata": {},
   "outputs": [],
   "source": [
    "all_cktests = []"
   ]
  },
  {
   "cell_type": "code",
   "execution_count": 74,
   "metadata": {
    "scrolled": false
   },
   "outputs": [
    {
     "data": {
      "application/vnd.jupyter.widget-view+json": {
       "model_id": "2e10ef19ee674284bdc79205ee91850a",
       "version_major": 2,
       "version_minor": 0
      },
      "text/html": [
       "<p>Failed to display Jupyter Widget of type <code>HBox</code>.</p>\n",
       "<p>\n",
       "  If you're reading this message in the Jupyter Notebook or JupyterLab Notebook, it may mean\n",
       "  that the widgets JavaScript is still loading. If this message persists, it\n",
       "  likely means that the widgets JavaScript library is either not installed or\n",
       "  not enabled. See the <a href=\"https://ipywidgets.readthedocs.io/en/stable/user_install.html\">Jupyter\n",
       "  Widgets Documentation</a> for setup instructions.\n",
       "</p>\n",
       "<p>\n",
       "  If you're reading this message in another frontend (for example, a static\n",
       "  rendering on GitHub or <a href=\"https://nbviewer.jupyter.org/\">NBViewer</a>),\n",
       "  it may mean that your frontend doesn't currently support widgets.\n",
       "</p>\n"
      ],
      "text/plain": [
       "HBox(children=(HBox(children=(Label(value='estimating MaximumLikelihoodMSM'),), layout=Layout(max_width='35%', min_width='35%')), HBox(children=(IntProgress(value=0, max=14), HTML(value='')), layout=Layout(padding='0 0 0 20px'))), layout=Layout(display='flex', width='100%'))"
      ]
     },
     "metadata": {},
     "output_type": "display_data"
    },
    {
     "name": "stdout",
     "output_type": "stream",
     "text": [
      "\r"
     ]
    },
    {
     "data": {
      "application/vnd.jupyter.widget-view+json": {
       "model_id": "653b471247d24143ab993dc89c8b66a0",
       "version_major": 2,
       "version_minor": 0
      },
      "text/html": [
       "<p>Failed to display Jupyter Widget of type <code>HBox</code>.</p>\n",
       "<p>\n",
       "  If you're reading this message in the Jupyter Notebook or JupyterLab Notebook, it may mean\n",
       "  that the widgets JavaScript is still loading. If this message persists, it\n",
       "  likely means that the widgets JavaScript library is either not installed or\n",
       "  not enabled. See the <a href=\"https://ipywidgets.readthedocs.io/en/stable/user_install.html\">Jupyter\n",
       "  Widgets Documentation</a> for setup instructions.\n",
       "</p>\n",
       "<p>\n",
       "  If you're reading this message in another frontend (for example, a static\n",
       "  rendering on GitHub or <a href=\"https://nbviewer.jupyter.org/\">NBViewer</a>),\n",
       "  it may mean that your frontend doesn't currently support widgets.\n",
       "</p>\n"
      ],
      "text/plain": [
       "HBox(children=(HBox(children=(Label(value='estimating MaximumLikelihoodMSM'),), layout=Layout(max_width='35%', min_width='35%')), HBox(children=(IntProgress(value=0, max=14), HTML(value='')), layout=Layout(padding='0 0 0 20px'))), layout=Layout(display='flex', width='100%'))"
      ]
     },
     "metadata": {},
     "output_type": "display_data"
    },
    {
     "name": "stdout",
     "output_type": "stream",
     "text": [
      "\r"
     ]
    },
    {
     "data": {
      "application/vnd.jupyter.widget-view+json": {
       "model_id": "9df70fb5eaa1442cb8e69ab5b63065f8",
       "version_major": 2,
       "version_minor": 0
      },
      "text/html": [
       "<p>Failed to display Jupyter Widget of type <code>HBox</code>.</p>\n",
       "<p>\n",
       "  If you're reading this message in the Jupyter Notebook or JupyterLab Notebook, it may mean\n",
       "  that the widgets JavaScript is still loading. If this message persists, it\n",
       "  likely means that the widgets JavaScript library is either not installed or\n",
       "  not enabled. See the <a href=\"https://ipywidgets.readthedocs.io/en/stable/user_install.html\">Jupyter\n",
       "  Widgets Documentation</a> for setup instructions.\n",
       "</p>\n",
       "<p>\n",
       "  If you're reading this message in another frontend (for example, a static\n",
       "  rendering on GitHub or <a href=\"https://nbviewer.jupyter.org/\">NBViewer</a>),\n",
       "  it may mean that your frontend doesn't currently support widgets.\n",
       "</p>\n"
      ],
      "text/plain": [
       "HBox(children=(HBox(children=(Label(value='estimating MaximumLikelihoodMSM'),), layout=Layout(max_width='35%', min_width='35%')), HBox(children=(IntProgress(value=0, max=14), HTML(value='')), layout=Layout(padding='0 0 0 20px'))), layout=Layout(display='flex', width='100%'))"
      ]
     },
     "metadata": {},
     "output_type": "display_data"
    },
    {
     "name": "stdout",
     "output_type": "stream",
     "text": [
      "\r"
     ]
    },
    {
     "data": {
      "application/vnd.jupyter.widget-view+json": {
       "model_id": "76492829846f404cbbc5d0a8b0e8cc28",
       "version_major": 2,
       "version_minor": 0
      },
      "text/html": [
       "<p>Failed to display Jupyter Widget of type <code>HBox</code>.</p>\n",
       "<p>\n",
       "  If you're reading this message in the Jupyter Notebook or JupyterLab Notebook, it may mean\n",
       "  that the widgets JavaScript is still loading. If this message persists, it\n",
       "  likely means that the widgets JavaScript library is either not installed or\n",
       "  not enabled. See the <a href=\"https://ipywidgets.readthedocs.io/en/stable/user_install.html\">Jupyter\n",
       "  Widgets Documentation</a> for setup instructions.\n",
       "</p>\n",
       "<p>\n",
       "  If you're reading this message in another frontend (for example, a static\n",
       "  rendering on GitHub or <a href=\"https://nbviewer.jupyter.org/\">NBViewer</a>),\n",
       "  it may mean that your frontend doesn't currently support widgets.\n",
       "</p>\n"
      ],
      "text/plain": [
       "HBox(children=(HBox(children=(Label(value='estimating MaximumLikelihoodMSM'),), layout=Layout(max_width='35%', min_width='35%')), HBox(children=(IntProgress(value=0, max=14), HTML(value='')), layout=Layout(padding='0 0 0 20px'))), layout=Layout(display='flex', width='100%'))"
      ]
     },
     "metadata": {},
     "output_type": "display_data"
    },
    {
     "name": "stdout",
     "output_type": "stream",
     "text": [
      "\r"
     ]
    },
    {
     "data": {
      "application/vnd.jupyter.widget-view+json": {
       "model_id": "5f5f5c29e6a64aabade2e7c856f62670",
       "version_major": 2,
       "version_minor": 0
      },
      "text/html": [
       "<p>Failed to display Jupyter Widget of type <code>HBox</code>.</p>\n",
       "<p>\n",
       "  If you're reading this message in the Jupyter Notebook or JupyterLab Notebook, it may mean\n",
       "  that the widgets JavaScript is still loading. If this message persists, it\n",
       "  likely means that the widgets JavaScript library is either not installed or\n",
       "  not enabled. See the <a href=\"https://ipywidgets.readthedocs.io/en/stable/user_install.html\">Jupyter\n",
       "  Widgets Documentation</a> for setup instructions.\n",
       "</p>\n",
       "<p>\n",
       "  If you're reading this message in another frontend (for example, a static\n",
       "  rendering on GitHub or <a href=\"https://nbviewer.jupyter.org/\">NBViewer</a>),\n",
       "  it may mean that your frontend doesn't currently support widgets.\n",
       "</p>\n"
      ],
      "text/plain": [
       "HBox(children=(HBox(children=(Label(value='estimating MaximumLikelihoodMSM'),), layout=Layout(max_width='35%', min_width='35%')), HBox(children=(IntProgress(value=0, max=14), HTML(value='')), layout=Layout(padding='0 0 0 20px'))), layout=Layout(display='flex', width='100%'))"
      ]
     },
     "metadata": {},
     "output_type": "display_data"
    },
    {
     "name": "stdout",
     "output_type": "stream",
     "text": [
      "\r"
     ]
    },
    {
     "data": {
      "application/vnd.jupyter.widget-view+json": {
       "model_id": "ddb69609a1fc4e029ed5539de68f48ef",
       "version_major": 2,
       "version_minor": 0
      },
      "text/html": [
       "<p>Failed to display Jupyter Widget of type <code>HBox</code>.</p>\n",
       "<p>\n",
       "  If you're reading this message in the Jupyter Notebook or JupyterLab Notebook, it may mean\n",
       "  that the widgets JavaScript is still loading. If this message persists, it\n",
       "  likely means that the widgets JavaScript library is either not installed or\n",
       "  not enabled. See the <a href=\"https://ipywidgets.readthedocs.io/en/stable/user_install.html\">Jupyter\n",
       "  Widgets Documentation</a> for setup instructions.\n",
       "</p>\n",
       "<p>\n",
       "  If you're reading this message in another frontend (for example, a static\n",
       "  rendering on GitHub or <a href=\"https://nbviewer.jupyter.org/\">NBViewer</a>),\n",
       "  it may mean that your frontend doesn't currently support widgets.\n",
       "</p>\n"
      ],
      "text/plain": [
       "HBox(children=(HBox(children=(Label(value='estimating MaximumLikelihoodMSM'),), layout=Layout(max_width='35%', min_width='35%')), HBox(children=(IntProgress(value=0, max=14), HTML(value='')), layout=Layout(padding='0 0 0 20px'))), layout=Layout(display='flex', width='100%'))"
      ]
     },
     "metadata": {},
     "output_type": "display_data"
    },
    {
     "name": "stdout",
     "output_type": "stream",
     "text": [
      "\r"
     ]
    },
    {
     "data": {
      "application/vnd.jupyter.widget-view+json": {
       "model_id": "e344c96a9cf94a6e906ca46387fddd0c",
       "version_major": 2,
       "version_minor": 0
      },
      "text/html": [
       "<p>Failed to display Jupyter Widget of type <code>HBox</code>.</p>\n",
       "<p>\n",
       "  If you're reading this message in the Jupyter Notebook or JupyterLab Notebook, it may mean\n",
       "  that the widgets JavaScript is still loading. If this message persists, it\n",
       "  likely means that the widgets JavaScript library is either not installed or\n",
       "  not enabled. See the <a href=\"https://ipywidgets.readthedocs.io/en/stable/user_install.html\">Jupyter\n",
       "  Widgets Documentation</a> for setup instructions.\n",
       "</p>\n",
       "<p>\n",
       "  If you're reading this message in another frontend (for example, a static\n",
       "  rendering on GitHub or <a href=\"https://nbviewer.jupyter.org/\">NBViewer</a>),\n",
       "  it may mean that your frontend doesn't currently support widgets.\n",
       "</p>\n"
      ],
      "text/plain": [
       "HBox(children=(HBox(children=(Label(value='estimating MaximumLikelihoodMSM'),), layout=Layout(max_width='35%', min_width='35%')), HBox(children=(IntProgress(value=0, max=14), HTML(value='')), layout=Layout(padding='0 0 0 20px'))), layout=Layout(display='flex', width='100%'))"
      ]
     },
     "metadata": {},
     "output_type": "display_data"
    },
    {
     "name": "stdout",
     "output_type": "stream",
     "text": [
      "\r"
     ]
    },
    {
     "data": {
      "application/vnd.jupyter.widget-view+json": {
       "model_id": "7a6f090007ae47ec8a280a43be9aca56",
       "version_major": 2,
       "version_minor": 0
      },
      "text/html": [
       "<p>Failed to display Jupyter Widget of type <code>HBox</code>.</p>\n",
       "<p>\n",
       "  If you're reading this message in the Jupyter Notebook or JupyterLab Notebook, it may mean\n",
       "  that the widgets JavaScript is still loading. If this message persists, it\n",
       "  likely means that the widgets JavaScript library is either not installed or\n",
       "  not enabled. See the <a href=\"https://ipywidgets.readthedocs.io/en/stable/user_install.html\">Jupyter\n",
       "  Widgets Documentation</a> for setup instructions.\n",
       "</p>\n",
       "<p>\n",
       "  If you're reading this message in another frontend (for example, a static\n",
       "  rendering on GitHub or <a href=\"https://nbviewer.jupyter.org/\">NBViewer</a>),\n",
       "  it may mean that your frontend doesn't currently support widgets.\n",
       "</p>\n"
      ],
      "text/plain": [
       "HBox(children=(HBox(children=(Label(value='estimating MaximumLikelihoodMSM'),), layout=Layout(max_width='35%', min_width='35%')), HBox(children=(IntProgress(value=0, max=14), HTML(value='')), layout=Layout(padding='0 0 0 20px'))), layout=Layout(display='flex', width='100%'))"
      ]
     },
     "metadata": {},
     "output_type": "display_data"
    },
    {
     "name": "stdout",
     "output_type": "stream",
     "text": [
      "\r"
     ]
    },
    {
     "data": {
      "application/vnd.jupyter.widget-view+json": {
       "model_id": "d6c1e054b1ee4abb92aaab55fda191a8",
       "version_major": 2,
       "version_minor": 0
      },
      "text/html": [
       "<p>Failed to display Jupyter Widget of type <code>HBox</code>.</p>\n",
       "<p>\n",
       "  If you're reading this message in the Jupyter Notebook or JupyterLab Notebook, it may mean\n",
       "  that the widgets JavaScript is still loading. If this message persists, it\n",
       "  likely means that the widgets JavaScript library is either not installed or\n",
       "  not enabled. See the <a href=\"https://ipywidgets.readthedocs.io/en/stable/user_install.html\">Jupyter\n",
       "  Widgets Documentation</a> for setup instructions.\n",
       "</p>\n",
       "<p>\n",
       "  If you're reading this message in another frontend (for example, a static\n",
       "  rendering on GitHub or <a href=\"https://nbviewer.jupyter.org/\">NBViewer</a>),\n",
       "  it may mean that your frontend doesn't currently support widgets.\n",
       "</p>\n"
      ],
      "text/plain": [
       "HBox(children=(HBox(children=(Label(value='estimating MaximumLikelihoodMSM'),), layout=Layout(max_width='35%', min_width='35%')), HBox(children=(IntProgress(value=0, max=14), HTML(value='')), layout=Layout(padding='0 0 0 20px'))), layout=Layout(display='flex', width='100%'))"
      ]
     },
     "metadata": {},
     "output_type": "display_data"
    },
    {
     "name": "stdout",
     "output_type": "stream",
     "text": [
      "\r"
     ]
    },
    {
     "data": {
      "application/vnd.jupyter.widget-view+json": {
       "model_id": "43d08e78e58649deb51ea131b805bcbe",
       "version_major": 2,
       "version_minor": 0
      },
      "text/html": [
       "<p>Failed to display Jupyter Widget of type <code>HBox</code>.</p>\n",
       "<p>\n",
       "  If you're reading this message in the Jupyter Notebook or JupyterLab Notebook, it may mean\n",
       "  that the widgets JavaScript is still loading. If this message persists, it\n",
       "  likely means that the widgets JavaScript library is either not installed or\n",
       "  not enabled. See the <a href=\"https://ipywidgets.readthedocs.io/en/stable/user_install.html\">Jupyter\n",
       "  Widgets Documentation</a> for setup instructions.\n",
       "</p>\n",
       "<p>\n",
       "  If you're reading this message in another frontend (for example, a static\n",
       "  rendering on GitHub or <a href=\"https://nbviewer.jupyter.org/\">NBViewer</a>),\n",
       "  it may mean that your frontend doesn't currently support widgets.\n",
       "</p>\n"
      ],
      "text/plain": [
       "HBox(children=(HBox(children=(Label(value='estimating MaximumLikelihoodMSM'),), layout=Layout(max_width='35%', min_width='35%')), HBox(children=(IntProgress(value=0, max=14), HTML(value='')), layout=Layout(padding='0 0 0 20px'))), layout=Layout(display='flex', width='100%'))"
      ]
     },
     "metadata": {},
     "output_type": "display_data"
    },
    {
     "name": "stdout",
     "output_type": "stream",
     "text": [
      "\r"
     ]
    }
   ],
   "source": [
    "for msm in all_msms:\n",
    "    cktest = msm.cktest(2, mlags=np.arange(15))\n",
    "    all_cktests.append(cktest)"
   ]
  },
  {
   "cell_type": "code",
   "execution_count": 88,
   "metadata": {},
   "outputs": [
    {
     "data": {
      "text/plain": [
       "<matplotlib.figure.Figure at 0x1a1b75b7b8>"
      ]
     },
     "metadata": {},
     "output_type": "display_data"
    },
    {
     "data": {
      "image/png": "[encoded data removed]",
      "text/plain": [
       "<matplotlib.figure.Figure at 0x1a1b75bb70>"
      ]
     },
     "metadata": {},
     "output_type": "display_data"
    }
   ],
   "source": [
    "plt.figure()\n",
    "pyemma.plots.plot_cktest(all_cktests[9], units='ns', dt=0.2)\n",
    "plt.tight_layout()"
   ]
  },
  {
   "cell_type": "code",
   "execution_count": 89,
   "metadata": {},
   "outputs": [],
   "source": [
    "# checked all separately - all good"
   ]
  },
  {
   "cell_type": "code",
   "execution_count": 90,
   "metadata": {},
   "outputs": [],
   "source": [
    "# ACFs"
   ]
  },
  {
   "cell_type": "code",
   "execution_count": 53,
   "metadata": {},
   "outputs": [
    {
     "name": "stderr",
     "output_type": "stream",
     "text": [
      "/anaconda3/lib/python3.6/site-packages/statsmodels/compat/pandas.py:56: FutureWarning: The pandas.core.datetools module is deprecated and will be removed in a future version. Please use the pandas.tseries module instead.\n",
      "  from pandas.core import datetools\n"
     ]
    }
   ],
   "source": [
    "from statsmodels.tsa.stattools import acf"
   ]
  },
  {
   "cell_type": "code",
   "execution_count": 134,
   "metadata": {},
   "outputs": [
    {
     "data": {
      "text/plain": [
       "[array([ 5, 99, 99, ..., 13, 13, 13], dtype=int32)]"
      ]
     },
     "execution_count": 134,
     "metadata": {},
     "output_type": "execute_result"
    }
   ],
   "source": [
    "all_dtrajs[0]"
   ]
  },
  {
   "cell_type": "code",
   "execution_count": 195,
   "metadata": {},
   "outputs": [],
   "source": [
    "# do pcca and make macro dtraj"
   ]
  },
  {
   "cell_type": "code",
   "execution_count": 196,
   "metadata": {},
   "outputs": [],
   "source": [
    "for msm in all_msms:\n",
    "    msm.pcca(2)"
   ]
  },
  {
   "cell_type": "code",
   "execution_count": 221,
   "metadata": {},
   "outputs": [
    {
     "data": {
      "text/plain": [
       "array([ 0.20816496,  0.79183504])"
      ]
     },
     "execution_count": 221,
     "metadata": {},
     "output_type": "execute_result"
    }
   ],
   "source": [
    "all_msms[0].pcca(2).coarse_grained_stationary_probability"
   ]
  },
  {
   "cell_type": "code",
   "execution_count": 226,
   "metadata": {},
   "outputs": [],
   "source": [
    "traj = []\n",
    "\n",
    "for state in all_dtrajs[0][0]:\n",
    "    if state in all_msms[0].metastable_sets[0]:\n",
    "        traj.append(0)\n",
    "    else:\n",
    "        traj.append(1)"
   ]
  },
  {
   "cell_type": "code",
   "execution_count": 228,
   "metadata": {},
   "outputs": [],
   "source": [
    "from collections import Counter"
   ]
  },
  {
   "cell_type": "code",
   "execution_count": 231,
   "metadata": {},
   "outputs": [
    {
     "data": {
      "text/plain": [
       "0.21928664797856168"
      ]
     },
     "execution_count": 231,
     "metadata": {},
     "output_type": "execute_result"
    }
   ],
   "source": [
    "Counter(traj)[0] / len(traj)"
   ]
  },
  {
   "cell_type": "code",
   "execution_count": 321,
   "metadata": {},
   "outputs": [],
   "source": [
    "raw_acf, confint = acf(traj, nlags=20000, fft=True, alpha=0.05)"
   ]
  },
  {
   "cell_type": "code",
   "execution_count": 322,
   "metadata": {},
   "outputs": [],
   "source": [
    "# plt.plot(raw_acf)\n",
    "# #plt.xscale('log')\n",
    "# #plt.yscale('log')"
   ]
  },
  {
   "cell_type": "code",
   "execution_count": 52,
   "metadata": {},
   "outputs": [],
   "source": [
    "def plot_band(x, y, yerr, alpha=0.5, color=None, label=None):\n",
    "    plt.plot(x, y, color=color, label=label)\n",
    "    plt.fill_between(x, y - yerr, y + yerr, alpha=alpha, color=color)"
   ]
  },
  {
   "cell_type": "code",
   "execution_count": 45,
   "metadata": {},
   "outputs": [
    {
     "ename": "NameError",
     "evalue": "name 'plot_band' is not defined",
     "output_type": "error",
     "traceback": [
      "\u001b[0;31m---------------------------------------------------------------------------\u001b[0m",
      "\u001b[0;31mNameError\u001b[0m                                 Traceback (most recent call last)",
      "\u001b[0;32m<ipython-input-45-000ef1d6b090>\u001b[0m in \u001b[0;36m<module>\u001b[0;34m()\u001b[0m\n\u001b[1;32m      6\u001b[0m \u001b[0;34m\u001b[0m\u001b[0m\n\u001b[1;32m      7\u001b[0m \u001b[0;31m#plot_band(np.array(x) * 0.0002, mean, 1.96 * stdev, label='MSM-derived')\u001b[0m\u001b[0;34m\u001b[0m\u001b[0;34m\u001b[0m\u001b[0m\n\u001b[0;32m----> 8\u001b[0;31m \u001b[0mplot_band\u001b[0m\u001b[0;34m(\u001b[0m\u001b[0mnp\u001b[0m\u001b[0;34m.\u001b[0m\u001b[0marange\u001b[0m\u001b[0;34m(\u001b[0m\u001b[0mlen\u001b[0m\u001b[0;34m(\u001b[0m\u001b[0mraw_acf\u001b[0m\u001b[0;34m)\u001b[0m\u001b[0;34m)\u001b[0m \u001b[0;34m*\u001b[0m \u001b[0;36m0.0002\u001b[0m\u001b[0;34m,\u001b[0m \u001b[0mraw_acf\u001b[0m\u001b[0;34m,\u001b[0m \u001b[0mnp\u001b[0m\u001b[0;34m.\u001b[0m\u001b[0mabs\u001b[0m\u001b[0;34m(\u001b[0m\u001b[0mconfint\u001b[0m\u001b[0;34m[\u001b[0m\u001b[0;34m:\u001b[0m\u001b[0;34m,\u001b[0m\u001b[0;36m1\u001b[0m\u001b[0;34m]\u001b[0m \u001b[0;34m-\u001b[0m \u001b[0mconfint\u001b[0m\u001b[0;34m[\u001b[0m\u001b[0;34m:\u001b[0m\u001b[0;34m,\u001b[0m\u001b[0;36m0\u001b[0m\u001b[0;34m]\u001b[0m\u001b[0;34m)\u001b[0m\u001b[0;34m/\u001b[0m\u001b[0;36m2\u001b[0m\u001b[0;34m,\u001b[0m \u001b[0mcolor\u001b[0m\u001b[0;34m=\u001b[0m\u001b[0;34m'orange'\u001b[0m\u001b[0;34m,\u001b[0m \u001b[0mlabel\u001b[0m\u001b[0;34m=\u001b[0m\u001b[0;34m'trajectory-derived'\u001b[0m\u001b[0;34m)\u001b[0m\u001b[0;34m\u001b[0m\u001b[0m\n\u001b[0m\u001b[1;32m      9\u001b[0m \u001b[0mplt\u001b[0m\u001b[0;34m.\u001b[0m\u001b[0mlegend\u001b[0m\u001b[0;34m(\u001b[0m\u001b[0;34m)\u001b[0m\u001b[0;34m\u001b[0m\u001b[0m\n\u001b[1;32m     10\u001b[0m \u001b[0mplt\u001b[0m\u001b[0;34m.\u001b[0m\u001b[0mxscale\u001b[0m\u001b[0;34m(\u001b[0m\u001b[0;34m'log'\u001b[0m\u001b[0;34m)\u001b[0m\u001b[0;34m\u001b[0m\u001b[0m\n",
      "\u001b[0;31mNameError\u001b[0m: name 'plot_band' is not defined"
     ]
    },
    {
     "data": {
      "image/png": "[encoded data removed]",
      "text/plain": [
       "<matplotlib.figure.Figure at 0x1a7c259358>"
      ]
     },
     "metadata": {},
     "output_type": "display_data"
    }
   ],
   "source": [
    "plt.figure(dpi=100)\n",
    "#x = msm_acfs[i][0][0]\n",
    "#mean = np.mean([s[1] for s in msm_acfs[i]], 0)\n",
    "#stdev = np.std([s[1] for s in msm_acfs[i]], 0)\n",
    "plt.xlabel(r'$t$ ' + r'($\\mu$s)')\n",
    "\n",
    "#plot_band(np.array(x) * 0.0002, mean, 1.96 * stdev, label='MSM-derived')\n",
    "plot_band(np.arange(len(raw_acf)) * 0.0002, raw_acf, np.abs(confint[:,1] - confint[:,0])/2, color='orange', label='trajectory-derived')\n",
    "plt.legend()\n",
    "plt.xscale('log')"
   ]
  },
  {
   "cell_type": "code",
   "execution_count": 404,
   "metadata": {},
   "outputs": [],
   "source": [
    "# giving metastable assignments as projection doesn't work - ask Josh tomorrow how to do this\n",
    "#msm_acf = all_msms[0].correlation(all_msms[0].metastable_assignments, maxtime=20000)"
   ]
  },
  {
   "cell_type": "code",
   "execution_count": 407,
   "metadata": {},
   "outputs": [],
   "source": [
    "# meanwhile doing 2nd eigenvector projections"
   ]
  },
  {
   "cell_type": "code",
   "execution_count": 405,
   "metadata": {},
   "outputs": [],
   "source": [
    "#msm_acf = all_msms[0].correlation(all_msms[0].eigenvectors_right()[:,1], maxtime=20000)"
   ]
  },
  {
   "cell_type": "code",
   "execution_count": 408,
   "metadata": {},
   "outputs": [],
   "source": [
    "eigenv = all_msms[0].eigenvectors_right()[:,1]"
   ]
  },
  {
   "cell_type": "code",
   "execution_count": 410,
   "metadata": {},
   "outputs": [
    {
     "data": {
      "text/plain": [
       "<matplotlib.collections.PathCollection at 0x1a327f34e0>"
      ]
     },
     "execution_count": 410,
     "metadata": {},
     "output_type": "execute_result"
    },
    {
     "data": {
      "image/png": "[encoded data removed]",
      "text/plain": [
       "<matplotlib.figure.Figure at 0x1a2b6aa710>"
      ]
     },
     "metadata": {},
     "output_type": "display_data"
    }
   ],
   "source": [
    "plt.scatter(range(100), eigenv)"
   ]
  },
  {
   "cell_type": "code",
   "execution_count": 411,
   "metadata": {},
   "outputs": [],
   "source": [
    "traj = []\n",
    "\n",
    "for state in all_dtrajs[0][0]:\n",
    "    traj.append(eigenv[state])"
   ]
  },
  {
   "cell_type": "code",
   "execution_count": 418,
   "metadata": {},
   "outputs": [],
   "source": [
    "raw_acf, confint = acf(traj, nlags=20000, fft=True, alpha=0.05)"
   ]
  },
  {
   "cell_type": "code",
   "execution_count": 419,
   "metadata": {},
   "outputs": [],
   "source": [
    "msm_acf = all_msms[0].correlation(all_msms[0].eigenvectors_right()[:,1], maxtime=20000)"
   ]
  },
  {
   "cell_type": "code",
   "execution_count": 420,
   "metadata": {},
   "outputs": [
    {
     "data": {
      "image/png": "[encoded data removed]",
      "text/plain": [
       "<matplotlib.figure.Figure at 0x1a371a1ba8>"
      ]
     },
     "metadata": {},
     "output_type": "display_data"
    }
   ],
   "source": [
    "plt.figure(dpi=100)\n",
    "#x = msm_acfs[i][0][0]\n",
    "#mean = np.mean([s[1] for s in msm_acfs[i]], 0)\n",
    "#stdev = np.std([s[1] for s in msm_acfs[i]], 0)\n",
    "plt.xlabel(r'$t$ ' + r'($\\mu$s)')\n",
    "\n",
    "#plot_band(np.array(x) * 0.0002, mean, 1.96 * stdev, label='MSM-derived')\n",
    "plt.plot(msm_acf[0]*0.0002, msm_acf[1], color='blue', label='MSM-derived')\n",
    "plot_band(np.arange(len(raw_acf)) * 0.0002, raw_acf, np.abs(confint[:,1] - confint[:,0])/2, color='orange', label='trajectory-derived')\n",
    "plt.legend()\n",
    "plt.xscale('log')"
   ]
  },
  {
   "cell_type": "code",
   "execution_count": 421,
   "metadata": {},
   "outputs": [],
   "source": [
    "# so now put it all together so I can look at all 10 MSMs"
   ]
  },
  {
   "cell_type": "code",
   "execution_count": 431,
   "metadata": {},
   "outputs": [
    {
     "data": {
      "image/png": "[encoded data removed]",
      "text/plain": [
       "<matplotlib.figure.Figure at 0x1a45475860>"
      ]
     },
     "metadata": {},
     "output_type": "display_data"
    }
   ],
   "source": [
    "model_index = 9\n",
    "\n",
    "traj = []\n",
    "msm = all_msms[model_index]\n",
    "eigenv = msm.eigenvectors_right()[:,1]\n",
    "\n",
    "for state in all_dtrajs[model_index][0]:\n",
    "    traj.append(eigenv[state])\n",
    "    \n",
    "raw_acf, confint = acf(traj, nlags=20000, fft=True, alpha=0.05)    \n",
    "msm_acf = msm.correlation(eigenv, maxtime=20000)\n",
    "\n",
    "plt.figure(dpi=100)\n",
    "plt.xlabel(r'$t$ ' + r'($\\mu$s)')\n",
    "\n",
    "plt.plot(msm_acf[0]*0.0002, msm_acf[1], color='blue', label='MSM-derived')\n",
    "plot_band(np.arange(len(raw_acf)) * 0.0002, raw_acf, np.abs(confint[:,1] - confint[:,0])/2, color='orange', label='trajectory-derived')\n",
    "plt.legend()\n",
    "plt.xscale('log')"
   ]
  },
  {
   "cell_type": "code",
   "execution_count": 432,
   "metadata": {},
   "outputs": [],
   "source": [
    "# ok great taking this to other systems"
   ]
  },
  {
   "cell_type": "code",
   "execution_count": null,
   "metadata": {},
   "outputs": [],
   "source": [
    "# ARCHIVE"
   ]
  },
  {
   "cell_type": "code",
   "execution_count": 349,
   "metadata": {},
   "outputs": [],
   "source": [
    "# below for multi-lag ACFs if wanted to look at that too - but wait for Josh's overlap quantification"
   ]
  },
  {
   "cell_type": "code",
   "execution_count": 345,
   "metadata": {},
   "outputs": [],
   "source": [
    "# lags = [1,10,50,100,150,200] + list(np.arange(250,20000,250))"
   ]
  },
  {
   "cell_type": "code",
   "execution_count": 346,
   "metadata": {},
   "outputs": [],
   "source": [
    "# acf_msms = []\n",
    "\n",
    "# for lag in lags:\n",
    "#     msm = pyemma.msm.estimate_markov_model(all_dtrajs[0], lag)\n",
    "#     acf_msms.append(msm)"
   ]
  },
  {
   "cell_type": "code",
   "execution_count": 347,
   "metadata": {},
   "outputs": [],
   "source": [
    "# acf_msms"
   ]
  },
  {
   "cell_type": "code",
   "execution_count": 304,
   "metadata": {},
   "outputs": [],
   "source": [
    "# was checking here if a 2 state dtrajs MSM passes CK (usually we think it wouldn't - simple enough system)"
   ]
  },
  {
   "cell_type": "code",
   "execution_count": 301,
   "metadata": {},
   "outputs": [],
   "source": [
    "#msm = pyemma.msm.estimate_markov_model(traj, 150*5)"
   ]
  },
  {
   "cell_type": "code",
   "execution_count": 302,
   "metadata": {},
   "outputs": [
    {
     "data": {
      "application/vnd.jupyter.widget-view+json": {
       "model_id": "4b09c5331dd4454b925f77755f2c9045",
       "version_major": 2,
       "version_minor": 0
      },
      "text/html": [
       "<p>Failed to display Jupyter Widget of type <code>HBox</code>.</p>\n",
       "<p>\n",
       "  If you're reading this message in the Jupyter Notebook or JupyterLab Notebook, it may mean\n",
       "  that the widgets JavaScript is still loading. If this message persists, it\n",
       "  likely means that the widgets JavaScript library is either not installed or\n",
       "  not enabled. See the <a href=\"https://ipywidgets.readthedocs.io/en/stable/user_install.html\">Jupyter\n",
       "  Widgets Documentation</a> for setup instructions.\n",
       "</p>\n",
       "<p>\n",
       "  If you're reading this message in another frontend (for example, a static\n",
       "  rendering on GitHub or <a href=\"https://nbviewer.jupyter.org/\">NBViewer</a>),\n",
       "  it may mean that your frontend doesn't currently support widgets.\n",
       "</p>\n"
      ],
      "text/plain": [
       "HBox(children=(HBox(children=(Label(value='estimating MaximumLikelihoodMSM'),), layout=Layout(max_width='35%', min_width='35%')), HBox(children=(IntProgress(value=0, max=14), HTML(value='')), layout=Layout(padding='0 0 0 20px'))), layout=Layout(display='flex', width='100%'))"
      ]
     },
     "metadata": {},
     "output_type": "display_data"
    },
    {
     "name": "stdout",
     "output_type": "stream",
     "text": [
      "\r"
     ]
    }
   ],
   "source": [
    "#cktest = msm.cktest(2,mlags=np.arange(15))"
   ]
  },
  {
   "cell_type": "code",
   "execution_count": 305,
   "metadata": {},
   "outputs": [],
   "source": [
    "#pyemma.plots.plot_cktest(cktest)"
   ]
  },
  {
   "cell_type": "code",
   "execution_count": 62,
   "metadata": {},
   "outputs": [],
   "source": [
    "################ END ARCHIVE ###############\n",
    "#####################"
   ]
  },
  {
   "cell_type": "code",
   "execution_count": 46,
   "metadata": {},
   "outputs": [],
   "source": [
    "# let's also see the CK tests and ACFs at shorter lag times - 10 ns and 50 ns"
   ]
  },
  {
   "cell_type": "code",
   "execution_count": 49,
   "metadata": {},
   "outputs": [],
   "source": [
    "all_msms_10 = []\n",
    "\n",
    "for dtrajs in all_dtrajs:\n",
    "    msm = pyemma.msm.estimate_markov_model(dtrajs, 10*5)\n",
    "    all_msms_10.append(msm)"
   ]
  },
  {
   "cell_type": "code",
   "execution_count": 64,
   "metadata": {},
   "outputs": [],
   "source": [
    "# for index in range(10):\n",
    "\n",
    "#     model_index = index\n",
    "\n",
    "#     traj = []\n",
    "#     msm = all_msms_10[model_index]\n",
    "#     eigenv = msm.eigenvectors_right()[:,1]\n",
    "\n",
    "#     for state in all_dtrajs[model_index][0]:\n",
    "#         traj.append(eigenv[state])\n",
    "\n",
    "#     raw_acf, confint = acf(traj, nlags=50000, fft=True, alpha=0.05)    \n",
    "#     msm_acf = msm.correlation(eigenv, maxtime=50000)\n",
    "\n",
    "#     plt.figure(dpi=100)\n",
    "#     plt.xlabel(r'$t$ ' + r'($\\mu$s)')\n",
    "\n",
    "#     plt.plot(msm_acf[0]*0.0002, msm_acf[1], color='blue', label='MSM-derived')\n",
    "#     plot_band(np.arange(len(raw_acf)) * 0.0002, raw_acf, np.abs(confint[:,1] - confint[:,0])/2, color='orange', label='trajectory-derived')\n",
    "#     plt.legend()\n",
    "#     plt.xscale('log')"
   ]
  },
  {
   "cell_type": "code",
   "execution_count": 56,
   "metadata": {},
   "outputs": [],
   "source": [
    "all_msms_1 = []\n",
    "\n",
    "for dtrajs in all_dtrajs:\n",
    "    msm = pyemma.msm.estimate_markov_model(dtrajs, 1*5)\n",
    "    all_msms_1.append(msm)"
   ]
  },
  {
   "cell_type": "code",
   "execution_count": 68,
   "metadata": {},
   "outputs": [],
   "source": [
    "# for index in range(10):\n",
    "\n",
    "#     model_index = index\n",
    "\n",
    "#     traj = []\n",
    "#     msm = all_msms_1[model_index]\n",
    "#     eigenv = msm.eigenvectors_right()[:,1]\n",
    "\n",
    "#     for state in all_dtrajs[model_index][0]:\n",
    "#         traj.append(eigenv[state])\n",
    "\n",
    "#     raw_acf, confint = acf(traj, nlags=50000, fft=True, alpha=0.05)    \n",
    "#     msm_acf = msm.correlation(eigenv, maxtime=50000)\n",
    "\n",
    "#     plt.figure(dpi=100)\n",
    "#     plt.xlabel(r'$t$ ' + r'($\\mu$s)')\n",
    "\n",
    "#     plt.plot(msm_acf[0]*0.0002, msm_acf[1], color='blue', label='MSM-derived')\n",
    "#     plot_band(np.arange(len(raw_acf)) * 0.0002, raw_acf, np.abs(confint[:,1] - confint[:,0])/2, color='orange', label='trajectory-derived')\n",
    "#     plt.legend()\n",
    "#     plt.xscale('log')"
   ]
  },
  {
   "cell_type": "code",
   "execution_count": 59,
   "metadata": {},
   "outputs": [],
   "source": [
    "all_msms_5 = []\n",
    "\n",
    "for dtrajs in all_dtrajs:\n",
    "    msm = pyemma.msm.estimate_markov_model(dtrajs, 5*5)\n",
    "    all_msms_5.append(msm)"
   ]
  },
  {
   "cell_type": "code",
   "execution_count": null,
   "metadata": {},
   "outputs": [],
   "source": [
    "for index in range(10):\n",
    "\n",
    "    model_index = index\n",
    "\n",
    "    traj = []\n",
    "    msm = all_msms_5[model_index]\n",
    "    eigenv = msm.eigenvectors_right()[:,1]\n",
    "\n",
    "    for state in all_dtrajs[model_index][0]:\n",
    "        traj.append(eigenv[state])\n",
    "\n",
    "    raw_acf, confint = acf(traj, nlags=50000, fft=True, alpha=0.05)    \n",
    "    msm_acf = msm.correlation(eigenv, maxtime=50000)\n",
    "\n",
    "    plt.figure(dpi=100)\n",
    "    plt.xlabel(r'$t$ ' + r'($\\mu$s)')\n",
    "\n",
    "    plt.plot(msm_acf[0]*0.0002, msm_acf[1], color='blue', label='MSM-derived')\n",
    "    plot_band(np.arange(len(raw_acf)) * 0.0002, raw_acf, np.abs(confint[:,1] - confint[:,0])/2, color='orange', label='trajectory-derived')\n",
    "    plt.legend()\n",
    "    plt.xscale('log')"
   ]
  },
  {
   "cell_type": "code",
   "execution_count": null,
   "metadata": {},
   "outputs": [],
   "source": [
    "# nothing interesting here either!"
   ]
  }
 ],
 "metadata": {
  "kernelspec": {
   "display_name": "Python 3",
   "language": "python",
   "name": "python3"
  },
  "language_info": {
   "codemirror_mode": {
    "name": "ipython",
    "version": 3
   },
   "file_extension": ".py",
   "mimetype": "text/x-python",
   "name": "python",
   "nbconvert_exporter": "python",
   "pygments_lexer": "ipython3",
   "version": "3.6.4"
  }
 },
 "nbformat": 4,
 "nbformat_minor": 2
}
