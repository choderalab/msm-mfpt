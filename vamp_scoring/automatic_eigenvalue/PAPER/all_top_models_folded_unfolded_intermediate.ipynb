{
 "cells": [
  {
   "cell_type": "code",
   "execution_count": 3,
   "metadata": {},
   "outputs": [],
   "source": [
    "import numpy as np"
   ]
  },
  {
   "cell_type": "code",
   "execution_count": 4,
   "metadata": {},
   "outputs": [
    {
     "data": {
      "text/plain": [
       "'/Users/rafalpwiewiora/repos/msm-mfpt/vamp_scoring/automatic_eigenvalue/PAPER'"
      ]
     },
     "execution_count": 4,
     "metadata": {},
     "output_type": "execute_result"
    }
   ],
   "source": [
    "pwd"
   ]
  },
  {
   "cell_type": "code",
   "execution_count": 5,
   "metadata": {},
   "outputs": [],
   "source": [
    "chignolin_membs = np.load('../chignolin/chignolin_lag100ns_metastable_memberships.npy')"
   ]
  },
  {
   "cell_type": "code",
   "execution_count": 6,
   "metadata": {},
   "outputs": [],
   "source": [
    "villin_membs = np.load('../villin/villin_lag50ns_metastable_memberships_3states.npy')"
   ]
  },
  {
   "cell_type": "code",
   "execution_count": 8,
   "metadata": {},
   "outputs": [],
   "source": [
    "villin_sets = np.load('../villin/villin_lag50ns_metastable_sets_3states.npy')"
   ]
  },
  {
   "cell_type": "code",
   "execution_count": 9,
   "metadata": {},
   "outputs": [
    {
     "data": {
      "text/plain": [
       "array([ 2, 22, 23, 37, 38, 54, 58, 80, 81])"
      ]
     },
     "execution_count": 9,
     "metadata": {},
     "output_type": "execute_result"
    }
   ],
   "source": [
    "villin_sets[0]"
   ]
  },
  {
   "cell_type": "code",
   "execution_count": 21,
   "metadata": {},
   "outputs": [],
   "source": [
    "np.save('villin_misfold', villin_sets[0])"
   ]
  },
  {
   "cell_type": "code",
   "execution_count": 12,
   "metadata": {},
   "outputs": [],
   "source": [
    "trpcage_membs = np.load('../trpcage/trpcage_lag100ns_metastable_memberships.npy')"
   ]
  },
  {
   "cell_type": "code",
   "execution_count": 13,
   "metadata": {},
   "outputs": [],
   "source": [
    "ntl9_membs = np.load('../ntl9/ntl9_lag200ns_metastable_memberships.npy')"
   ]
  },
  {
   "cell_type": "code",
   "execution_count": 12,
   "metadata": {},
   "outputs": [],
   "source": [
    "# * Chignolin\n",
    "\n",
    "# State 0 unfolded is at 20.9% population\n",
    "# State 1 is folded at 79.1% population\n",
    "\n",
    "# * Villin\n",
    "\n",
    "# State 0 is misfolded at 5.7% population\n",
    "# State 1 is folded at 33.1% population\n",
    "# State 2 is unfolded at 61.2% population\n",
    "\n",
    "# * Trp-cage\n",
    "\n",
    "# State 0 is folded at 20.4% population\n",
    "# State 1 is unfolded at 79.6% population\n",
    "\n",
    "# * NTL9\n",
    "\n",
    "# State 0 is unfolded at 15.0% population\n",
    "# State 1 is folded at 85.0% population"
   ]
  },
  {
   "cell_type": "code",
   "execution_count": 13,
   "metadata": {},
   "outputs": [],
   "source": [
    "# we're going to make the new sets now - 2 states for each - same order: folded, unfolded (we just don't include the intermediate)"
   ]
  },
  {
   "cell_type": "code",
   "execution_count": 14,
   "metadata": {},
   "outputs": [],
   "source": [
    "intermediate_sizes = []"
   ]
  },
  {
   "cell_type": "code",
   "execution_count": 15,
   "metadata": {},
   "outputs": [],
   "source": [
    "cutoff = 0.8\n",
    "\n",
    "chignolin_new = [np.argwhere(chignolin_membs[:,1] >= cutoff),\n",
    "np.argwhere(chignolin_membs[:,0] >= cutoff)]\n",
    "\n",
    "villin_new = [np.argwhere(villin_membs[:,1] >= cutoff),\n",
    "np.argwhere(villin_membs[:,2] >= cutoff)]\n",
    "\n",
    "trpcage_new = [np.argwhere(trpcage_membs[:,0] >= cutoff),\n",
    "np.argwhere(trpcage_membs[:,1] >= cutoff)]\n",
    "\n",
    "ntl9_new = [np.argwhere(ntl9_membs[:,1] >= cutoff),\n",
    "np.argwhere(ntl9_membs[:,0] >= cutoff)]\n",
    "\n",
    "np.save('chignolin_fold_unfold_cut_0_%d' % (cutoff*10), chignolin_new)\n",
    "np.save('villin_fold_unfold_cut_0_%d' % (cutoff*10), villin_new)\n",
    "np.save('trpcage_fold_unfold_cut_0_%d' % (cutoff*10), trpcage_new)\n",
    "np.save('ntl9_fold_unfold_cut_0_%d' % (cutoff*10), ntl9_new)\n",
    "\n",
    "#######\n",
    "\n",
    "chignolin_new_len = [len(np.argwhere(chignolin_membs[:,1] >= cutoff)),\n",
    "len(np.argwhere(chignolin_membs[:,0] >= cutoff))]\n",
    "\n",
    "villin_new_len = [len(np.argwhere(villin_membs[:,1] >= cutoff)),\n",
    "len(np.argwhere(villin_membs[:,2] >= cutoff))]\n",
    "\n",
    "trpcage_new_len = [len(np.argwhere(trpcage_membs[:,0] >= cutoff)),\n",
    "len(np.argwhere(trpcage_membs[:,1] >= cutoff))]\n",
    "\n",
    "ntl9_new_len = [len(np.argwhere(ntl9_membs[:,1] >= cutoff)),\n",
    "len(np.argwhere(ntl9_membs[:,0] >= cutoff))]\n",
    "\n",
    "100-np.sum(chignolin_new_len), 100-np.sum(villin_new_len), 100-np.sum(trpcage_new_len), 100-np.sum(ntl9_new_len)\n",
    "\n",
    "intermediate_sizes.append((100-np.sum(chignolin_new_len), 100-np.sum(villin_new_len), 100-np.sum(trpcage_new_len), 100-np.sum(ntl9_new_len)))"
   ]
  },
  {
   "cell_type": "code",
   "execution_count": 16,
   "metadata": {},
   "outputs": [],
   "source": [
    "cutoff = 0.85\n",
    "\n",
    "chignolin_new = [np.argwhere(chignolin_membs[:,1] >= cutoff),\n",
    "np.argwhere(chignolin_membs[:,0] >= cutoff)]\n",
    "\n",
    "villin_new = [np.argwhere(villin_membs[:,1] >= cutoff),\n",
    "np.argwhere(villin_membs[:,2] >= cutoff)]\n",
    "\n",
    "trpcage_new = [np.argwhere(trpcage_membs[:,0] >= cutoff),\n",
    "np.argwhere(trpcage_membs[:,1] >= cutoff)]\n",
    "\n",
    "ntl9_new = [np.argwhere(ntl9_membs[:,1] >= cutoff),\n",
    "np.argwhere(ntl9_membs[:,0] >= cutoff)]\n",
    "\n",
    "np.save('chignolin_fold_unfold_cut_0_%d' % (cutoff*10), chignolin_new)\n",
    "np.save('villin_fold_unfold_cut_0_%d' % (cutoff*10), villin_new)\n",
    "np.save('trpcage_fold_unfold_cut_0_%d' % (cutoff*10), trpcage_new)\n",
    "np.save('ntl9_fold_unfold_cut_0_%d' % (cutoff*10), ntl9_new)\n",
    "\n",
    "#######\n",
    "\n",
    "chignolin_new_len = [len(np.argwhere(chignolin_membs[:,1] >= cutoff)),\n",
    "len(np.argwhere(chignolin_membs[:,0] >= cutoff))]\n",
    "\n",
    "villin_new_len = [len(np.argwhere(villin_membs[:,1] >= cutoff)),\n",
    "len(np.argwhere(villin_membs[:,2] >= cutoff))]\n",
    "\n",
    "trpcage_new_len = [len(np.argwhere(trpcage_membs[:,0] >= cutoff)),\n",
    "len(np.argwhere(trpcage_membs[:,1] >= cutoff))]\n",
    "\n",
    "ntl9_new_len = [len(np.argwhere(ntl9_membs[:,1] >= cutoff)),\n",
    "len(np.argwhere(ntl9_membs[:,0] >= cutoff))]\n",
    "\n",
    "100-np.sum(chignolin_new_len), 100-np.sum(villin_new_len), 100-np.sum(trpcage_new_len), 100-np.sum(ntl9_new_len)\n",
    "\n",
    "intermediate_sizes.append((100-np.sum(chignolin_new_len), 100-np.sum(villin_new_len), 100-np.sum(trpcage_new_len), 100-np.sum(ntl9_new_len)))"
   ]
  },
  {
   "cell_type": "code",
   "execution_count": 17,
   "metadata": {},
   "outputs": [],
   "source": [
    "cutoff = 0.9\n",
    "\n",
    "chignolin_new = [np.argwhere(chignolin_membs[:,1] >= cutoff),\n",
    "np.argwhere(chignolin_membs[:,0] >= cutoff)]\n",
    "\n",
    "villin_new = [np.argwhere(villin_membs[:,1] >= cutoff),\n",
    "np.argwhere(villin_membs[:,2] >= cutoff)]\n",
    "\n",
    "trpcage_new = [np.argwhere(trpcage_membs[:,0] >= cutoff),\n",
    "np.argwhere(trpcage_membs[:,1] >= cutoff)]\n",
    "\n",
    "ntl9_new = [np.argwhere(ntl9_membs[:,1] >= cutoff),\n",
    "np.argwhere(ntl9_membs[:,0] >= cutoff)]\n",
    "\n",
    "np.save('chignolin_fold_unfold_cut_0_%d' % (cutoff*10), chignolin_new)\n",
    "np.save('villin_fold_unfold_cut_0_%d' % (cutoff*10), villin_new)\n",
    "np.save('trpcage_fold_unfold_cut_0_%d' % (cutoff*10), trpcage_new)\n",
    "np.save('ntl9_fold_unfold_cut_0_%d' % (cutoff*10), ntl9_new)\n",
    "\n",
    "#######\n",
    "\n",
    "chignolin_new_len = [len(np.argwhere(chignolin_membs[:,1] >= cutoff)),\n",
    "len(np.argwhere(chignolin_membs[:,0] >= cutoff))]\n",
    "\n",
    "villin_new_len = [len(np.argwhere(villin_membs[:,1] >= cutoff)),\n",
    "len(np.argwhere(villin_membs[:,2] >= cutoff))]\n",
    "\n",
    "trpcage_new_len = [len(np.argwhere(trpcage_membs[:,0] >= cutoff)),\n",
    "len(np.argwhere(trpcage_membs[:,1] >= cutoff))]\n",
    "\n",
    "ntl9_new_len = [len(np.argwhere(ntl9_membs[:,1] >= cutoff)),\n",
    "len(np.argwhere(ntl9_membs[:,0] >= cutoff))]\n",
    "\n",
    "100-np.sum(chignolin_new_len), 100-np.sum(villin_new_len), 100-np.sum(trpcage_new_len), 100-np.sum(ntl9_new_len)\n",
    "\n",
    "intermediate_sizes.append((100-np.sum(chignolin_new_len), 100-np.sum(villin_new_len), 100-np.sum(trpcage_new_len), 100-np.sum(ntl9_new_len)))"
   ]
  },
  {
   "cell_type": "code",
   "execution_count": 18,
   "metadata": {},
   "outputs": [],
   "source": [
    "cutoff = 0.95\n",
    "\n",
    "chignolin_new = [np.argwhere(chignolin_membs[:,1] >= cutoff),\n",
    "np.argwhere(chignolin_membs[:,0] >= cutoff)]\n",
    "\n",
    "villin_new = [np.argwhere(villin_membs[:,1] >= cutoff),\n",
    "np.argwhere(villin_membs[:,2] >= cutoff)]\n",
    "\n",
    "trpcage_new = [np.argwhere(trpcage_membs[:,0] >= cutoff),\n",
    "np.argwhere(trpcage_membs[:,1] >= cutoff)]\n",
    "\n",
    "ntl9_new = [np.argwhere(ntl9_membs[:,1] >= cutoff),\n",
    "np.argwhere(ntl9_membs[:,0] >= cutoff)]\n",
    "\n",
    "np.save('chignolin_fold_unfold_cut_0_%d' % (cutoff*10), chignolin_new)\n",
    "np.save('villin_fold_unfold_cut_0_%d' % (cutoff*10), villin_new)\n",
    "np.save('trpcage_fold_unfold_cut_0_%d' % (cutoff*10), trpcage_new)\n",
    "np.save('ntl9_fold_unfold_cut_0_%d' % (cutoff*10), ntl9_new)\n",
    "\n",
    "#######\n",
    "\n",
    "chignolin_new_len = [len(np.argwhere(chignolin_membs[:,1] >= cutoff)),\n",
    "len(np.argwhere(chignolin_membs[:,0] >= cutoff))]\n",
    "\n",
    "villin_new_len = [len(np.argwhere(villin_membs[:,1] >= cutoff)),\n",
    "len(np.argwhere(villin_membs[:,2] >= cutoff))]\n",
    "\n",
    "trpcage_new_len = [len(np.argwhere(trpcage_membs[:,0] >= cutoff)),\n",
    "len(np.argwhere(trpcage_membs[:,1] >= cutoff))]\n",
    "\n",
    "ntl9_new_len = [len(np.argwhere(ntl9_membs[:,1] >= cutoff)),\n",
    "len(np.argwhere(ntl9_membs[:,0] >= cutoff))]\n",
    "\n",
    "100-np.sum(chignolin_new_len), 100-np.sum(villin_new_len), 100-np.sum(trpcage_new_len), 100-np.sum(ntl9_new_len)\n",
    "\n",
    "intermediate_sizes.append((100-np.sum(chignolin_new_len), 100-np.sum(villin_new_len), 100-np.sum(trpcage_new_len), 100-np.sum(ntl9_new_len)))"
   ]
  },
  {
   "cell_type": "code",
   "execution_count": 19,
   "metadata": {},
   "outputs": [],
   "source": [
    "cutoff = 0.99\n",
    "\n",
    "chignolin_new = [np.argwhere(chignolin_membs[:,1] >= cutoff),\n",
    "np.argwhere(chignolin_membs[:,0] >= cutoff)]\n",
    "\n",
    "villin_new = [np.argwhere(villin_membs[:,1] >= cutoff),\n",
    "np.argwhere(villin_membs[:,2] >= cutoff)]\n",
    "\n",
    "trpcage_new = [np.argwhere(trpcage_membs[:,0] >= cutoff),\n",
    "np.argwhere(trpcage_membs[:,1] >= cutoff)]\n",
    "\n",
    "ntl9_new = [np.argwhere(ntl9_membs[:,1] >= cutoff),\n",
    "np.argwhere(ntl9_membs[:,0] >= cutoff)]\n",
    "\n",
    "np.save('chignolin_fold_unfold_cut_0_%d' % (cutoff*10), chignolin_new)\n",
    "np.save('villin_fold_unfold_cut_0_%d' % (cutoff*10), villin_new)\n",
    "np.save('trpcage_fold_unfold_cut_0_%d' % (cutoff*10), trpcage_new)\n",
    "np.save('ntl9_fold_unfold_cut_0_%d' % (cutoff*10), ntl9_new)\n",
    "\n",
    "#######\n",
    "\n",
    "chignolin_new_len = [len(np.argwhere(chignolin_membs[:,1] >= cutoff)),\n",
    "len(np.argwhere(chignolin_membs[:,0] >= cutoff))]\n",
    "\n",
    "villin_new_len = [len(np.argwhere(villin_membs[:,1] >= cutoff)),\n",
    "len(np.argwhere(villin_membs[:,2] >= cutoff))]\n",
    "\n",
    "trpcage_new_len = [len(np.argwhere(trpcage_membs[:,0] >= cutoff)),\n",
    "len(np.argwhere(trpcage_membs[:,1] >= cutoff))]\n",
    "\n",
    "ntl9_new_len = [len(np.argwhere(ntl9_membs[:,1] >= cutoff)),\n",
    "len(np.argwhere(ntl9_membs[:,0] >= cutoff))]\n",
    "\n",
    "100-np.sum(chignolin_new_len), 100-np.sum(villin_new_len), 100-np.sum(trpcage_new_len), 100-np.sum(ntl9_new_len)\n",
    "\n",
    "intermediate_sizes.append((100-np.sum(chignolin_new_len), 100-np.sum(villin_new_len), 100-np.sum(trpcage_new_len), 100-np.sum(ntl9_new_len)))"
   ]
  },
  {
   "cell_type": "code",
   "execution_count": 2,
   "metadata": {},
   "outputs": [
    {
     "ename": "NameError",
     "evalue": "name 'np' is not defined",
     "output_type": "error",
     "traceback": [
      "\u001b[0;31m---------------------------------------------------------------------------\u001b[0m",
      "\u001b[0;31mNameError\u001b[0m                                 Traceback (most recent call last)",
      "\u001b[0;32m<ipython-input-2-ed2cae85066c>\u001b[0m in \u001b[0;36m<module>\u001b[0;34m()\u001b[0m\n\u001b[1;32m      1\u001b[0m \u001b[0mcutoff\u001b[0m \u001b[0;34m=\u001b[0m \u001b[0;36m0.999\u001b[0m\u001b[0;34m\u001b[0m\u001b[0m\n\u001b[1;32m      2\u001b[0m \u001b[0;34m\u001b[0m\u001b[0m\n\u001b[0;32m----> 3\u001b[0;31m chignolin_new = [np.argwhere(chignolin_membs[:,1] >= cutoff),\n\u001b[0m\u001b[1;32m      4\u001b[0m np.argwhere(chignolin_membs[:,0] >= cutoff)]\n\u001b[1;32m      5\u001b[0m \u001b[0;34m\u001b[0m\u001b[0m\n",
      "\u001b[0;31mNameError\u001b[0m: name 'np' is not defined"
     ]
    }
   ],
   "source": [
    "cutoff = 0.999\n",
    "\n",
    "chignolin_new = [np.argwhere(chignolin_membs[:,1] >= cutoff),\n",
    "np.argwhere(chignolin_membs[:,0] >= cutoff)]\n",
    "\n",
    "villin_new = [np.argwhere(villin_membs[:,1] >= cutoff),\n",
    "np.argwhere(villin_membs[:,2] >= cutoff)]\n",
    "\n",
    "trpcage_new = [np.argwhere(trpcage_membs[:,0] >= cutoff),\n",
    "np.argwhere(trpcage_membs[:,1] >= cutoff)]\n",
    "\n",
    "ntl9_new = [np.argwhere(ntl9_membs[:,1] >= cutoff),\n",
    "np.argwhere(ntl9_membs[:,0] >= cutoff)]\n",
    "\n",
    "np.save('chignolin_fold_unfold_cut_0_%d' % (cutoff*100), chignolin_new)\n",
    "np.save('villin_fold_unfold_cut_0_%d' % (cutoff*100), villin_new)\n",
    "np.save('trpcage_fold_unfold_cut_0_%d' % (cutoff*100), trpcage_new)\n",
    "np.save('ntl9_fold_unfold_cut_0_%d' % (cutoff*100), ntl9_new)\n",
    "\n",
    "#######\n",
    "\n",
    "chignolin_new_len = [len(np.argwhere(chignolin_membs[:,1] >= cutoff)),\n",
    "len(np.argwhere(chignolin_membs[:,0] >= cutoff))]\n",
    "\n",
    "villin_new_len = [len(np.argwhere(villin_membs[:,1] >= cutoff)),\n",
    "len(np.argwhere(villin_membs[:,2] >= cutoff))]\n",
    "\n",
    "trpcage_new_len = [len(np.argwhere(trpcage_membs[:,0] >= cutoff)),\n",
    "len(np.argwhere(trpcage_membs[:,1] >= cutoff))]\n",
    "\n",
    "ntl9_new_len = [len(np.argwhere(ntl9_membs[:,1] >= cutoff)),\n",
    "len(np.argwhere(ntl9_membs[:,0] >= cutoff))]\n",
    "\n",
    "100-np.sum(chignolin_new_len), 100-np.sum(villin_new_len), 100-np.sum(trpcage_new_len), 100-np.sum(ntl9_new_len)\n",
    "\n",
    "intermediate_sizes.append((100-np.sum(chignolin_new_len), 100-np.sum(villin_new_len), 100-np.sum(trpcage_new_len), 100-np.sum(ntl9_new_len)))"
   ]
  },
  {
   "cell_type": "code",
   "execution_count": 21,
   "metadata": {},
   "outputs": [],
   "source": [
    "# now do prototypical microstates - just those that have membership of 1 - can't be exactly one because numerical\n",
    "cutoff = 0.999999\n",
    "\n",
    "chignolin_new = [np.argwhere(chignolin_membs[:,1] >= cutoff),\n",
    "np.argwhere(chignolin_membs[:,0] >= cutoff)]\n",
    "\n",
    "villin_new = [np.argwhere(villin_membs[:,1] >= cutoff),\n",
    "np.argwhere(villin_membs[:,2] >= cutoff)]\n",
    "\n",
    "trpcage_new = [np.argwhere(trpcage_membs[:,0] >= cutoff),\n",
    "np.argwhere(trpcage_membs[:,1] >= cutoff)]\n",
    "\n",
    "ntl9_new = [np.argwhere(ntl9_membs[:,1] >= cutoff),\n",
    "np.argwhere(ntl9_membs[:,0] >= cutoff)]\n",
    "\n",
    "np.save('chignolin_fold_unfold_cut_1', chignolin_new)\n",
    "np.save('villin_fold_unfold_cut_1', villin_new)\n",
    "np.save('trpcage_fold_unfold_cut_1', trpcage_new)\n",
    "np.save('ntl9_fold_unfold_cut_1', ntl9_new)\n",
    "\n",
    "#######\n",
    "\n",
    "chignolin_new_len = [len(np.argwhere(chignolin_membs[:,1] >= cutoff)),\n",
    "len(np.argwhere(chignolin_membs[:,0] >= cutoff))]\n",
    "\n",
    "villin_new_len = [len(np.argwhere(villin_membs[:,1] >= cutoff)),\n",
    "len(np.argwhere(villin_membs[:,2] >= cutoff))]\n",
    "\n",
    "trpcage_new_len = [len(np.argwhere(trpcage_membs[:,0] >= cutoff)),\n",
    "len(np.argwhere(trpcage_membs[:,1] >= cutoff))]\n",
    "\n",
    "ntl9_new_len = [len(np.argwhere(ntl9_membs[:,1] >= cutoff)),\n",
    "len(np.argwhere(ntl9_membs[:,0] >= cutoff))]\n",
    "\n",
    "100-np.sum(chignolin_new_len), 100-np.sum(villin_new_len), 100-np.sum(trpcage_new_len), 100-np.sum(ntl9_new_len)\n",
    "\n",
    "intermediate_sizes.append((100-np.sum(chignolin_new_len), 100-np.sum(villin_new_len), 100-np.sum(trpcage_new_len), 100-np.sum(ntl9_new_len)))"
   ]
  },
  {
   "cell_type": "code",
   "execution_count": 19,
   "metadata": {},
   "outputs": [],
   "source": [
    "import matplotlib\n",
    "import matplotlib.pyplot as plt\n",
    "import seaborn as sns\n",
    "sns.set_style('ticks')\n",
    "#sns.set_context('talk')\n",
    "sns.set_style('ticks', {'font.sans-serif': ['DejaVu Sans']})"
   ]
  },
  {
   "cell_type": "code",
   "execution_count": 23,
   "metadata": {
    "scrolled": false
   },
   "outputs": [
    {
     "data": {
      "text/plain": [
       "array([ 4,  8, 10, 35, 76, 97, 98])"
      ]
     },
     "execution_count": 23,
     "metadata": {},
     "output_type": "execute_result"
    }
   ],
   "source": [
    "np.array(intermediate_sizes)[:,0]"
   ]
  },
  {
   "cell_type": "code",
   "execution_count": 58,
   "metadata": {},
   "outputs": [
    {
     "data": {
      "image/png": "[encoded data removed]",
      "text/plain": [
       "<matplotlib.figure.Figure at 0x1a2399a748>"
      ]
     },
     "metadata": {},
     "output_type": "display_data"
    }
   ],
   "source": [
    "plt.figure()\n",
    "\n",
    "plt.plot(np.array(intermediate_sizes)[:,0], label='chignolin')\n",
    "plt.plot(np.array(intermediate_sizes)[:,1], label='villin')\n",
    "plt.plot(np.array(intermediate_sizes)[:,2], label='Trp-cage')\n",
    "plt.plot(np.array(intermediate_sizes)[:,3], label='NTL9')\n",
    "\n",
    "plt.scatter(range(7),np.array(intermediate_sizes)[:,0])\n",
    "plt.scatter(range(7),np.array(intermediate_sizes)[:,1])\n",
    "plt.scatter(range(7),np.array(intermediate_sizes)[:,2])\n",
    "plt.scatter(range(7),np.array(intermediate_sizes)[:,3])\n",
    "\n",
    "plt.legend()\n",
    "sns.despine()\n",
    "plt.xlabel('Macrostate membership cutoff')\n",
    "plt.xticks(range(7), ['80%', '85%', '90%', '95%', '99%', '99.9%', '100%'])\n",
    "plt.ylabel('# microstates in intermediate region')\n",
    "plt.show()"
   ]
  },
  {
   "cell_type": "code",
   "execution_count": 59,
   "metadata": {},
   "outputs": [],
   "source": [
    "# let's do this with many data points"
   ]
  },
  {
   "cell_type": "code",
   "execution_count": 10,
   "metadata": {},
   "outputs": [],
   "source": [
    "def intermediate_size(cutoff):\n",
    "    chignolin_new_len = [len(np.argwhere(chignolin_membs[:,1] >= cutoff)),\n",
    "    len(np.argwhere(chignolin_membs[:,0] >= cutoff))]\n",
    "\n",
    "    villin_new_len = [len(np.argwhere(villin_membs[:,1] >= cutoff)),\n",
    "    len(np.argwhere(villin_membs[:,2] >= cutoff))]\n",
    "\n",
    "    trpcage_new_len = [len(np.argwhere(trpcage_membs[:,0] >= cutoff)),\n",
    "    len(np.argwhere(trpcage_membs[:,1] >= cutoff))]\n",
    "\n",
    "    ntl9_new_len = [len(np.argwhere(ntl9_membs[:,1] >= cutoff)),\n",
    "    len(np.argwhere(ntl9_membs[:,0] >= cutoff))]\n",
    "\n",
    "    return (100-np.sum(chignolin_new_len), 91-np.sum(villin_new_len), 100-np.sum(trpcage_new_len), 100-np.sum(ntl9_new_len))"
   ]
  },
  {
   "cell_type": "code",
   "execution_count": 14,
   "metadata": {},
   "outputs": [],
   "source": [
    "intermediate_sizes = []\n",
    "\n",
    "for cutoff in list(np.arange(0.8,1,0.001))+[0.999999]:\n",
    "    intermediate_sizes.append(intermediate_size(cutoff))"
   ]
  },
  {
   "cell_type": "code",
   "execution_count": 15,
   "metadata": {},
   "outputs": [
    {
     "data": {
      "text/plain": [
       "(201, 4)"
      ]
     },
     "execution_count": 15,
     "metadata": {},
     "output_type": "execute_result"
    }
   ],
   "source": [
    "np.array(intermediate_sizes).shape"
   ]
  },
  {
   "cell_type": "code",
   "execution_count": 16,
   "metadata": {},
   "outputs": [
    {
     "data": {
      "text/plain": [
       "48"
      ]
     },
     "execution_count": 16,
     "metadata": {},
     "output_type": "execute_result"
    }
   ],
   "source": [
    "6*8"
   ]
  },
  {
   "cell_type": "code",
   "execution_count": 23,
   "metadata": {},
   "outputs": [
    {
     "data": {
      "text/plain": [
       "0.90000000000000013"
      ]
     },
     "execution_count": 23,
     "metadata": {},
     "output_type": "execute_result"
    }
   ],
   "source": [
    "(list(np.arange(0.8,1,0.001))+[0.999999])[100]"
   ]
  },
  {
   "cell_type": "code",
   "execution_count": 27,
   "metadata": {},
   "outputs": [
    {
     "data": {
      "image/png": "[encoded data removed]",
      "text/plain": [
       "<matplotlib.figure.Figure at 0x1a205c8eb8>"
      ]
     },
     "metadata": {},
     "output_type": "display_data"
    }
   ],
   "source": [
    "plt.figure()\n",
    "\n",
    "plt.plot(np.array(intermediate_sizes)[:,0], label='chignolin')\n",
    "plt.plot(np.array(intermediate_sizes)[:,1], label='villin')\n",
    "plt.plot(np.array(intermediate_sizes)[:,2], label='Trp-cage')\n",
    "plt.plot(np.array(intermediate_sizes)[:,3], label='NTL9')\n",
    "\n",
    "plt.legend()\n",
    "sns.despine()\n",
    "plt.xlabel('Macrostate membership cutoff')\n",
    "plt.xticks([0,50,100,150,200], ['80%', '85%', '90%', '95%', '100%'])\n",
    "plt.ylabel('# microstates in intermediate region')\n",
    "plt.savefig('intermediate_region_size_v_pcca_cutoff.pdf')\n",
    "plt.savefig('intermediate_region_size_v_pcca_cutoff.png', dpi=300)"
   ]
  },
  {
   "cell_type": "code",
   "execution_count": 22,
   "metadata": {},
   "outputs": [],
   "source": [
    "# let's get more resolution 90% - 100%"
   ]
  },
  {
   "cell_type": "code",
   "execution_count": 26,
   "metadata": {},
   "outputs": [
    {
     "data": {
      "image/png": "[encoded data removed]",
      "text/plain": [
       "<matplotlib.figure.Figure at 0x1a16c625c0>"
      ]
     },
     "metadata": {},
     "output_type": "display_data"
    }
   ],
   "source": [
    "plt.figure()\n",
    "\n",
    "plt.plot(np.array(intermediate_sizes)[100:,0], label='chignolin')\n",
    "plt.plot(np.array(intermediate_sizes)[100:,1], label='villin')\n",
    "plt.plot(np.array(intermediate_sizes)[100:,2], label='Trp-cage')\n",
    "plt.plot(np.array(intermediate_sizes)[100:,3], label='NTL9')\n",
    "\n",
    "plt.legend()\n",
    "sns.despine()\n",
    "plt.xlabel('Macrostate membership cutoff')\n",
    "plt.xticks([0,50,100], ['90%', '95%', '100%'])\n",
    "plt.ylabel('# microstates in intermediate region')\n",
    "plt.savefig('intermediate_region_size_v_pcca_cutoff_from_0_9.pdf')\n",
    "plt.savefig('intermediate_region_size_v_pcca_cutoff_from_0_9.png', dpi=300)"
   ]
  },
  {
   "cell_type": "code",
   "execution_count": null,
   "metadata": {},
   "outputs": [],
   "source": [
    "# and just 95% - 100%"
   ]
  },
  {
   "cell_type": "code",
   "execution_count": 30,
   "metadata": {},
   "outputs": [
    {
     "data": {
      "image/png": "[encoded data removed]",
      "text/plain": [
       "<matplotlib.figure.Figure at 0x1a207a2828>"
      ]
     },
     "metadata": {},
     "output_type": "display_data"
    }
   ],
   "source": [
    "plt.figure()\n",
    "\n",
    "plt.plot(np.array(intermediate_sizes)[150:,0], label='chignolin')\n",
    "plt.plot(np.array(intermediate_sizes)[150:,1], label='villin')\n",
    "plt.plot(np.array(intermediate_sizes)[150:,2], label='Trp-cage')\n",
    "plt.plot(np.array(intermediate_sizes)[150:,3], label='NTL9')\n",
    "\n",
    "plt.legend()\n",
    "sns.despine()\n",
    "plt.xlabel('Macrostate membership cutoff')\n",
    "plt.xticks([0,10,20,30,40,50], ['95%', '96%', '97%', '98%', '99%', '100%'])\n",
    "plt.ylabel('# microstates in intermediate region')\n",
    "plt.savefig('intermediate_region_size_v_pcca_cutoff_from_0_95.pdf')\n",
    "plt.savefig('intermediate_region_size_v_pcca_cutoff_from_0_95.png', dpi=300)"
   ]
  }
 ],
 "metadata": {
  "kernelspec": {
   "display_name": "Python 3",
   "language": "python",
   "name": "python3"
  },
  "language_info": {
   "codemirror_mode": {
    "name": "ipython",
    "version": 3
   },
   "file_extension": ".py",
   "mimetype": "text/x-python",
   "name": "python",
   "nbconvert_exporter": "python",
   "pygments_lexer": "ipython3",
   "version": "3.6.4"
  }
 },
 "nbformat": 4,
 "nbformat_minor": 2
}
