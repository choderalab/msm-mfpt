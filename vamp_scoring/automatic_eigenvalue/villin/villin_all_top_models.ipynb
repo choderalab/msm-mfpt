{
 "cells": [
  {
   "cell_type": "code",
   "execution_count": 1,
   "metadata": {},
   "outputs": [],
   "source": [
    "import pyemma\n",
    "import matplotlib\n",
    "%matplotlib inline\n",
    "import matplotlib.pyplot as plt\n",
    "import seaborn as sns\n",
    "sns.set_style('ticks')\n",
    "import numpy as np\n",
    "from glob import glob\n",
    "import scipy"
   ]
  },
  {
   "cell_type": "code",
   "execution_count": 2,
   "metadata": {},
   "outputs": [],
   "source": [
    "scores = [\n",
    "np.load('scores_msmlag10ns_splittica_alleigen.npy'),\n",
    "np.load('50ns/scores_msmlag50ns_splittica_alleigen.npy'),\n",
    "np.load('100ns/scores_msmlag100ns_splittica_alleigen.npy')\n",
    "]"
   ]
  },
  {
   "cell_type": "code",
   "execution_count": 3,
   "metadata": {},
   "outputs": [],
   "source": [
    "def get_order_lag(no_eigenvalues, lag):\n",
    "    \n",
    "    current_choice = no_eigenvalues  # number of eigenvalues\n",
    "\n",
    "    # lag is 0, 1 or 2 meaning 10ns, 50ns, 100ns\n",
    "    \n",
    "    output = scores[lag]\n",
    "    \n",
    "    #output = scores\n",
    "    eigenvalues_no = 49 # how many numbers of eigenvalues we've tried\n",
    "    eigenvalues_index = current_choice - 2 # this is actual number of eigenvalues - 2\n",
    "\n",
    "    # test scores\n",
    "\n",
    "    y_kinetic = []\n",
    "    y_commute = []\n",
    "    tic_nos_kinetic = []\n",
    "    tic_nos_commute = []\n",
    "\n",
    "    for model in output[1]:\n",
    "        y_kinetic_ = []\n",
    "        y_commute_ = []\n",
    "        tic_nos_kinetic_ = []\n",
    "        tic_nos_commute_ = []\n",
    "        if isinstance(model[0], list):\n",
    "            for replicate in model[eigenvalues_index::eigenvalues_no]:\n",
    "                y_kinetic_.append(replicate[0][0])\n",
    "                y_commute_.append(replicate[0][1])\n",
    "                tic_nos_kinetic_.append(replicate[1][0])\n",
    "                tic_nos_commute_.append(replicate[1][1])\n",
    "        else:\n",
    "            for replicate in model[eigenvalues_index::eigenvalues_no]:\n",
    "                y_kinetic_.append(replicate[0])\n",
    "                y_commute_.append(replicate[1])\n",
    "        y_kinetic.append(np.array(y_kinetic_))\n",
    "        y_commute.append(np.array(y_commute_))\n",
    "        if tic_nos_kinetic_:\n",
    "            tic_nos_kinetic.append(np.max(tic_nos_kinetic_))\n",
    "        else:\n",
    "            tic_nos_kinetic.append(None)\n",
    "        if tic_nos_commute_:\n",
    "            tic_nos_commute.append(np.max(tic_nos_commute_))\n",
    "        else:\n",
    "            tic_nos_commute.append(None)\n",
    "\n",
    "    y = y_kinetic + y_commute\n",
    "\n",
    "    x = []\n",
    "\n",
    "    for index, model in enumerate(output[0]):\n",
    "        if tic_nos_kinetic[index]:\n",
    "            x.append(str(('kinetic', model[0], str(model[1]) + ': ' + str(tic_nos_kinetic[index]), model[2], model[3])))\n",
    "        else:\n",
    "            x.append(str(('kinetic', model[0], model[1], model[2], model[3])))\n",
    "    for index, model in enumerate(output[0]):\n",
    "        if tic_nos_commute[index]:\n",
    "            x.append(str(('commute', model[0], str(model[1]) + ': ' + str(tic_nos_commute[index]), model[2], model[3])))\n",
    "        else:\n",
    "            x.append(str(('commute', model[0], model[1], model[2], model[3])))\n",
    "\n",
    "    order_means = []\n",
    "    #just_means = []\n",
    "    for index, model in enumerate(x):\n",
    "        order_means.append((model, np.mean(y[index])))\n",
    "        #just_means.append(np.mean(y[index]))\n",
    "    order_means = sorted(order_means, key = lambda i: i[1], reverse=True)\n",
    "    order = [i[0] for i in order_means]\n",
    "    \n",
    "#     # for those with 95p tics, remove the number of tics, so the labels between two nos of eigen are the same\n",
    "#     order_ = []\n",
    "#     for model in order:\n",
    "#         split = model.split(', ')\n",
    "#         if split[2][:4] == \"'95p\":\n",
    "#             new_model = split[0] + \", \" + split[1] + \", \" + split[2][:4] + \"', \" + split[3] + \")\"\n",
    "#             order_.append(new_model)\n",
    "#         else:\n",
    "#             new_model = split[0] + \", \" + split[1] + \", \" + split[2] + \", \" + split[3] + \")\"\n",
    "#             order_.append(new_model)\n",
    "            \n",
    "    \n",
    "#     return order_\n",
    "\n",
    "\n",
    "    # for those with 95p tics, remove the 95p so we can read number of tics into MSM making script\n",
    "    order_ = []\n",
    "    for model in order:\n",
    "        split = model.split(', ')\n",
    "        if split[2][:4] == \"'95p\":\n",
    "            new_model = split[0] + \", \" + split[1] + \", \" + split[2][6:-1] + \", \" + split[3] + \")\"\n",
    "            order_.append(new_model)\n",
    "        else:\n",
    "            new_model = split[0] + \", \" + split[1] + \", \" + split[2] + \", \" + split[3] + \")\"\n",
    "            order_.append(new_model)\n",
    "    \n",
    "    return order_"
   ]
  },
  {
   "cell_type": "code",
   "execution_count": 4,
   "metadata": {},
   "outputs": [],
   "source": [
    "top_models = []\n",
    "\n",
    "eigenvalues = [2,5,10,20,30,40,50]\n",
    "\n",
    "for k in range(len(eigenvalues)):\n",
    "    for j in range(3):\n",
    "        top_models.append(get_order_lag(eigenvalues[k], j)[0])"
   ]
  },
  {
   "cell_type": "code",
   "execution_count": 5,
   "metadata": {},
   "outputs": [
    {
     "data": {
      "text/plain": [
       "{\"('commute', 1, 10, 100)\",\n",
       " \"('commute', 1, 10, 50)\",\n",
       " \"('commute', 1, 2, 1000)\",\n",
       " \"('commute', 1, 2, 50)\",\n",
       " \"('commute', 1, 2, 600)\",\n",
       " \"('commute', 1, 2, 800)\",\n",
       " \"('commute', 1, 300, 50)\",\n",
       " \"('commute', 1, 456, 50)\",\n",
       " \"('kinetic', 1, 10, 100)\",\n",
       " \"('kinetic', 1, 10, 200)\",\n",
       " \"('kinetic', 1, 10, 50)\",\n",
       " \"('kinetic', 1, 2, 1000)\",\n",
       " \"('kinetic', 1, 2, 400)\",\n",
       " \"('kinetic', 1, 2, 600)\",\n",
       " \"('kinetic', 1, 50, 100)\"}"
      ]
     },
     "execution_count": 5,
     "metadata": {},
     "output_type": "execute_result"
    }
   ],
   "source": [
    "set(top_models)"
   ]
  },
  {
   "cell_type": "code",
   "execution_count": 7,
   "metadata": {},
   "outputs": [
    {
     "data": {
      "text/plain": [
       "21"
      ]
     },
     "execution_count": 7,
     "metadata": {},
     "output_type": "execute_result"
    }
   ],
   "source": [
    "len(top_models)"
   ]
  },
  {
   "cell_type": "code",
   "execution_count": 6,
   "metadata": {},
   "outputs": [
    {
     "data": {
      "text/plain": [
       "15"
      ]
     },
     "execution_count": 6,
     "metadata": {},
     "output_type": "execute_result"
    }
   ],
   "source": [
    "len(set(top_models))"
   ]
  },
  {
   "cell_type": "code",
   "execution_count": 5,
   "metadata": {},
   "outputs": [],
   "source": [
    "# back here having results from lilac"
   ]
  },
  {
   "cell_type": "code",
   "execution_count": 6,
   "metadata": {},
   "outputs": [],
   "source": [
    "set_top_dtrajs = np.load('top_models/dtrajs_top_models.npy')"
   ]
  },
  {
   "cell_type": "code",
   "execution_count": 7,
   "metadata": {},
   "outputs": [],
   "source": [
    "# at lag time 50 ns"
   ]
  },
  {
   "cell_type": "code",
   "execution_count": 8,
   "metadata": {},
   "outputs": [],
   "source": [
    "set_top_msms = []\n",
    "\n",
    "for dtraj in set_top_dtrajs:\n",
    "    #msm = pyemma.msm.bayesian_markov_model(list(dtraj), 250)\n",
    "    msm = pyemma.msm.estimate_markov_model(list(dtraj), 250)\n",
    "    set_top_msms.append(msm)"
   ]
  },
  {
   "cell_type": "code",
   "execution_count": 9,
   "metadata": {},
   "outputs": [
    {
     "data": {
      "text/plain": [
       "15"
      ]
     },
     "execution_count": 9,
     "metadata": {},
     "output_type": "execute_result"
    }
   ],
   "source": [
    "len(set_top_msms)"
   ]
  },
  {
   "cell_type": "code",
   "execution_count": 10,
   "metadata": {},
   "outputs": [],
   "source": [
    "top_models_dict = dict()\n",
    "\n",
    "for i in range(len(top_models)):\n",
    "    model = top_models[i]\n",
    "    for j in range(len(set(top_models))):\n",
    "        if list(set(top_models))[j] == model:\n",
    "            top_models_dict[i] = j"
   ]
  },
  {
   "cell_type": "code",
   "execution_count": 12,
   "metadata": {},
   "outputs": [],
   "source": [
    "lag_eigen_matrix = np.zeros((7,3))\n",
    "\n",
    "counter = 0\n",
    "for i in range(7):\n",
    "    for j in range(3):\n",
    "        lag_eigen_matrix[i,j] = set_top_msms[top_models_dict[counter]].timescales()[0]*0.2 # in ns\n",
    "        counter += 1"
   ]
  },
  {
   "cell_type": "code",
   "execution_count": 18,
   "metadata": {},
   "outputs": [
    {
     "data": {
      "image/png": "[encoded data removed]",
      "text/plain": [
       "<matplotlib.figure.Figure at 0x1a0d22ee80>"
      ]
     },
     "metadata": {},
     "output_type": "display_data"
    }
   ],
   "source": [
    "plt.figure(dpi=100)\n",
    "plt.imshow(lag_eigen_matrix)\n",
    "cb = plt.colorbar()\n",
    "plt.xlabel('Scoring lag time (ns)')\n",
    "plt.ylabel('Scoring # eigenvalues')\n",
    "plt.xticks(range(3), [10,50,100])\n",
    "plt.yticks(range(7), [2,5,10,20,30,40,50])\n",
    "cb.set_label('Top timescale (ns)')\n",
    "plt.title('Villin MSM lag 50 ns')\n",
    "plt.tight_layout()\n",
    "plt.savefig('top_models/villin_lag50ns_lag_eigen_its_heatmap_top_its.png', dpi=300)\n",
    "plt.savefig('top_models/villin_lag50ns_lag_eigen_its_heatmap_top_its.pdf')\n",
    "plt.show()"
   ]
  },
  {
   "cell_type": "code",
   "execution_count": 14,
   "metadata": {},
   "outputs": [],
   "source": [
    "lag_eigen_matrix_all = np.zeros((7,3))\n",
    "\n",
    "counter = 0\n",
    "for i in range(7):\n",
    "    for j in range(3):\n",
    "        lag_eigen_matrix_all[i,j] = np.sum([x for x in set_top_msms[top_models_dict[counter]].timescales()*0.2 if x > 50]) # in ns\n",
    "        counter += 1"
   ]
  },
  {
   "cell_type": "code",
   "execution_count": 17,
   "metadata": {},
   "outputs": [
    {
     "data": {
      "image/png": "[encoded data removed]",
      "text/plain": [
       "<matplotlib.figure.Figure at 0x1a0d9e8588>"
      ]
     },
     "metadata": {},
     "output_type": "display_data"
    }
   ],
   "source": [
    "plt.figure(dpi=100)\n",
    "plt.imshow(lag_eigen_matrix_all)\n",
    "cb = plt.colorbar()\n",
    "plt.xlabel('Scoring lag time (ns)')\n",
    "plt.ylabel('Scoring # eigenvalues')\n",
    "plt.xticks(range(3), [10,50,100])\n",
    "plt.yticks(range(7), [2,5,10,20,30,40,50])\n",
    "cb.set_label('Sum of timescales > lag time (ns)')\n",
    "plt.title('Villin MSM lag 50 ns')\n",
    "plt.tight_layout()\n",
    "plt.savefig('top_models/villin_lag50ns_lag_eigen_its_heatmap_all_nondecay_its.png', dpi=300)\n",
    "plt.savefig('top_models/villin_lag50ns_lag_eigen_its_heatmap_all_nondecay_its.pdf')\n",
    "plt.show()"
   ]
  },
  {
   "cell_type": "code",
   "execution_count": 19,
   "metadata": {},
   "outputs": [],
   "source": [
    "# for villin we should also do the second slowest timescale (the folding timescale)"
   ]
  },
  {
   "cell_type": "code",
   "execution_count": 20,
   "metadata": {},
   "outputs": [],
   "source": [
    "lag_eigen_matrix_fold = np.zeros((7,3))\n",
    "\n",
    "counter = 0\n",
    "for i in range(7):\n",
    "    for j in range(3):\n",
    "        lag_eigen_matrix_fold[i,j] = set_top_msms[top_models_dict[counter]].timescales()[1]*0.2 # in ns\n",
    "        counter += 1"
   ]
  },
  {
   "cell_type": "code",
   "execution_count": 22,
   "metadata": {},
   "outputs": [
    {
     "data": {
      "image/png": "[encoded data removed]",
      "text/plain": [
       "<matplotlib.figure.Figure at 0x1a0c658f60>"
      ]
     },
     "metadata": {},
     "output_type": "display_data"
    }
   ],
   "source": [
    "plt.figure(dpi=100)\n",
    "plt.imshow(lag_eigen_matrix_fold)\n",
    "cb = plt.colorbar()\n",
    "plt.xlabel('Scoring lag time (ns)')\n",
    "plt.ylabel('Scoring # eigenvalues')\n",
    "plt.xticks(range(3), [10,50,100])\n",
    "plt.yticks(range(7), [2,5,10,20,30,40,50])\n",
    "cb.set_label('Folding timescale (ns)')\n",
    "plt.title('Villin MSM lag 50 ns')\n",
    "plt.tight_layout()\n",
    "plt.savefig('top_models/villin_lag50ns_lag_eigen_its_heatmap_fold_its.png', dpi=300)\n",
    "plt.savefig('top_models/villin_lag50ns_lag_eigen_its_heatmap_fold_its.pdf')\n",
    "plt.show()"
   ]
  },
  {
   "cell_type": "code",
   "execution_count": null,
   "metadata": {},
   "outputs": [],
   "source": []
  }
 ],
 "metadata": {
  "kernelspec": {
   "display_name": "Python 3",
   "language": "python",
   "name": "python3"
  },
  "language_info": {
   "codemirror_mode": {
    "name": "ipython",
    "version": 3
   },
   "file_extension": ".py",
   "mimetype": "text/x-python",
   "name": "python",
   "nbconvert_exporter": "python",
   "pygments_lexer": "ipython3",
   "version": "3.6.4"
  }
 },
 "nbformat": 4,
 "nbformat_minor": 2
}
