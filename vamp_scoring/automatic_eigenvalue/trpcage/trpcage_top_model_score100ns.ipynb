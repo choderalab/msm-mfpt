{
 "cells": [
  {
   "cell_type": "code",
   "execution_count": 1,
   "metadata": {},
   "outputs": [],
   "source": [
    "import pyemma\n",
    "import matplotlib\n",
    "%matplotlib inline\n",
    "import matplotlib.pyplot as plt\n",
    "import seaborn as sns\n",
    "sns.set_style('ticks')\n",
    "import numpy as np\n",
    "from glob import glob"
   ]
  },
  {
   "cell_type": "code",
   "execution_count": 2,
   "metadata": {},
   "outputs": [
    {
     "name": "stdout",
     "output_type": "stream",
     "text": [
      "bsub_trpcage_score_msmlag100ns_splittica_alleigen.sh\r\n",
      "dtrajs_trpcage_lag100ns.npy\r\n",
      "dtrajs_trpcage_lag100ns_eigen2.npy\r\n",
      "scores_msmlag100ns_splittica_alleigen.npy\r\n",
      "trpcage_cktest_lag100ns_outto900ns_2eigen.pdf\r\n",
      "trpcage_cktest_lag100ns_outto900ns_2eigen.png\r\n",
      "trpcage_cktest_lag10ns_outto900ns_2eigen.pdf\r\n",
      "trpcage_cktest_lag10ns_outto900ns_2eigen.png\r\n",
      "trpcage_cktest_lag50ns_outto900ns_2eigen.pdf\r\n",
      "trpcage_cktest_lag50ns_outto900ns_2eigen.png\r\n",
      "trpcage_fractions_50ns.pdf\r\n",
      "trpcage_fractions_50ns.png\r\n",
      "trpcage_its_lag100ns.pdf\r\n",
      "trpcage_its_lag100ns.png\r\n",
      "trpcage_its_lag100ns_2eigen.pdf\r\n",
      "trpcage_its_lag100ns_2eigen.png\r\n",
      "trpcage_its_lag100ns_diffeigen.pdf\r\n",
      "trpcage_its_lag100ns_diffeigen.png\r\n",
      "trpcage_its_multilag.pdf\r\n",
      "trpcage_its_multilag.png\r\n",
      "trpcage_its_multilag_2eigen.pdf\r\n",
      "trpcage_its_multilag_2eigen.png\r\n",
      "trpcage_msmlag100ns_2eigen_vamp2.pdf\r\n",
      "trpcage_msmlag100ns_2eigen_vamp2.png\r\n",
      "trpcage_msmlag100ns_6eigen_vamp2.pdf\r\n",
      "trpcage_msmlag100ns_6eigen_vamp2.png\r\n",
      "trpcage_postprocess_100ns.ipynb\r\n",
      "trpcage_score_msmlag100ns_splittica_alleigen.py\r\n",
      "trpcgage_top_model_100ns.ipynb\r\n"
     ]
    }
   ],
   "source": [
    "ls 100ns"
   ]
  },
  {
   "cell_type": "code",
   "execution_count": 3,
   "metadata": {},
   "outputs": [],
   "source": [
    "dtrajs = list(np.load('100ns/dtrajs_trpcage_lag100ns.npy'))"
   ]
  },
  {
   "cell_type": "code",
   "execution_count": 4,
   "metadata": {},
   "outputs": [],
   "source": [
    "# 100 ns"
   ]
  },
  {
   "cell_type": "code",
   "execution_count": 8,
   "metadata": {},
   "outputs": [],
   "source": [
    "msm = pyemma.msm.estimate_markov_model(dtrajs, 500)"
   ]
  },
  {
   "cell_type": "code",
   "execution_count": 13,
   "metadata": {},
   "outputs": [
    {
     "data": {
      "text/plain": [
       "100"
      ]
     },
     "execution_count": 13,
     "metadata": {},
     "output_type": "execute_result"
    }
   ],
   "source": [
    "msm.nstates"
   ]
  },
  {
   "cell_type": "code",
   "execution_count": 9,
   "metadata": {},
   "outputs": [],
   "source": [
    "pcca = msm.pcca(2)"
   ]
  },
  {
   "cell_type": "code",
   "execution_count": 10,
   "metadata": {},
   "outputs": [
    {
     "data": {
      "text/plain": [
       "array([ 0.18892802,  0.81107198])"
      ]
     },
     "execution_count": 10,
     "metadata": {},
     "output_type": "execute_result"
    }
   ],
   "source": [
    "pcca.coarse_grained_stationary_probability"
   ]
  },
  {
   "cell_type": "code",
   "execution_count": null,
   "metadata": {},
   "outputs": [],
   "source": [
    "# 0 is folded, 1 is unfolded"
   ]
  },
  {
   "cell_type": "code",
   "execution_count": 11,
   "metadata": {},
   "outputs": [
    {
     "data": {
      "text/plain": [
       "[array([ 1, 10, 32, 35, 37, 70]),\n",
       " array([ 0,  2,  3,  4,  5,  6,  7,  8,  9, 11, 12, 13, 14, 15, 16, 17, 18,\n",
       "        19, 20, 21, 22, 23, 24, 25, 26, 27, 28, 29, 30, 31, 33, 34, 36, 38,\n",
       "        39, 40, 41, 42, 43, 44, 45, 46, 47, 48, 49, 50, 51, 52, 53, 54, 55,\n",
       "        56, 57, 58, 59, 60, 61, 62, 63, 64, 65, 66, 67, 68, 69, 71, 72, 73,\n",
       "        74, 75, 76, 77, 78, 79, 80, 81, 82, 83, 84, 85, 86, 87, 88, 89, 90,\n",
       "        91, 92, 93, 94, 95, 96, 97, 98, 99])]"
      ]
     },
     "execution_count": 11,
     "metadata": {},
     "output_type": "execute_result"
    }
   ],
   "source": [
    "msm.metastable_sets"
   ]
  },
  {
   "cell_type": "code",
   "execution_count": 12,
   "metadata": {},
   "outputs": [],
   "source": [
    "meta_sets = msm.metastable_sets"
   ]
  },
  {
   "cell_type": "code",
   "execution_count": 14,
   "metadata": {},
   "outputs": [],
   "source": [
    "np.save('trpcage_scorelag100ns_metastable_sets', msm.metastable_sets)"
   ]
  },
  {
   "cell_type": "code",
   "execution_count": 15,
   "metadata": {},
   "outputs": [],
   "source": [
    "meta_membs = msm.metastable_memberships"
   ]
  },
  {
   "cell_type": "code",
   "execution_count": 16,
   "metadata": {},
   "outputs": [],
   "source": [
    "np.save('trpcage_scorelag100ns_metastable_memberships', msm.metastable_memberships)"
   ]
  },
  {
   "cell_type": "code",
   "execution_count": 18,
   "metadata": {},
   "outputs": [
    {
     "data": {
      "image/png": "[encoded data removed]",
      "text/plain": [
       "<matplotlib.figure.Figure at 0x1a1b955978>"
      ]
     },
     "metadata": {},
     "output_type": "display_data"
    }
   ],
   "source": [
    "plt.figure(dpi=100)\n",
    "plt.scatter(range(100), meta_membs[:,0], color='red', s=10, label='Folded')\n",
    "plt.scatter(range(100), meta_membs[:,1], color='green', s=10, label='Unfolded')\n",
    "plt.xlabel('Microstate index')\n",
    "plt.ylabel('Metastable membership')\n",
    "plt.title('Trp-cage 100 ns score-lag, 100 ns MSM-lag')\n",
    "plt.legend()\n",
    "plt.tight_layout()\n",
    "plt.savefig('trpcage_scorelag100ns_metastable_membs.png', dpi=300)\n",
    "plt.show()"
   ]
  },
  {
   "cell_type": "code",
   "execution_count": null,
   "metadata": {},
   "outputs": [],
   "source": []
  }
 ],
 "metadata": {
  "kernelspec": {
   "display_name": "Python 3",
   "language": "python",
   "name": "python3"
  },
  "language_info": {
   "codemirror_mode": {
    "name": "ipython",
    "version": 3
   },
   "file_extension": ".py",
   "mimetype": "text/x-python",
   "name": "python",
   "nbconvert_exporter": "python",
   "pygments_lexer": "ipython3",
   "version": "3.6.4"
  }
 },
 "nbformat": 4,
 "nbformat_minor": 2
}
