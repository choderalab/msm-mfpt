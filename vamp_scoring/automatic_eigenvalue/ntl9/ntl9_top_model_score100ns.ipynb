{
 "cells": [
  {
   "cell_type": "code",
   "execution_count": 1,
   "metadata": {},
   "outputs": [],
   "source": [
    "import pyemma\n",
    "import matplotlib\n",
    "%matplotlib inline\n",
    "import matplotlib.pyplot as plt\n",
    "import seaborn as sns\n",
    "sns.set_style('ticks')\n",
    "import numpy as np\n",
    "from glob import glob"
   ]
  },
  {
   "cell_type": "code",
   "execution_count": 2,
   "metadata": {},
   "outputs": [
    {
     "name": "stdout",
     "output_type": "stream",
     "text": [
      "bsub_ntl9_score_msmlag100ns_splittica_alleigen.sh\r\n",
      "dtrajs_ntl9_lag100ns.npy\r\n",
      "dtrajs_ntl9_lag100ns_2eigen.npy\r\n",
      "ntl9_100ns_postprocess.ipynb\r\n",
      "ntl9_100ns_top_model.ipynb\r\n",
      "ntl9_cktest_lag100ns_outto2700ns.pdf\r\n",
      "ntl9_cktest_lag100ns_outto2700ns.png\r\n",
      "ntl9_cktest_lag100ns_outto2700ns_2eigen.pdf\r\n",
      "ntl9_cktest_lag100ns_outto2700ns_2eigen.png\r\n",
      "ntl9_cktest_lag10ns_outto2700ns.pdf\r\n",
      "ntl9_cktest_lag10ns_outto2700ns.png\r\n",
      "ntl9_cktest_lag10ns_outto2700ns_2eigen.pdf\r\n",
      "ntl9_cktest_lag10ns_outto2700ns_2eigen.png\r\n",
      "ntl9_cktest_lag200ns_outto2700ns.pdf\r\n",
      "ntl9_cktest_lag200ns_outto2700ns.png\r\n",
      "ntl9_cktest_lag200ns_outto2700ns_2eigen.pdf\r\n",
      "ntl9_cktest_lag200ns_outto2700ns_2eigen.png\r\n",
      "ntl9_cktest_lag300ns_outto2700ns.pdf\r\n",
      "ntl9_cktest_lag300ns_outto2700ns.png\r\n",
      "ntl9_cktest_lag300ns_outto2700ns_2eigen.pdf\r\n",
      "ntl9_cktest_lag300ns_outto2700ns_2eigen.png\r\n",
      "ntl9_fractions.pdf\r\n",
      "ntl9_fractions.png\r\n",
      "ntl9_its_lag100ns_diffeigen.pdf\r\n",
      "ntl9_its_lag100ns_diffeigen.png\r\n",
      "ntl9_its_multilag.pdf\r\n",
      "ntl9_its_multilag.png\r\n",
      "ntl9_its_multilag_2eigen.pdf\r\n",
      "ntl9_its_multilag_2eigen.png\r\n",
      "ntl9_lag100ns_its.pdf\r\n",
      "ntl9_lag100ns_its.png\r\n",
      "ntl9_lag100ns_its_2eigen.pdf\r\n",
      "ntl9_lag100ns_its_2eigen.png\r\n",
      "ntl9_means.pdf\r\n",
      "ntl9_means.png\r\n",
      "ntl9_msmlag100ns_12eigen_vamp2.pdf\r\n",
      "ntl9_msmlag100ns_12eigen_vamp2.png\r\n",
      "ntl9_msmlag100ns_2eigen_vamp2.pdf\r\n",
      "ntl9_msmlag100ns_2eigen_vamp2.png\r\n",
      "ntl9_score_msmlag100ns_splittica_alleigen.py\r\n",
      "scores_msmlag100ns_splittica_alleigen.npy\r\n"
     ]
    }
   ],
   "source": [
    "ls 100ns"
   ]
  },
  {
   "cell_type": "code",
   "execution_count": 3,
   "metadata": {},
   "outputs": [],
   "source": [
    "dtrajs = list(np.load('100ns/dtrajs_ntl9_lag100ns.npy'))"
   ]
  },
  {
   "cell_type": "code",
   "execution_count": 12,
   "metadata": {},
   "outputs": [],
   "source": [
    "# 200 ns"
   ]
  },
  {
   "cell_type": "code",
   "execution_count": 13,
   "metadata": {},
   "outputs": [],
   "source": [
    "msm = pyemma.msm.estimate_markov_model(dtrajs, 1000)"
   ]
  },
  {
   "cell_type": "code",
   "execution_count": 14,
   "metadata": {},
   "outputs": [
    {
     "data": {
      "text/plain": [
       "100"
      ]
     },
     "execution_count": 14,
     "metadata": {},
     "output_type": "execute_result"
    }
   ],
   "source": [
    "msm.nstates"
   ]
  },
  {
   "cell_type": "code",
   "execution_count": 15,
   "metadata": {},
   "outputs": [],
   "source": [
    "pcca = msm.pcca(2)"
   ]
  },
  {
   "cell_type": "code",
   "execution_count": 16,
   "metadata": {},
   "outputs": [
    {
     "data": {
      "text/plain": [
       "array([ 0.14060874,  0.85939126])"
      ]
     },
     "execution_count": 16,
     "metadata": {},
     "output_type": "execute_result"
    }
   ],
   "source": [
    "pcca.coarse_grained_stationary_probability"
   ]
  },
  {
   "cell_type": "code",
   "execution_count": 17,
   "metadata": {},
   "outputs": [],
   "source": [
    "# 0 is unfolded, 1 is folded"
   ]
  },
  {
   "cell_type": "code",
   "execution_count": 18,
   "metadata": {},
   "outputs": [
    {
     "data": {
      "text/plain": [
       "[array([ 1,  3,  4,  5,  7,  8,  9, 10, 11, 13, 15, 16, 17, 18, 19, 20, 21,\n",
       "        23, 24, 25, 26, 27, 28, 30, 31, 32, 33, 34, 35, 36, 37, 38, 39, 41,\n",
       "        42, 43, 44, 46, 47, 48, 49, 50, 53, 54, 55, 56, 59, 60, 61, 63, 64,\n",
       "        66, 67, 68, 69, 70, 72, 73, 75, 76, 77, 78, 79, 80, 81, 82, 84, 86,\n",
       "        87, 88, 89, 91, 92, 93, 94, 95, 96, 97, 98, 99]),\n",
       " array([ 0,  2,  6, 12, 14, 22, 29, 40, 45, 51, 52, 57, 58, 62, 65, 71, 74,\n",
       "        83, 85, 90])]"
      ]
     },
     "execution_count": 18,
     "metadata": {},
     "output_type": "execute_result"
    }
   ],
   "source": [
    "msm.metastable_sets"
   ]
  },
  {
   "cell_type": "code",
   "execution_count": 19,
   "metadata": {},
   "outputs": [],
   "source": [
    "meta_sets = msm.metastable_sets"
   ]
  },
  {
   "cell_type": "code",
   "execution_count": 20,
   "metadata": {},
   "outputs": [],
   "source": [
    "np.save('ntl9_scorelag100ns_metastable_sets', msm.metastable_sets)"
   ]
  },
  {
   "cell_type": "code",
   "execution_count": 21,
   "metadata": {},
   "outputs": [],
   "source": [
    "meta_membs = msm.metastable_memberships"
   ]
  },
  {
   "cell_type": "code",
   "execution_count": 22,
   "metadata": {},
   "outputs": [],
   "source": [
    "np.save('ntl9_scorelag100ns_metastable_memberships', msm.metastable_memberships)"
   ]
  },
  {
   "cell_type": "code",
   "execution_count": 23,
   "metadata": {},
   "outputs": [
    {
     "data": {
      "image/png": "[encoded data removed]",
      "text/plain": [
       "<matplotlib.figure.Figure at 0x1a1398da58>"
      ]
     },
     "metadata": {},
     "output_type": "display_data"
    }
   ],
   "source": [
    "plt.figure(dpi=100)\n",
    "plt.scatter(range(100), meta_membs[:,0], color='red', s=10, label='Unfolded')\n",
    "plt.scatter(range(100), meta_membs[:,1], color='green', s=10, label='Folded')\n",
    "plt.xlabel('Microstate index')\n",
    "plt.ylabel('Metastable membership')\n",
    "plt.title('NTL9 100 ns score-lag, 200 ns MSM-lag')\n",
    "plt.legend()\n",
    "plt.tight_layout()\n",
    "plt.savefig('ntl9_scorelag100ns_metastable_membs.png', dpi=300)\n",
    "plt.show()"
   ]
  },
  {
   "cell_type": "code",
   "execution_count": null,
   "metadata": {},
   "outputs": [],
   "source": []
  }
 ],
 "metadata": {
  "kernelspec": {
   "display_name": "Python 3",
   "language": "python",
   "name": "python3"
  },
  "language_info": {
   "codemirror_mode": {
    "name": "ipython",
    "version": 3
   },
   "file_extension": ".py",
   "mimetype": "text/x-python",
   "name": "python",
   "nbconvert_exporter": "python",
   "pygments_lexer": "ipython3",
   "version": "3.6.4"
  }
 },
 "nbformat": 4,
 "nbformat_minor": 2
}
