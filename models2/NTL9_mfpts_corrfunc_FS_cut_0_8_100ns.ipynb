{
 "cells": [
  {
   "cell_type": "markdown",
   "metadata": {},
   "source": [
    "# NTL9"
   ]
  },
  {
   "cell_type": "code",
   "execution_count": 4,
   "metadata": {},
   "outputs": [],
   "source": [
    "import sys\n",
    "import math\n",
    "sys.path.append(\"/Users/suarezalvareze2/Documents/workspace/NMpathAnalysis/nmpath\")\n",
    "%matplotlib inline\n",
    "import matplotlib as mpl\n",
    "import matplotlib.pyplot as plt\n",
    "import numpy as np\n",
    "import pyemma\n",
    "import mdtraj as md\n",
    "from glob import glob\n",
    "\n",
    "# My modules\n",
    "from auxfunctions import *\n",
    "from mfpt import *\n",
    "from clustering import *\n",
    "from nmm import NonMarkovModel, MarkovPlusColorModel\n",
    "\n",
    "# Print \n",
    "from IPython.display import Markdown, display"
   ]
  },
  {
   "cell_type": "markdown",
   "metadata": {},
   "source": [
    "## Auxiliary functions"
   ]
  },
  {
   "cell_type": "code",
   "execution_count": 5,
   "metadata": {
    "collapsed": true
   },
   "outputs": [],
   "source": [
    "def get_lagtime_from_array(lags, lagtime, dt=0.2):\n",
    "    idx = np.argmin(np.abs(lags * dt - lagtime))\n",
    "    return idx, lags[idx]\n",
    "\n",
    "def printmd(string):\n",
    "    display(Markdown(string))\n",
    "\n",
    "def plot_t_AB(t_cut_values, t_min_list, t_max_list, t_AB_list, tAB_interval=None):\n",
    "    t_cut_values_ns = np.array(t_cut_values)*dt\n",
    "    t_min_list_ns = np.array(t_min_list)*dt\n",
    "    t_max_list_ns = np.array(t_max_list)*dt\n",
    "    t_AB_list_ns = np.array(t_AB_list)*dt\n",
    "\n",
    "    fig = plt.figure(figsize=(15,3))\n",
    "\n",
    "    ax1 =  fig.add_subplot(131)\n",
    "    ax1.plot(t_cut_values_ns , t_AB_list_ns, \"-o\")\n",
    "    ax1.set_xlabel(\"$t_{cut}\\mathrm{(ns)}$\", fontsize = 18)\n",
    "    ax1.set_ylabel(\"$t_{AB}\\mathrm{(ns)}$\", fontsize = 18)\n",
    "    if tAB_interval is not None:\n",
    "        ax1.set_ylim(tAB_interval[0],tAB_interval[1])\n",
    "    #ax1.set_xlim(40,105)\n",
    "\n",
    "    ax2 =  fig.add_subplot(132)\n",
    "    ax2.plot(t_cut_values_ns, t_AB_list_ns/t_cut_values_ns, \"-o\",c=\"r\")\n",
    "    ax2.set_xlabel(\"$t_{cut}\\mathrm{(ns)}$\", fontsize = 18)\n",
    "    ax2.set_ylabel(\"$t_{AB} / t_{cut}$\", fontsize = 18)\n",
    "    #ax2.set_xlim(40,105)\n",
    "\n",
    "    ax3 =  fig.add_subplot(133)\n",
    "    ax3.plot(t_cut_values_ns, t_max_list_ns/t_cut_values_ns, \"-o\",c=\"g\")\n",
    "    ax3.set_xlabel(\"$t_{cut}\\mathrm{(ns)}$\", fontsize = 18)\n",
    "    ax3.set_ylabel(\"$t_{max} / t_{cut}$\", fontsize = 18)\n",
    "    #ax3.set_xlim(40,105)\n",
    "\n",
    "    plt.show()\n",
    "\n",
    "\n",
    "def plot_rmsd_histogram_clusters(t_cut_values, big_clusters_list, rmsd, dt, dtrajs):\n",
    "    max_ = len(t_cut_values)\n",
    "    select_to_plot= range(0, max_ ,3) # This will print the first column of the free energy plots\n",
    "\n",
    "\n",
    "    for i in select_to_plot:\n",
    "        macrostates = big_clusters_list[i]\n",
    "        rmsd_cluster0=[]\n",
    "        rmsd_cluster1=[]\n",
    "\n",
    "        for j, microstate in enumerate(dtrajs[0]):  # There is only one traj\n",
    "            if microstate in macrostates[0]:\n",
    "                rmsd_cluster0.append(rmsd[j])\n",
    "            elif (len(macrostates) > 1) and microstate in macrostates[1]:\n",
    "                rmsd_cluster1.append(rmsd[j])\n",
    "\n",
    "        fig = plt.figure(figsize=(5,2))\n",
    "\n",
    "        plt.hist(rmsd_cluster0,normed=True, bins=25, color=\"r\", \n",
    "                 alpha=0.5,label=\"cluster-0\", edgecolor=\"r\")\n",
    "        if len(macrostates) > 1:\n",
    "            plt.hist(rmsd_cluster1,normed=True, bins=25, color=\"b\", \n",
    "                     alpha=0.5,label=\"cluster-1\", edgecolor=\"b\")\n",
    "\n",
    "        plt.xlabel(\"RMSD$(\\AA)$\",fontsize=12)\n",
    "        plt.ylabel(\"Probability Dens.\",fontsize=12)\n",
    "        plt.legend()\n",
    "        #plt.title(\"t_cut: {:.2f}ns\".format(t_cut_values_ns[i]))\n",
    "        plt.annotate(\"t_cut: {:.2f}ns\".format(t_cut_values[i]*dt), xy=(1,2))\n",
    "        plt.xlim([0,7])\n",
    "        plt.show()\n",
    "\n",
    "def rmsd_of_cluster(cluster, rmsd, dtraj):\n",
    "    rmsd_list=[]\n",
    "    for i,element in enumerate(rmsd):\n",
    "        if dtraj[i] in cluster:\n",
    "            rmsd_list.append(element)\n",
    "    length = len(rmsd_list)\n",
    "    \n",
    "    if length == 0:\n",
    "        return None\n",
    "\n",
    "    return sum(rmsd_list)/length\n",
    "\n",
    "\n",
    "\n",
    "color_sequence = ['#d62728', '#ff9896', '#9467bd',\n",
    "                  '#8c564b', '#c49c94', '#e377c2', '#f7b6d2', '#7f7f7f',\n",
    "                  '#c7c7c7', '#bcbd22', '#dbdb8d', '#17becf', '#9edae5', '#98df8a']\n",
    "color_sequence+=color_sequence\n",
    "\n",
    "\n",
    "def cdf(pmf):\n",
    "    mycdf=[]\n",
    "    tot = 0\n",
    "    for element in pmf:\n",
    "        tot+= element\n",
    "        mycdf.append(tot)\n",
    "    return np.array(mycdf)\n",
    "\n",
    "\n",
    "\n",
    "def confindence_interval_cdf(populations, totCounts, conf_interval=0.95, n_samples=100000):\n",
    "    counts = np.round(np.array(populations)*totCounts)\n",
    "    partialCounts = sum(counts)\n",
    "    myarray = list(counts)+[totCounts-partialCounts]\n",
    "    s=np.random.dirichlet(myarray,n_samples)\n",
    "\n",
    "    s_cdf = []\n",
    "\n",
    "    for line in s:\n",
    "        s_cdf.append(cdf(line))\n",
    "    s_cdf = np.array(s_cdf)\n",
    "\n",
    "    s = np.transpose(s)\n",
    "    s_cdf = np.transpose(s_cdf)\n",
    "\n",
    "    minval = []\n",
    "    maxval = []\n",
    "    minvalcdf = []\n",
    "    maxvalcdf = []\n",
    "\n",
    "    for line in s:\n",
    "        sorted_line = np.sort(line)\n",
    "        minval.append(sorted_line[int(     (1-conf_interval)/2  * len(sorted_line))])\n",
    "        maxval.append(sorted_line[int(  (1-(1-conf_interval)/2) * len(sorted_line))])\n",
    "\n",
    "    for line in s_cdf:\n",
    "        sorted_line = np.sort(line)\n",
    "        minvalcdf.append(sorted_line[int(     (1-conf_interval)/2  * len(sorted_line))])\n",
    "        maxvalcdf.append(sorted_line[int(  (1-(1-conf_interval)/2) * len(sorted_line))])\n",
    "    \n",
    "    return minvalcdf[:-1], maxvalcdf[:-1]"
   ]
  },
  {
   "cell_type": "markdown",
   "metadata": {},
   "source": [
    "## Reading Data"
   ]
  },
  {
   "cell_type": "code",
   "execution_count": 6,
   "metadata": {},
   "outputs": [
    {
     "name": "stdout",
     "output_type": "stream",
     "text": [
      "stateA: [1, 3, 4, 5, 8, 9, 10, 11, 13, 15, 16, 17, 18, 19, 20, 21, 23, 24, 25, 26, 27, 28, 30, 31, 32, 33, 34, 35, 36, 37, 38, 39, 41, 42, 44, 46, 48, 49, 50, 53, 54, 56, 59, 60, 61, 63, 64, 66, 67, 68, 69, 70, 72, 73, 75, 76, 77, 78, 79, 80, 81, 82, 84, 86, 87, 88, 89, 91, 92, 93, 94, 95, 96, 97, 98, 99] \n",
      " stateB: [0, 65, 2, 6, 40, 74, 45, 14, 51, 52, 85, 57, 90, 29]\n"
     ]
    }
   ],
   "source": [
    "dtrajs=np.load(\"../vamp_scoring/automatic_eigenvalue/ntl9/100ns/dtrajs_ntl9_lag100ns.npy\")\n",
    "\n",
    "\n",
    "states=np.load(\"../vamp_scoring/automatic_eigenvalue/PAPER/ntl9_fold_unfold_scorelag100ns_cut_0_8.npy\")\n",
    "#states=np.load(\"../vamp_scoring/automatic_eigenvalue/PAPER/ntl9_fold_unfold_cut_0_9.npy\")\n",
    "\n",
    "stateA=list(set(states[1].flatten())) #folded\n",
    "stateB=list(set(states[0].flatten())) #unfolded\n",
    "\n",
    "\n",
    "print(\"stateA:\", stateA, \"\\n\",\"stateB:\", stateB)\n"
   ]
  },
  {
   "cell_type": "markdown",
   "metadata": {},
   "source": [
    "## MSM estimation"
   ]
  },
  {
   "cell_type": "code",
   "execution_count": 7,
   "metadata": {
    "collapsed": true
   },
   "outputs": [],
   "source": [
    "#lags = np.asarray([1, 5, 10, 20, 50] + [i * 100 for i in range(1, 21)])\n",
    "lags=np.asarray([1, 10, 50, 100, 250, 500, 750, 1000,\n",
    "            1200, 1400, 1600, 1800, 2000, 2500,\n",
    "            3000, 3500, 4000, 4500, 5000])\n",
    "\n",
    "\n",
    "msm = [pyemma.msm.estimate_markov_model(list(dtrajs), lag=lag, dt_traj='0.0002 us') for lag in lags]"
   ]
  },
  {
   "cell_type": "markdown",
   "metadata": {},
   "source": [
    "### MFPTS"
   ]
  },
  {
   "cell_type": "code",
   "execution_count": 8,
   "metadata": {
    "collapsed": true
   },
   "outputs": [],
   "source": [
    "dt = 0.0002 # in micro-sec\n",
    "\n",
    "lag_to_use = np.asarray(list(lags[0::2]) + [5000, 10000, 15000, 20000, 30000])\n",
    "lag_to_use = np.asarray(list(lags[0::2]))\n",
    "\n",
    "\n",
    "lag_index = [ get_lagtime_from_array(lags, element*0.2)[0] for element in lag_to_use ]\n",
    "\n",
    "\n",
    "msm_mfptAB = np.asarray([msm[lag_index[i]].mfpt(stateA, stateB) for i in range(len(lag_to_use))])\n",
    "msm_mfptBA = np.asarray([msm[lag_index[i]].mfpt(stateB, stateA) for i in range(len(lag_to_use))])"
   ]
  },
  {
   "cell_type": "markdown",
   "metadata": {},
   "source": [
    "## Empirical and NM (haMSM) estimates"
   ]
  },
  {
   "cell_type": "code",
   "execution_count": 9,
   "metadata": {},
   "outputs": [
    {
     "name": "stdout",
     "output_type": "stream",
     "text": [
      "1\n",
      "Number of A->B/B->A  events: 38/35\n",
      "50\n",
      "Number of A->B/B->A  events: 19/16\n",
      "250\n",
      "Number of A->B/B->A  events: 13/10\n",
      "750\n",
      "Number of A->B/B->A  events: 13/10\n",
      "1200\n",
      "Number of A->B/B->A  events: 13/10\n",
      "1600\n",
      "Number of A->B/B->A  events: 12/9\n",
      "2000\n",
      "Number of A->B/B->A  events: 13/10\n",
      "3000\n",
      "Number of A->B/B->A  events: 13/10\n",
      "4000\n",
      "Number of A->B/B->A  events: 12/9\n",
      "5000\n",
      "Number of A->B/B->A  events: 12/9\n"
     ]
    }
   ],
   "source": [
    "dt=0.0002\n",
    "\n",
    "empirical_mfptsAB =[]\n",
    "empirical_mfptsBA =[]\n",
    "nm_mfptsAB = []\n",
    "nm_mfptsBA = []\n",
    "\n",
    "nm_hist10ns_mfptsAB = []\n",
    "nm_hist10ns_mfptsBA = []\n",
    "\n",
    "nm_hist20ns_mfptsAB = []\n",
    "nm_hist20ns_mfptsBA = []\n",
    "\n",
    "nm_hist50ns_mfptsAB = []\n",
    "nm_hist50ns_mfptsBA = []\n",
    "\n",
    "nm_hist100ns_mfptsAB = []\n",
    "nm_hist100ns_mfptsBA = []\n",
    "\n",
    "std_errAB = []\n",
    "std_errBA = []\n",
    "\n",
    "for i, lag in enumerate(lag_to_use):\n",
    "    print(lag)\n",
    "    \n",
    "    nm_model = NonMarkovModel(dtrajs, stateA, stateB, lag_time=lag, sliding_window=True)\n",
    "    \n",
    "    # markov + color\n",
    "    nm_model_hist10ns  = MarkovPlusColorModel(dtrajs, stateA, stateB, lag_time=lag, hist_length=50)\n",
    "    nm_model_hist20ns  = MarkovPlusColorModel(dtrajs, stateA, stateB, lag_time=lag, hist_length=100)\n",
    "    nm_model_hist50ns  = MarkovPlusColorModel(dtrajs, stateA, stateB, lag_time=lag, hist_length=250)\n",
    "    nm_model_hist100ns = MarkovPlusColorModel(dtrajs, stateA, stateB, lag_time=lag, hist_length=500)\n",
    "    \n",
    "    nm_kinetics = nm_model.mfpts()\n",
    "    nm_model_hist10ns_kinetics = nm_model_hist10ns.mfpts()\n",
    "    nm_model_hist20ns_kinetics = nm_model_hist20ns.mfpts()\n",
    "    nm_model_hist50ns_kinetics = nm_model_hist50ns.mfpts()\n",
    "    nm_model_hist100ns_kinetics = nm_model_hist100ns.mfpts()\n",
    "    \n",
    "    e_kinetics = nm_model.empirical_mfpts()\n",
    "    \n",
    "    \n",
    "    empirical_mfptsAB.append(e_kinetics['mfptAB']*dt)\n",
    "    empirical_mfptsBA.append(e_kinetics['mfptBA']*dt)\n",
    "    \n",
    "    std_errAB.append(e_kinetics['std_err_mfptAB']*dt)\n",
    "    std_errBA.append(e_kinetics['std_err_mfptBA']*dt)\n",
    "    \n",
    "    nm_mfptsAB.append(nm_kinetics['mfptAB']*dt)\n",
    "    nm_mfptsBA.append(nm_kinetics['mfptBA']*dt)\n",
    "    \n",
    "    nm_hist10ns_mfptsAB.append(nm_model_hist10ns_kinetics['mfptAB']*dt)\n",
    "    nm_hist10ns_mfptsBA.append(nm_model_hist10ns_kinetics['mfptBA']*dt)\n",
    "    \n",
    "    nm_hist20ns_mfptsAB.append(nm_model_hist20ns_kinetics['mfptAB']*dt)\n",
    "    nm_hist20ns_mfptsBA.append(nm_model_hist20ns_kinetics['mfptBA']*dt)\n",
    "    \n",
    "    nm_hist50ns_mfptsAB.append(nm_model_hist50ns_kinetics['mfptAB']*dt)\n",
    "    nm_hist50ns_mfptsBA.append(nm_model_hist50ns_kinetics['mfptBA']*dt)\n",
    "    \n",
    "    nm_hist100ns_mfptsAB.append(nm_model_hist100ns_kinetics['mfptAB']*dt)\n",
    "    nm_hist100ns_mfptsBA.append(nm_model_hist100ns_kinetics['mfptBA']*dt)"
   ]
  },
  {
   "cell_type": "code",
   "execution_count": 10,
   "metadata": {},
   "outputs": [
    {
     "data": {
      "text/markdown": [
       "#### Is there an inflection point?:"
      ],
      "text/plain": [
       "<IPython.core.display.Markdown object>"
      ]
     },
     "metadata": {},
     "output_type": "display_data"
    },
    {
     "data": {
      "image/png": "[encoded data removed]",
      "text/plain": [
       "<matplotlib.figure.Figure at 0x1145bc6d8>"
      ]
     },
     "metadata": {},
     "output_type": "display_data"
    }
   ],
   "source": [
    "lag_to_use_ns = np.array(lag_to_use) * 0.2\n",
    "\n",
    "empirical_mfptAB_max = np.array(empirical_mfptsAB) + 2*np.array(std_errAB)\n",
    "empirical_mfptAB_min = np.array(empirical_mfptsAB) - 2*np.array(std_errAB)\n",
    "\n",
    "empirical_mfptBA_max = np.array(empirical_mfptsBA) + 2*np.array(std_errBA)\n",
    "empirical_mfptBA_min = np.array(empirical_mfptsBA) - 2*np.array(std_errBA)\n",
    "\n",
    "printmd(\"#### Is there an inflection point?:\")\n",
    "\n",
    "fig=plt.figure(figsize = (10,4))\n",
    "\n",
    "ax1 = fig.add_subplot(121)\n",
    "ax1.fill_between(lag_to_use_ns, empirical_mfptAB_min, empirical_mfptAB_max,\n",
    "                 alpha=0.5, color=\"green\", label=\"Empiric Conf. Int.(95%)\" )\n",
    "\n",
    "\n",
    "ax1.plot(lag_to_use_ns, nm_hist10ns_mfptsAB, \"--\", label=\"haMSM(hist=10ns)\", c='b')\n",
    "ax1.plot(lag_to_use_ns, nm_hist100ns_mfptsAB, \"-.\", label=\"haMSM(hist=100ns)\", c='b')\n",
    "ax1.plot(lag_to_use_ns, nm_mfptsAB, \"-o\", label=\"haMSM(full history)\", c='b')\n",
    "\n",
    "ax1.plot(lag_to_use_ns, msm_mfptAB, \"-o\",color='k', label=\"MSM\")\n",
    "ax1.plot(lag_to_use_ns, [empirical_mfptsAB[0] for i in lag_to_use_ns], \"--\", color='green',label='MD direct')\n",
    "#ax1.plot(lag_to_use_ns, lag_to_use_ns/nm_model.popA/1000, c='purple')\n",
    "ax1.set_xscale(\"log\")\n",
    "ax1.set_yscale(\"log\")\n",
    "ax1.set_title(\"NTL9 FOLDING\")\n",
    "ax1.set_xlabel(\"Lag-time(ns)\")\n",
    "ax1.set_ylabel(\"MFPT($\\mu$s)\")\n",
    "#ax1.set_xlim(0,210)\n",
    "#plt.legend(loc='upper left')\n",
    "\n",
    "ax2 = fig.add_subplot(122, sharey=ax1)\n",
    "ax2.fill_between(lag_to_use_ns, empirical_mfptBA_min, empirical_mfptBA_max,\n",
    "                 alpha=0.5, color=\"green\", label=\"Empiric Conf. Int.(95%)\" )\n",
    "\n",
    "ax2.plot(lag_to_use_ns, nm_hist10ns_mfptsBA, \"--\", label=\"haMSM(hist=10ns)\", c='b')\n",
    "ax2.plot(lag_to_use_ns, nm_hist100ns_mfptsBA, \"-.\", label=\"haMSM(hist=100ns)\", c='b')\n",
    "ax2.plot(lag_to_use_ns, nm_mfptsBA, \"-o\", label=\"haMSM(full history)\", c='b' )\n",
    "\n",
    "ax2.plot(lag_to_use_ns, msm_mfptBA, \"-o\",color='k', label=\"MSM\")\n",
    "#ax2.plot(lag_to_use_ns, lag_to_use_ns/nm_model.popB/1000, color='purple')\n",
    "\n",
    "\n",
    "ax2.set_xscale(\"log\")\n",
    "ax2.set_yscale(\"log\")\n",
    "ax2.set_title(\"NTL9 UNFOLDING\")\n",
    "ax2.set_xlabel(\"Lag-time(ns)\")\n",
    "#ax2.set_xlim(0,210)\n",
    "plt.legend(loc='lower right')\n",
    "ax2.plot(lag_to_use_ns, [empirical_mfptsBA[0] for i in lag_to_use_ns], \"--\", color='green', label='MD direct')\n",
    "#plt.legend(bbox_to_anchor=(1.05, 1), loc=2, borderaxespad=0.)\n",
    "\n",
    "plt.show()"
   ]
  },
  {
   "cell_type": "markdown",
   "metadata": {},
   "source": [
    "## Markov + Color : History Analysis (Lag=1tau)"
   ]
  },
  {
   "cell_type": "code",
   "execution_count": 11,
   "metadata": {},
   "outputs": [
    {
     "name": "stdout",
     "output_type": "stream",
     "text": [
      "Number of A->B/B->A  events: 38/35\n"
     ]
    }
   ],
   "source": [
    "dt =0.0002\n",
    "\n",
    "discrete_traj = dtrajs\n",
    "\n",
    "history = np.array([0, 1, 10, 50, 100, 200, 300, 400, 500])\n",
    "mpc_mfptsAB = []\n",
    "mpc_mfptsBA = []\n",
    "\n",
    "for hist in history:\n",
    "    model = MarkovPlusColorModel(discrete_traj, stateA, stateB, hist_length=hist)\n",
    "    kinetics = model.mfpts()\n",
    "    mpc_mfptsAB.append(kinetics['mfptAB']*dt)\n",
    "    mpc_mfptsBA.append(kinetics['mfptBA']*dt)\n",
    "\n",
    "# Empirical values:\n",
    "emp_mfpts = model.empirical_mfpts()\n",
    "\n",
    "emp_mfptAB = emp_mfpts['mfptAB']*dt\n",
    "emp_mfptBA = emp_mfpts['mfptBA']*dt\n",
    "emp_std_err_mfptAB = emp_mfpts['std_err_mfptAB']*dt\n",
    "emp_std_err_mfptBA = emp_mfpts['std_err_mfptBA']*dt"
   ]
  },
  {
   "cell_type": "code",
   "execution_count": 12,
   "metadata": {},
   "outputs": [
    {
     "data": {
      "image/png": "[encoded data removed]",
      "text/plain": [
       "<matplotlib.figure.Figure at 0x1a1a78c208>"
      ]
     },
     "metadata": {},
     "output_type": "display_data"
    }
   ],
   "source": [
    "alpha = 0.5\n",
    "\n",
    "fig =plt.figure(figsize = (10,4))\n",
    "\n",
    "err_maxAB = [emp_mfptAB + 2*emp_std_err_mfptAB for _ in history]\n",
    "err_minAB = [emp_mfptAB - 2*emp_std_err_mfptAB for _ in history]\n",
    "err_maxBA = [emp_mfptBA + 2*emp_std_err_mfptBA for _ in history]\n",
    "err_minBA = [emp_mfptBA - 2*emp_std_err_mfptBA for _ in history]\n",
    "\n",
    "\n",
    "\n",
    "ax1 = fig.add_subplot(121, sharey=ax1)\n",
    "ax1.fill_between(history*0.2, err_minBA, err_maxBA,\n",
    "                 alpha=alpha, color=\"green\", label=\"Conf. Int.(95%)\" )\n",
    "ax1.plot(history*0.2, mpc_mfptsBA, \"-o\", label=\"Markov+Color\", color='b')\n",
    "ax1.set_yscale(\"log\")\n",
    "ax1.set_title(\"NTL9 FOLDING\")\n",
    "ax1.set_xlabel(\"History Length(ns)\")\n",
    "#ax1.legend(loc='upper left')\n",
    "ax1.set_xlim(-2,80)\n",
    "ax1.set_ylim(0.01,10)\n",
    "\n",
    "\n",
    "ax2 = fig.add_subplot(122)\n",
    "ax2.fill_between(history*0.2, err_minAB, err_maxAB,\n",
    "                 alpha=alpha, color=\"green\", label=\"MD Conf. Int.(95%, lag=0.2ns)\" )\n",
    "ax2.plot(history*0.2, mpc_mfptsAB, \"-o\", label=\"haMSM\", color='b')\n",
    "ax2.set_yscale(\"log\")\n",
    "ax2.set_title(\"NTL9 UNFOLDING\")\n",
    "ax2.set_xlabel(\"History Length(ns)\")\n",
    "ax2.set_ylabel(\"MFPT($\\mu$s)\")\n",
    "ax2.legend(loc='upper left')\n",
    "ax2.set_xlim(-2,80)\n",
    "ax2.set_ylim(0.01,10)\n",
    "\n",
    "plt.show()"
   ]
  },
  {
   "cell_type": "markdown",
   "metadata": {},
   "source": [
    "## First Passage Time Distribution"
   ]
  },
  {
   "cell_type": "code",
   "execution_count": 13,
   "metadata": {},
   "outputs": [
    {
     "data": {
      "text/plain": [
       "{'mfptAB': 44088.531983690606, 'mfptBA': 220466.62834125198}"
      ]
     },
     "execution_count": 13,
     "metadata": {},
     "output_type": "execute_result"
    }
   ],
   "source": [
    "nm_model2 = NonMarkovModel(dtrajs, stateA, stateB)\n",
    "nm_model2.mfpts() ## This values has to be multiplied by dt = 0.2ns"
   ]
  },
  {
   "cell_type": "code",
   "execution_count": 14,
   "metadata": {
    "collapsed": true
   },
   "outputs": [],
   "source": [
    "lag_to_use_fptd = [1, 10, 100, 1000]"
   ]
  },
  {
   "cell_type": "code",
   "execution_count": 15,
   "metadata": {
    "collapsed": true
   },
   "outputs": [],
   "source": [
    "fptdAB = nm_model2.fpt_distrib_AB(max_x=5000, dt=0.2)  # Computes the analytic dist. up to 5000 lag times\n",
    "fptdBA = nm_model2.fpt_distrib_BA(max_x=10000, dt=0.2)\n",
    "empiric_fptsAB, empiric_fptsBA, tb_values = nm_model2.empirical_fpts()"
   ]
  },
  {
   "cell_type": "code",
   "execution_count": 16,
   "metadata": {
    "collapsed": true
   },
   "outputs": [],
   "source": [
    "#Markov densities\n",
    "nm_model2.markovian=True\n",
    "\n",
    "markov_fptdAB_list=[]\n",
    "markov_fptdBA_list=[]\n",
    "\n",
    "for lag in lag_to_use_fptd:\n",
    "    nm_model2.lag_time=lag\n",
    "    markov_fptdAB_list.append(nm_model2.fpt_distrib_AB(max_x=5000, dt=0.2))\n",
    "    markov_fptdBA_list.append(nm_model2.fpt_distrib_BA(max_x=10000, dt=0.2))"
   ]
  },
  {
   "cell_type": "code",
   "execution_count": 17,
   "metadata": {},
   "outputs": [
    {
     "data": {
      "image/png": "[encoded data removed]",
      "text/plain": [
       "<matplotlib.figure.Figure at 0x1a1e84c780>"
      ]
     },
     "metadata": {},
     "output_type": "display_data"
    }
   ],
   "source": [
    "fig =plt.figure(figsize = (12,4))\n",
    "\n",
    "ax1 = fig.add_subplot(121)\n",
    "ax1.plot(*fptdBA.T,label='haMSM, lag=0.2ns',lw=2.5, color='b')\n",
    "\n",
    "for i, density in enumerate(markov_fptdBA_list):\n",
    "    ax1.plot(*density.T,'--', linewidth=2.0, color=color_sequence[i],\n",
    "             label='Markov, lag={}ns'.format(lag_to_use_fptd[i]*0.2) )\n",
    "\n",
    "ax1.hist(np.array(empiric_fptsBA)*0.2, normed=True, bins=20, label='MD Direct', color='green', alpha=0.5)\n",
    "ax1.set_xlabel(\"Folding FPT(ns)\", fontsize=14)\n",
    "ax1.set_xlim([0,2000])\n",
    "ax1.set_ylim(0,0.0045)\n",
    "ax1.set_title('NTL9 Folding', fontsize=15)\n",
    "ax1.legend()\n",
    "\n",
    "\n",
    "ax2 = fig.add_subplot(122)\n",
    "ax2.plot(*fptdAB.T,label='haMSM, lag=0.2ns', color='b',lw=2.5)\n",
    "\n",
    "for i, density in enumerate(markov_fptdAB_list):\n",
    "    ax2.plot(*density.T,'--', linewidth=2.0, color=color_sequence[i],\n",
    "             label='Markov, lag={}ns'.format(lag_to_use_fptd[i]*0.2) )\n",
    "\n",
    "\n",
    "\n",
    "ax2.hist(np.array(empiric_fptsAB)*0.2, normed=True, bins=50, label='MD Direct', color='green', alpha=0.5)\n",
    "ax2.set_ylabel(\"Prob. Densitiy\", fontsize=14)\n",
    "ax2.set_xlabel(\"Unfolding FPT(ns)\", fontsize=14)\n",
    "ax2.set_xlim([0,800])\n",
    "ax2.set_ylim(0,0.006)\n",
    "ax2.set_title('NTL9 unfolding', fontsize=15)\n",
    "\n",
    "fig.tight_layout\n",
    "\n",
    "plt.show()"
   ]
  },
  {
   "cell_type": "markdown",
   "metadata": {},
   "source": [
    "## Event duration ($t_b$)"
   ]
  },
  {
   "cell_type": "code",
   "execution_count": null,
   "metadata": {},
   "outputs": [
    {
     "data": {
      "text/markdown": [
       "###  Average $t_b$ = 212.63ns"
      ],
      "text/plain": [
       "<IPython.core.display.Markdown object>"
      ]
     },
     "metadata": {},
     "output_type": "display_data"
    },
    {
     "data": {
      "text/markdown": [
       "###  Median $t_b$ = 53.40ns"
      ],
      "text/plain": [
       "<IPython.core.display.Markdown object>"
      ]
     },
     "metadata": {},
     "output_type": "display_data"
    },
    {
     "data": {
      "image/png": "[encoded data removed]",
      "text/plain": [
       "<matplotlib.figure.Figure at 0x1a29c492b0>"
      ]
     },
     "metadata": {},
     "output_type": "display_data"
    }
   ],
   "source": [
    "printmd(\"###  Average $t_b$ = {:.2f}ns\".format(0.2*sum(tb_values)/len(tb_values)))\n",
    "printmd(\"###  Median $t_b$ = {:.2f}ns\".format(0.2*np.median(tb_values)))\n",
    "\n",
    "plt.hist(np.array(tb_values)*0.2, normed=True, bins=50, color='blue', alpha=0.5)\n",
    "plt.xlabel(\"$t_b (ns)$\", fontsize=15)\n",
    "plt.ylabel(\"Prob. Density\", fontsize=15)\n",
    "plt.annotate\n",
    "plt.xlim([0,80])\n",
    "plt.show()"
   ]
  },
  {
   "cell_type": "markdown",
   "metadata": {},
   "source": [
    "## Correlation functions"
   ]
  },
  {
   "cell_type": "code",
   "execution_count": null,
   "metadata": {
    "collapsed": true
   },
   "outputs": [],
   "source": [
    "times =  range(400, 20000, 400)\n",
    "times_in_us = np.array(times)*0.0002\n",
    "\n",
    "emp_coorAB = nm_model.empirical_corr_function(nm_model.stateA, nm_model.stateB, times=times)\n",
    "emp_coorAA = nm_model.empirical_corr_function(nm_model.stateA, nm_model.stateA, times=times)\n",
    "emp_coorBB = nm_model.empirical_corr_function(nm_model.stateB, nm_model.stateB, times=times)"
   ]
  },
  {
   "cell_type": "code",
   "execution_count": null,
   "metadata": {
    "scrolled": true
   },
   "outputs": [],
   "source": [
    "pA = nm_model.popA\n",
    "pB = nm_model.popB\n",
    "\n",
    "alpha = 0.85\n",
    "\n",
    "for lag in [1, 10, 50, 100, 200, 400]:\n",
    "\n",
    "    nm_model.lag_time=lag\n",
    "    print(46*' ' + 'LAG TIME: {}ns'.format(lag*0.2))\n",
    "\n",
    "    nm_pAA, nm_pAB, nm_pBA, nm_pBB = nm_model.corr_function(times=times)\n",
    "    \n",
    "    nm_model.markovian = True\n",
    "    msm_pAA, msm_pAB, msm_pBA, msm_pBB = nm_model.corr_function(times=times)\n",
    "    nm_model.markovian = False\n",
    "\n",
    "    fig = plt.figure(figsize=(12,3))\n",
    "    fig.add_subplot(131)\n",
    "    plt.plot(times_in_us, emp_coorAB/pA, label='MD', color='green', alpha=alpha)\n",
    "    plt.plot(times_in_us, nm_pAB/pA, label='haMSM', color='blue', alpha=alpha)\n",
    "    plt.plot(times_in_us, msm_pAB/pA, label='MSM', color='red', alpha=alpha)\n",
    "    plt.xlabel('$t(\\mu s)$', fontsize=16)\n",
    "    plt.ylabel('$Pr(x_t \\in U|\\; x_0 \\in F)$', fontsize=15)\n",
    "\n",
    "    fig.add_subplot(132)\n",
    "    plt.plot(times_in_us, emp_coorAA/pA, label='MD', color='green', alpha=alpha)\n",
    "    plt.plot(times_in_us, nm_pAA/pA, label='haMSM', color='blue', alpha=alpha)\n",
    "    plt.plot(times_in_us, msm_pAA/pA, label='MSM', color='red', alpha=alpha)\n",
    "    \n",
    "    plt.xlabel('$t(\\mu s)$', fontsize=16)\n",
    "    plt.ylabel('$Pr(x_t \\in F|\\; x_0 \\in F)$', fontsize=15)\n",
    "    \n",
    "    fig.add_subplot(133)\n",
    "    plt.plot(times_in_us, emp_coorBB/pB, label='MD', color='green', alpha=alpha)\n",
    "    plt.plot(times_in_us, nm_pBB/pB, label='haMSM', color='blue', alpha=alpha)\n",
    "    plt.plot(times_in_us, msm_pBB/pB, label='MSM', color='red', alpha=alpha )\n",
    "    plt.xlabel('$t(\\mu s)$', fontsize=16)\n",
    "    plt.ylabel('$Pr(x_t \\in U|\\; x_0 \\in U)$', fontsize=15)\n",
    "    plt.legend(loc='upper right')\n",
    "\n",
    "    fig.tight_layout()\n",
    "\n",
    "    plt.show()"
   ]
  },
  {
   "cell_type": "markdown",
   "metadata": {},
   "source": [
    "## Fundamental Sequences\n",
    "### Building the model\n",
    "\n",
    "For the calculation of the fundamental sequences the microstates inside every macrostate (A and B) \n",
    "are merged together. Then the sates A and B are not longer composed by multiple microstates but by a \n",
    "single (big) one. "
   ]
  },
  {
   "cell_type": "code",
   "execution_count": null,
   "metadata": {
    "collapsed": true
   },
   "outputs": [],
   "source": [
    "nm_model = NonMarkovModel(dtrajs, stateA, stateB, lag_time=1, coarse_macrostates=True)\n",
    "m_p_color = MarkovPlusColorModel(dtrajs, stateA, stateB, lag_time=1, coarse_macrostates=True, hist_length=100)"
   ]
  },
  {
   "cell_type": "markdown",
   "metadata": {},
   "source": [
    "### Obtaining the FSs"
   ]
  },
  {
   "cell_type": "code",
   "execution_count": null,
   "metadata": {
    "collapsed": true
   },
   "outputs": [],
   "source": [
    "mdFS, mdFSweights, tot_count_md = nm_model.empirical_weighted_FS()\n",
    "\n",
    "nmFS, nmFSweights, _ = nm_model.weighted_FS()\n",
    "mcFS, mcFSweights, _ = m_p_color.weighted_FS()\n",
    "\n",
    "\n",
    "\n",
    "nm_model.markovian = True\n",
    "msmFS, msmFSweights, _ = nm_model.weighted_FS() # lag=1\n",
    "\n",
    "nm_model.lag_time = 10\n",
    "msmFS_10, msmFSweights_10, _ = nm_model.weighted_FS() # lag=10\n",
    "\n",
    "nm_model.lag_time = 50\n",
    "msmFS_50, msmFSweights_50, _ = nm_model.weighted_FS() # lag=100\n",
    "\n",
    "nm_model.lag_time = 1000\n",
    "msmFS_1000, msmFSweights_1000, _ = nm_model.weighted_FS() # lag=1000\n",
    "\n",
    "\n",
    "nm_model.lag_time\n",
    "\n",
    "nm_model.markovian = False"
   ]
  },
  {
   "cell_type": "code",
   "execution_count": null,
   "metadata": {
    "collapsed": true
   },
   "outputs": [],
   "source": [
    "### Comparing apples to apples"
   ]
  },
  {
   "cell_type": "code",
   "execution_count": null,
   "metadata": {
    "collapsed": true
   },
   "outputs": [],
   "source": [
    "nmFSweights_temp = []\n",
    "mcFSweights_temp = []\n",
    "\n",
    "msmFSweights_temp = []\n",
    "msmFSweights_temp_10 = []\n",
    "msmFSweights_temp_50 = []\n",
    "msmFSweights_temp_1000 = []\n",
    "\n",
    "for i, element in enumerate(mdFS):\n",
    "    \n",
    "    # lag=1\n",
    "    if element in nmFS:\n",
    "        nmFSweights_temp.append(nmFSweights[nmFS.index(element)])\n",
    "    else:\n",
    "        nmFSweights_temp.append(0)\n",
    "    \n",
    "    if element in msmFS:\n",
    "        msmFSweights_temp.append(msmFSweights[msmFS.index(element)])\n",
    "    else:\n",
    "        msmFSweights_temp.append(0)\n",
    "    \n",
    "    if element in mcFS:\n",
    "        mcFSweights_temp.append(mcFSweights[mcFS.index(element)])\n",
    "    else:\n",
    "        mcFSweights_temp.append(0)\n",
    "    \n",
    "    # lag=10\n",
    "    if element in msmFS_10:\n",
    "        msmFSweights_temp_10.append(msmFSweights_10[msmFS_10.index(element)])\n",
    "    else:\n",
    "        msmFSweights_temp_10.append(0)\n",
    "    \n",
    "    # lag=50\n",
    "    if element in msmFS_50:\n",
    "        msmFSweights_temp_50.append(msmFSweights_50[msmFS_50.index(element)])\n",
    "    else:\n",
    "        msmFSweights_temp_50.append(0)\n",
    "    \n",
    "    # lag=1000\n",
    "    if element in msmFS_1000:\n",
    "        msmFSweights_temp_1000.append(msmFSweights_1000[msmFS_1000.index(element)])\n",
    "    else:\n",
    "        msmFSweights_temp_1000.append(0)\n"
   ]
  },
  {
   "cell_type": "code",
   "execution_count": null,
   "metadata": {
    "collapsed": true
   },
   "outputs": [],
   "source": [
    "mdmin, mdmax = confindence_interval_cdf(mdFSweights, tot_count_md)"
   ]
  },
  {
   "cell_type": "markdown",
   "metadata": {},
   "source": [
    "### Plot"
   ]
  },
  {
   "cell_type": "code",
   "execution_count": null,
   "metadata": {},
   "outputs": [],
   "source": [
    "printmd(\"#### Note: We use a reduced number of states for the Fundamental Sequences. The classes are ranked based on their empirical populaiton\")\n",
    "\n",
    "alpha=0.8\n",
    "x = list( range(len(mdFS))  )\n",
    "\n",
    "plt.fill_between(x, mdmin, mdmax, color='green', alpha=0.4, label=r'MD Conf. Int. 95% ($\\tau=0.2$ns)')\n",
    "plt.plot(x, cdf(nmFSweights_temp), label = r'haMSM ($\\tau=0.2$ns)', color='blue', alpha=alpha)\n",
    "plt.plot(x, cdf(mcFSweights_temp), '--',label = r'haMSM ($\\tau=0.2$ns, hist=20ns)', color='blue', alpha=alpha)\n",
    "\n",
    "plt.plot(x, cdf(msmFSweights_temp),':', label = r'MSM ($\\tau=0.2$ns)', color='red', alpha=alpha)\n",
    "plt.plot(x, cdf(msmFSweights_temp_10),'--', label = r'MSM ($\\tau=2.0$ns)', color='red', alpha=alpha)\n",
    "plt.plot(x, cdf(msmFSweights_temp_50),'-.', label = r'MSM ($\\tau=10$ns)', color='red', alpha=alpha)\n",
    "plt.plot(x, cdf(msmFSweights_temp_1000),'-', label = r'MSM ($\\tau=200$ns)', color='red', alpha=alpha)\n",
    "\n",
    "\n",
    "plt.xticks([i for i in range(0,2*len(mdFS),1)])\n",
    "plt.xlim([0,10])\n",
    "plt.ylim([0,1.0])\n",
    "plt.xlabel('Pathway Class', fontsize=14)\n",
    "plt.ylabel('Cumulative Probability', fontsize=14)\n",
    "\n",
    "plt.legend(bbox_to_anchor=(1.05, 1), loc=2, borderaxespad=0.)\n",
    "plt.show()\n",
    "\n",
    "# Plot without MSM\n",
    "plt.fill_between(x, mdmin, mdmax, color='green', alpha=0.4, label=r'MD Conf. Int. 95% ($\\tau=0.2$ns)')\n",
    "plt.plot(x, cdf(nmFSweights_temp), label = r'haMSM ($\\tau=0.2$ns)', color='blue', alpha=alpha)\n",
    "plt.plot(x, cdf(mcFSweights_temp), '--',label = r'haMSM ($\\tau=0.2$ns, hist=20ns)', color='blue', alpha=alpha)\n",
    "\n",
    "\n",
    "plt.xticks([i for i in range(0,2*len(mdFS),1)])\n",
    "plt.xlim([0,10])\n",
    "plt.ylim([0.0,1.0])\n",
    "plt.xlabel('Pathway Class', fontsize=14)\n",
    "plt.ylabel('Cumulative Probability', fontsize=14)\n",
    "\n",
    "plt.legend(bbox_to_anchor=(1.05, 1), loc=2, borderaxespad=0.)\n",
    "plt.show()"
   ]
  },
  {
   "cell_type": "code",
   "execution_count": null,
   "metadata": {
    "collapsed": true
   },
   "outputs": [],
   "source": []
  }
 ],
 "metadata": {
  "kernelspec": {
   "display_name": "Python 3",
   "language": "python",
   "name": "python3"
  },
  "language_info": {
   "codemirror_mode": {
    "name": "ipython",
    "version": 3
   },
   "file_extension": ".py",
   "mimetype": "text/x-python",
   "name": "python",
   "nbconvert_exporter": "python",
   "pygments_lexer": "ipython3",
   "version": "3.6.3"
  }
 },
 "nbformat": 4,
 "nbformat_minor": 1
}
