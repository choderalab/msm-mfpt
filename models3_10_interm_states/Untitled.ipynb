{
 "cells": [
  {
   "cell_type": "code",
   "execution_count": 10,
   "metadata": {},
   "outputs": [],
   "source": [
    " a=[37, 35, 17, 115, 977, 3, 1, 1, 1, 1, 1, 3, 3, 11, 347, 1, 5, 13, 5, 1, 1, 1, 13, 17, 405, 1, 1, 5, 3, 1, 1, 557, 1, 1, 1, 11, 1, 1, 3, 1, 1, 1, 1, 3, 1, 1, 3, 1, 1, 9, 1, 1, 15, 1, 33, 751, 261, 45, 315, 1, 1, 3, 3, 789, 465, 135, 1179, 1213, 903, 3, 87, 1, 3, 1, 1, 1, 1, 1, 1, 1, 23, 1, 1, 1, 3, 1, 9, 49, 31, 23, 1, 1, 3, 3, 1, 1, 3, 1, 1, 1, 3, 23, 1, 1, 1, 1, 9, 3, 1, 291, 1, 1, 1, 1, 1, 1, 1, 1, 1, 1, 1, 1, 3, 1, 7, 1, 1, 1, 3, 3, 1, 1, 1, 3, 1, 1, 1, 1, 1, 1, 1, 1, 1, 1, 5, 1, 1, 1, 1, 1, 23, 17, 1, 41, 137, 3, 3, 1, 1, 5, 5, 1, 3, 1, 1, 1, 1, 1, 5, 5, 1, 1, 1, 7, 1, 1, 1, 215, 239, 119, 1, 9, 1, 31, 5, 5, 1, 5]\n",
    "a=[1, 1, 1, 1, 1, 1, 1, 1, 1, 1, 1, 1, 3, 1, 1, 1, 1, 1, 1, 1, 1, 1, 1, 1, 1, 1, 3, 5, 49, 223, 981, 3, 1, 1, 1, 1, 1, 3, 1, 1, 1, 1, 1, 1, 5, 11, 383, 1, 3, 13, 5, 75, 573, 1, 1, 107, 1, 5, 5, 1, 3, 573, 3, 1, 1, 3, 1, 1, 1, 3, 1, 9, 1, 1, 17, 427, 41, 3, 541, 3, 5, 1, 1, 1, 1, 3, 1, 1, 1, 1, 1, 1, 1, 787, 473, 1, 1, 3, 5, 159, 457, 2157, 3643, 1, 1, 1, 1, 1, 1, 1, 1, 1, 1, 1, 1, 1, 1, 1, 1, 1, 1, 1, 1, 1, 1, 1, 1, 1, 11, 15, 1, 5, 1283, 1, 1, 1, 1, 1, 1, 1, 7, 1, 1, 1, 1, 1, 1, 1, 1, 1, 1, 1, 1, 1, 5, 1, 1, 1, 1, 1, 3, 3, 1, 1, 1, 1, 1, 1, 1, 21, 1, 1, 1, 1, 1, 1, 1, 1, 1, 1, 1, 7, 73, 293, 35, 1, 65, 1, 1, 23, 3, 1, 1, 1, 1, 1, 3, 1, 1, 1, 1, 1, 1, 1799, 1, 1, 5, 1, 1, 1, 1, 1, 1, 1, 1, 1, 1, 3, 3, 3, 1, 1, 5, 1, 1, 3, 1, 3, 1, 27, 1, 1, 1, 1, 1, 1, 1, 1, 1, 1, 1, 1, 1, 1, 1, 1, 1, 1, 1, 27, 1, 397, 29, 1, 1, 1, 1, 1, 1, 1, 1, 5, 5, 21, 1, 1, 5, 1, 1, 3, 1, 1, 1, 1, 1, 1, 1, 1, 1, 1, 1, 1, 1, 1, 1, 1, 1, 1, 1, 143, 7, 43, 1, 9, 1, 1, 1, 1, 1, 1, 1, 1, 1, 1, 1, 1, 1, 1, 1, 1, 1, 1, 1, 1, 1, 1, 1, 1, 1, 1, 1, 1, 1, 1, 1, 1, 1, 1, 1, 1, 1, 1, 1, 1, 1, 1]"
   ]
  },
  {
   "cell_type": "code",
   "execution_count": 11,
   "metadata": {},
   "outputs": [
    {
     "name": "stdout",
     "output_type": "stream",
     "text": [
      "257\n"
     ]
    }
   ],
   "source": [
    "count=0\n",
    "for element in a:\n",
    "    if element==1:\n",
    "        count+=1\n",
    "print(count)"
   ]
  },
  {
   "cell_type": "code",
   "execution_count": 12,
   "metadata": {},
   "outputs": [
    {
     "name": "stdout",
     "output_type": "stream",
     "text": [
      "0.7648809523809523\n"
     ]
    }
   ],
   "source": [
    "print(count/len(a))"
   ]
  },
  {
   "cell_type": "code",
   "execution_count": 13,
   "metadata": {},
   "outputs": [
    {
     "data": {
      "text/plain": [
       "336"
      ]
     },
     "execution_count": 13,
     "metadata": {},
     "output_type": "execute_result"
    }
   ],
   "source": [
    "len(a)"
   ]
  },
  {
   "cell_type": "code",
   "execution_count": 14,
   "metadata": {},
   "outputs": [
    {
     "data": {
      "text/plain": [
       "257"
      ]
     },
     "execution_count": 14,
     "metadata": {},
     "output_type": "execute_result"
    }
   ],
   "source": [
    "count"
   ]
  },
  {
   "cell_type": "code",
   "execution_count": null,
   "metadata": {
    "collapsed": true
   },
   "outputs": [],
   "source": []
  }
 ],
 "metadata": {
  "kernelspec": {
   "display_name": "Python 3",
   "language": "python",
   "name": "python3"
  },
  "language_info": {
   "codemirror_mode": {
    "name": "ipython",
    "version": 3
   },
   "file_extension": ".py",
   "mimetype": "text/x-python",
   "name": "python",
   "nbconvert_exporter": "python",
   "pygments_lexer": "ipython3",
   "version": "3.6.3"
  }
 },
 "nbformat": 4,
 "nbformat_minor": 2
}
