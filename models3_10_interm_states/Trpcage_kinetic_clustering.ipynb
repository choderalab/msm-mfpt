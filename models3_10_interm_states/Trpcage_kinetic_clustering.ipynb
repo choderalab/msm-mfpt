{
 "cells": [
  {
   "cell_type": "code",
   "execution_count": 21,
   "metadata": {},
   "outputs": [],
   "source": [
    "%matplotlib inline\n",
    "import matplotlib as mpl\n",
    "import matplotlib.pyplot as plt\n",
    "import sys\n",
    "sys.path.append(\"/Users/rafalpwiewiora/repos/NMpathAnalysis/nmpath\")\n",
    "import numpy as np\n",
    "import pyemma\n",
    "import mdtraj as md\n",
    "from glob import glob\n",
    "import math\n",
    "\n",
    "\n",
    "from auxfunctions import *\n",
    "from mfpt import *\n",
    "from clustering import *\n",
    "from nmm import NonMarkovModel, MarkovPlusColorModel\n",
    "\n",
    "# Print\n",
    "from IPython.display import Markdown, display"
   ]
  },
  {
   "cell_type": "code",
   "execution_count": 2,
   "metadata": {},
   "outputs": [
    {
     "name": "stderr",
     "output_type": "stream",
     "text": [
      "/anaconda3/lib/python3.6/site-packages/pyemma/__init__.py:130: UserWarning: You are not using the latest release of PyEMMA. Latest is 2.5.5, you have 2.5.2.\n",
      "  .format(latest=latest, current=current), category=UserWarning)\n"
     ]
    }
   ],
   "source": [
    "def plot_its(lags, model, bayesian_model, ax, ylabel, dt=2.0E-4, confidence_interval=0.98):\n",
    "    cout = 50 * (1.0 - confidence_interval)\n",
    "    ax.fill_between(\n",
    "        lags * dt,\n",
    "        0.0,\n",
    "        lags * dt,\n",
    "        alpha=0.5, facecolor='grey')\n",
    "    ax.plot(lags * dt, lags * dt, linewidth=2, color='black')\n",
    "    for i in range(model.shape[1]):\n",
    "        ax.fill_between(\n",
    "            lags * dt,\n",
    "            np.percentile(bayesian_model[:, :, i], cout, axis=1),\n",
    "            np.percentile(bayesian_model[:, :, i], 100 - cout, axis=1),\n",
    "            alpha=0.3, facecolor='C%d' % i)\n",
    "        ax.plot(lags * dt, model[:, i], color='C%d' % i)\n",
    "        ax.plot(lags * dt, np.median(bayesian_model[:, :, i], axis=1), ':o', color='C%d' % i)\n",
    "    ax.set_xlabel(r'lagtime / $\\mu$s')\n",
    "    ax.set_ylabel(ylabel)\n",
    "    \n",
    "def get_lagtime_from_array(lags, lagtime, dt=2.0E-4):\n",
    "    idx = np.argmin(np.abs(lags * dt - lagtime))\n",
    "    return idx, lags[idx]\n",
    "\n",
    "def get_free_energy(tics, bins=100, use=[0, 1]):\n",
    "    z, xedge, yedge = np.histogram2d(*tics[:, use].T, bins=bins)\n",
    "    x = 0.5 * (xedge[:-1] + xedge[1:])\n",
    "    y = 0.5 * (yedge[:-1] + yedge[1:])\n",
    "    z = np.maximum(z, np.min(z[z > 0]))\n",
    "    f = -np.log(z)\n",
    "    f -= np.min(f)\n",
    "    xx, yy = np.meshgrid(x, y)\n",
    "    xy = np.array([xx.reshape(-1,), yy.reshape(-1,)]).T\n",
    "    return dict(x=x, y=y, xx=xx, yy=yy, xy=xy, f=f.T, use=use)\n",
    "\n",
    "def draw_free_energy(fe, ax, bw=False):\n",
    "    if bw:\n",
    "        cmap = mpl.cm.bone\n",
    "        alpha=0.2\n",
    "    else:\n",
    "        cmap = mpl.cm.jet\n",
    "        alpha=None\n",
    "    levels = np.linspace(fe['f'].min(), fe['f'].max(), 100, endpoint=False)\n",
    "    return ax.contourf(fe['x'], fe['y'], fe['f'], levels, cmap=cmap, alpha=alpha, vmin=0.0, vmax=np.max(fe['f']))\n",
    "\n",
    "def get_metastable_distribution(model, state):\n",
    "    pi = model.stationary_distribution.copy()\n",
    "    for i, s in enumerate(model.metastable_sets):\n",
    "        if i == state:\n",
    "            continue\n",
    "        pi[s] = 0.0\n",
    "    pi /= pi.sum()\n",
    "    return pi\n",
    "\n",
    "def printmd(string):\n",
    "    display(Markdown(string))\n",
    "\n",
    "def plot_t_AB(t_cut_values, t_min_list, t_max_list, t_AB_list):\n",
    "    t_cut_values_ns = np.array(t_cut_values)*dt\n",
    "    t_min_list_ns = np.array(t_min_list)*dt\n",
    "    t_max_list_ns = np.array(t_max_list)*dt\n",
    "    t_AB_list_ns = np.array(t_AB_list)*dt\n",
    "\n",
    "    fig = plt.figure(figsize=(15,3))\n",
    "\n",
    "    ax1 =  fig.add_subplot(131)\n",
    "    ax1.plot(t_cut_values_ns , t_AB_list_ns, \"-o\")\n",
    "    ax1.set_xlabel(\"$t_{cut}\\mathrm{(ns)}$\", fontsize = 18)\n",
    "    ax1.set_ylabel(\"$t_{AB}\\mathrm{(ns)}$\", fontsize = 18)\n",
    "    #ax1.set_xlim(40,105)\n",
    "\n",
    "    ax2 =  fig.add_subplot(132)\n",
    "    ax2.plot(t_cut_values_ns, t_AB_list_ns/t_cut_values_ns, \"-o\",c=\"r\")\n",
    "    ax2.set_xlabel(\"$t_{cut}\\mathrm{(ns)}$\", fontsize = 18)\n",
    "    ax2.set_ylabel(\"$t_{AB} / t_{cut}$\", fontsize = 18)\n",
    "    #ax2.set_xlim(40,105)\n",
    "\n",
    "    ax3 =  fig.add_subplot(133)\n",
    "    ax3.plot(t_cut_values_ns, t_max_list_ns/t_cut_values_ns, \"-o\",c=\"g\")\n",
    "    ax3.set_xlabel(\"$t_{cut}\\mathrm{(ns)}$\", fontsize = 18)\n",
    "    ax3.set_ylabel(\"$t_{max} / t_{cut}$\", fontsize = 18)\n",
    "    #ax3.set_xlim(40,105)\n",
    "\n",
    "    plt.show()\n",
    "\n",
    "def plot_rmsd_histogram_clusters(t_cut_values, big_clusters_list, rmsd, dt, dtrajs, step=100):\n",
    "    max_ = len(t_cut_values)\n",
    "    select_to_plot= range(0, max_ ,3) # This will print the first column of the free energy plots\n",
    "\n",
    "\n",
    "    for i in select_to_plot:\n",
    "        macrostates = big_clusters_list[i]\n",
    "        rmsd_cluster0=[]\n",
    "        rmsd_cluster1=[]\n",
    "\n",
    "        for j, microstate in enumerate(dtrajs[0]):  # There is only one traj\n",
    "            if j%step == 0:\n",
    "                if microstate in macrostates[0]:\n",
    "                    rmsd_cluster0.append(rmsd[j])\n",
    "                elif (len(macrostates) > 1) and microstate in macrostates[1]:\n",
    "                    rmsd_cluster1.append(rmsd[j])\n",
    "\n",
    "        fig = plt.figure(figsize=(5,2))\n",
    "\n",
    "        plt.hist(rmsd_cluster0, normed=True, bins=25, alpha=0.5,label=\"cluster-0\", edgecolor=\"r\")\n",
    "        \n",
    "        if len(macrostates) > 1:\n",
    "            plt.hist(rmsd_cluster1,normed=True, bins=25, color=\"b\", \n",
    "                     alpha=0.5,label=\"cluster-1\", edgecolor=\"b\")\n",
    "\n",
    "        plt.xlabel(\"RMSD$(\\AA)$\",fontsize=12)\n",
    "        plt.ylabel(\"Probability Dens.\",fontsize=12)\n",
    "        plt.legend()\n",
    "        #plt.title(\"t_cut: {:.2f}ns\".format(t_cut_values_ns[i]))\n",
    "        plt.annotate(\"t_cut: {:.2f}ns\".format(t_cut_values[i]*dt), xy=(1,2))\n",
    "        plt.xlim([0,7])\n",
    "        plt.show()\n",
    "\n",
    "def rmsd_of_cluster(cluster, rmsd, dtraj):\n",
    "    rmsd_list=[]\n",
    "    for i,element in enumerate(rmsd):\n",
    "        if dtraj[i] in cluster:\n",
    "            rmsd_list.append(element)\n",
    "    length = len(rmsd_list)\n",
    "    \n",
    "    if length == 0:\n",
    "        return None\n",
    "\n",
    "    return rmsd_list\n",
    "\n",
    "\n",
    "color_sequence = ['#d62728', '#ff9896', '#9467bd',\n",
    "                  '#8c564b', '#c49c94', '#e377c2', '#f7b6d2', '#7f7f7f',\n",
    "                  '#c7c7c7', '#bcbd22', '#dbdb8d', '#17becf', '#9edae5', '#98df8a']"
   ]
  },
  {
   "cell_type": "code",
   "execution_count": 3,
   "metadata": {},
   "outputs": [],
   "source": [
    "dtrajs = np.load(\"../vamp_scoring/automatic_eigenvalue/trpcage/dtrajs_trpcage_lag10ns.npy\")"
   ]
  },
  {
   "cell_type": "code",
   "execution_count": 15,
   "metadata": {},
   "outputs": [],
   "source": [
    "msm1 = pyemma.msm.estimate_markov_model(list(dtrajs), lag=1, dt_traj='0.0002 us')"
   ]
  },
  {
   "cell_type": "code",
   "execution_count": 17,
   "metadata": {},
   "outputs": [],
   "source": [
    "lags = np.asarray([1, 5, 10, 20, 50] + [i * 100 for i in range(1, 21)])"
   ]
  },
  {
   "cell_type": "code",
   "execution_count": 18,
   "metadata": {},
   "outputs": [],
   "source": [
    "lag_to_use = [1]\n",
    "lag_index = [ get_lagtime_from_array(lags, element*0.2)[0] for element in lag_to_use ]\n",
    "range_per_lag = [[200,370]]"
   ]
  },
  {
   "cell_type": "code",
   "execution_count": 24,
   "metadata": {},
   "outputs": [
    {
     "data": {
      "text/markdown": [
       "### Lag-time: 0.2ns"
      ],
      "text/plain": [
       "<IPython.core.display.Markdown object>"
      ]
     },
     "metadata": {},
     "output_type": "display_data"
    },
    {
     "data": {
      "text/markdown": [
       "#### t_values:"
      ],
      "text/plain": [
       "<IPython.core.display.Markdown object>"
      ]
     },
     "metadata": {},
     "output_type": "display_data"
    },
    {
     "name": "stdout",
     "output_type": "stream",
     "text": [
      "t_cut: 40.00ns, t_min: 54.88ns, t_max: 1.73e+03ns, tAB: 0.00ns\n",
      "t_cut: 42.20ns, t_min: 54.88ns, t_max: 1.73e+03ns, tAB: 0.00ns\n",
      "t_cut: 44.40ns, t_min: 54.88ns, t_max: 1.73e+03ns, tAB: 0.00ns\n",
      "t_cut: 46.60ns, t_min: 54.88ns, t_max: 1.73e+03ns, tAB: 0.00ns\n",
      "t_cut: 48.80ns, t_min: 54.88ns, t_max: 1.73e+03ns, tAB: 0.00ns\n",
      "t_cut: 51.00ns, t_min: 54.88ns, t_max: 1.73e+03ns, tAB: 0.00ns\n",
      "t_cut: 53.20ns, t_min: 54.88ns, t_max: 1.73e+03ns, tAB: 0.00ns\n",
      "t_cut: 55.40ns, t_min: 57.55ns, t_max: 1.73e+03ns, tAB: 164.13ns\n",
      "t_cut: 57.60ns, t_min: 60.50ns, t_max: 1.73e+03ns, tAB: 164.13ns\n",
      "t_cut: 59.80ns, t_min: 60.50ns, t_max: 1.73e+03ns, tAB: 164.13ns\n",
      "t_cut: 62.00ns, t_min: 62.28ns, t_max: 1.73e+03ns, tAB: 164.13ns\n",
      "t_cut: 64.20ns, t_min: 65.76ns, t_max: 1.73e+03ns, tAB: 461.88ns\n",
      "t_cut: 66.40ns, t_min: 67.10ns, t_max: 1.73e+03ns, tAB: 413.18ns\n",
      "t_cut: 68.60ns, t_min: 68.79ns, t_max: 1.73e+03ns, tAB: 553.55ns\n",
      "t_cut: 70.80ns, t_min: 72.68ns, t_max: 1.73e+03ns, tAB: 553.55ns\n"
     ]
    },
    {
     "data": {
      "text/markdown": [
       "#### t_AB plots:"
      ],
      "text/plain": [
       "<IPython.core.display.Markdown object>"
      ]
     },
     "metadata": {},
     "output_type": "display_data"
    },
    {
     "data": {
      "text/plain": [
       "<matplotlib.figure.Figure at 0x1a294d6c88>"
      ]
     },
     "metadata": {},
     "output_type": "display_data"
    },
    {
     "data": {
      "image/png": "[encoded data removed]",
      "text/plain": [
       "<matplotlib.figure.Figure at 0x1a294d65c0>"
      ]
     },
     "metadata": {},
     "output_type": "display_data"
    }
   ],
   "source": [
    "K = msm1.P\n",
    "dt = 0.2\n",
    "#---------------------\n",
    "printmd(\"### Lag-time: \"+str(dt)+\"ns\")\n",
    "\n",
    "t_min_list=[]\n",
    "t_max_list=[]\n",
    "t_AB_list=[]\n",
    "\n",
    "big_clusters_list = []\n",
    "\n",
    "# t_cut range\n",
    "min_ = range_per_lag[0][0]\n",
    "max_ = range_per_lag[0][1]\n",
    "interval = (max_ - min_)//15 \n",
    "t_cut_values =  [min_+i for i in range(0,max_- min_,interval)][0:15]\n",
    "\n",
    "\n",
    "fig_n_cols = 3\n",
    "fig_n_rows = int(math.ceil(len(t_cut_values)/fig_n_cols))\n",
    "\n",
    "\n",
    "fig = plt.figure(figsize=(6*fig_n_cols, 4.8*fig_n_rows))\n",
    "\n",
    "printmd(\"#### t_values:\")\n",
    "\n",
    "for ii, t_cut in enumerate(t_cut_values):\n",
    "\n",
    "    big_clusters=[]\n",
    "    big_clusters_index =[]\n",
    "\n",
    "    # clustering\n",
    "    #clusters, t_min, t_max, clustered_tmatrix = kinetic_clustering_from_tmatrix(K, t_cut=t_cut, verbose=False)\n",
    "    clusters, t_min, t_max = kinetic_clustering2_from_tmatrix(K, t_cut=t_cut, verbose=False)\n",
    "\n",
    "\n",
    "    t_min_list.append(t_min)\n",
    "    t_max_list.append(t_max)\n",
    "\n",
    "    for i, cluster_i in enumerate(clusters):\n",
    "        if len(cluster_i) > 1:\n",
    "            big_clusters.append(cluster_i)\n",
    "            big_clusters_index.append(i)\n",
    "\n",
    "    n_big = len(big_clusters)\n",
    "\n",
    "    macrostates = biggest_clusters_indexes(big_clusters, n_pick=2)\n",
    "    #macrostates_list.append([ clusters[macrostates[i]] for i in range(len(macrostates))])\n",
    "    big_clusters_list.append(big_clusters)\n",
    "\n",
    "    if n_big > 1:\n",
    "        #tAB = markov_commute_time(clustered_tmatrix,[macrostates[0]],[macrostates[1]] )\n",
    "        tAB = markov_commute_time(K,[macrostates[0]],[macrostates[1]] )\n",
    "    else:\n",
    "        tAB = 0.0\n",
    "    t_AB_list.append(tAB)\n",
    "\n",
    "    print(\"t_cut: {:.2f}ns, t_min: {:.2f}ns, t_max: {:.2e}ns, tAB: {:.2f}ns\".format(t_cut*dt, t_min*dt, t_max*dt, tAB*dt))\n",
    "\n",
    "#     plt.subplot(fig_n_rows, fig_n_cols, ii+1)\n",
    "#     pyemma.plots.plot_free_energy(*tica.T)\n",
    "#     plt.scatter(*cluster.clustercenters.T, marker='x', c='grey', s=30, label='centers')\n",
    "#     plt.annotate(\"t_cut: {:.2f}ns\".format(t_cut*dt), xy=(-0.8,-4))\n",
    "\n",
    "#     colors = ['red','blue','green','black','orange'] + color_sequence\n",
    "\n",
    "#     for i, cluster_i in enumerate(big_clusters):\n",
    "#         cluster_i_tica_xy = []\n",
    "#         for index in cluster_i:\n",
    "#             cluster_i_tica_xy.append(cluster.clustercenters[index])\n",
    "#         cluster_i_tica_xy = np.array(cluster_i_tica_xy)\n",
    "#         plt.scatter(*cluster_i_tica_xy.T, marker='o', c=colors[i], s=30, label='cluster-'+str(i))\n",
    "\n",
    "#     plt.legend(loc='upper left')\n",
    "#     plt.xlabel('TIC 1 / a.u.')\n",
    "#     plt.ylabel('TIC 2 / a.u.')\n",
    "        \n",
    "# printmd(\"#### Observed clusters vs t_cut\")\n",
    "# plt.show()\n",
    "\n",
    "printmd(\"#### t_AB plots:\")\n",
    "plot_t_AB(t_cut_values, t_min_list, t_max_list, t_AB_list)"
   ]
  },
  {
   "cell_type": "code",
   "execution_count": 25,
   "metadata": {},
   "outputs": [
    {
     "data": {
      "text/plain": [
       "[[[23, 56, 37]],\n",
       " [[23, 56, 37]],\n",
       " [[23, 56, 37]],\n",
       " [[23, 56, 37]],\n",
       " [[23, 56, 37]],\n",
       " [[23, 56, 37]],\n",
       " [[23, 56, 37]],\n",
       " [[4, 36], [23, 56, 37]],\n",
       " [[4, 36], [23, 56, 37], [30, 86]],\n",
       " [[4, 36], [23, 56, 37], [30, 86]],\n",
       " [[4, 36], [23, 56, 37], [30, 86], [90, 92]],\n",
       " [[4, 36], [23, 56, 37], [30, 86, 90, 92]],\n",
       " [[4, 36, 51], [23, 56, 37], [30, 86, 90, 92]],\n",
       " [[4, 36, 51], [23, 56, 37], [26, 39], [30, 86, 90, 92]],\n",
       " [[0, 26, 39], [4, 36, 51], [23, 56, 37], [30, 86, 90, 92]]]"
      ]
     },
     "execution_count": 25,
     "metadata": {},
     "output_type": "execute_result"
    }
   ],
   "source": [
    "big_clusters_list"
   ]
  },
  {
   "cell_type": "code",
   "execution_count": 29,
   "metadata": {},
   "outputs": [],
   "source": [
    "#Selection of the t_cut\n",
    "macrostates = biggest_clusters_indexes(big_clusters_list[7], n_pick=2)\n",
    "\n",
    "# Folded and unfolded definition\n",
    "stateA = big_clusters_list[7][macrostates[0]]\n",
    "stateB = big_clusters_list[7][macrostates[1]]\n",
    "\n",
    "# rmsdA = rmsd_of_cluster(stateA, rmsd, dtrajs[0])\n",
    "# rmsdB = rmsd_of_cluster(stateB, rmsd, dtrajs[0])\n",
    "\n",
    "# #stateA is always the unfolded state\n",
    "# if rmsdB > rmsdA:\n",
    "#     stateA, stateB = stateB, stateA\n",
    "\n",
    "# print(\"RMSD folded:   \", rmsdB )\n",
    "# print(\"RMSD unfolded: \", rmsdA )"
   ]
  },
  {
   "cell_type": "code",
   "execution_count": 30,
   "metadata": {},
   "outputs": [
    {
     "data": {
      "text/plain": [
       "[23, 56, 37]"
      ]
     },
     "execution_count": 30,
     "metadata": {},
     "output_type": "execute_result"
    }
   ],
   "source": [
    "stateA # folded"
   ]
  },
  {
   "cell_type": "code",
   "execution_count": 31,
   "metadata": {},
   "outputs": [
    {
     "data": {
      "text/plain": [
       "[4, 36]"
      ]
     },
     "execution_count": 31,
     "metadata": {},
     "output_type": "execute_result"
    }
   ],
   "source": [
    "stateB # unfolded"
   ]
  },
  {
   "cell_type": "code",
   "execution_count": 34,
   "metadata": {},
   "outputs": [],
   "source": [
    "lags = np.asarray([1, 5, 10, 20, 50] + [i * 100 for i in range(1, 21)])\n",
    "msm = [pyemma.msm.estimate_markov_model(list(dtrajs), lag=lag, dt_traj='0.0002 us') for lag in lags]"
   ]
  },
  {
   "cell_type": "code",
   "execution_count": 35,
   "metadata": {},
   "outputs": [],
   "source": [
    "dt = 0.0002 # in micro-sec\n",
    "\n",
    "lag_to_use = lags[0:16:2]\n",
    "\n",
    "lag_index = [ get_lagtime_from_array(lags, element*0.2)[0] for element in lag_to_use ]\n",
    "\n",
    "\n",
    "msm_mfptAB = np.asarray([msm[lag_index[i]].mfpt(stateA, stateB) for i in range(len(lag_to_use))])\n",
    "msm_mfptBA = np.asarray([msm[lag_index[i]].mfpt(stateB, stateA) for i in range(len(lag_to_use))])"
   ]
  },
  {
   "cell_type": "code",
   "execution_count": 42,
   "metadata": {},
   "outputs": [
    {
     "name": "stdout",
     "output_type": "stream",
     "text": [
      "Number of A->B/B->A  events: 26/26\n",
      "Number of A->B/B->A  events: 18/18\n",
      "Number of A->B/B->A  events: 12/12\n",
      "Number of A->B/B->A  events: 10/10\n",
      "Number of A->B/B->A  events: 9/9\n",
      "Number of A->B/B->A  events: 9/9\n",
      "Number of A->B/B->A  events: 8/8\n",
      "Number of A->B/B->A  events: 7/7\n"
     ]
    }
   ],
   "source": [
    "dt=0.0002\n",
    "\n",
    "empirical_mfptsAB =[]\n",
    "empirical_mfptsBA =[]\n",
    "nm_mfptsAB = []\n",
    "nm_mfptsBA = []\n",
    "\n",
    "nm_hist10ns_mfptsAB = []\n",
    "nm_hist10ns_mfptsBA = []\n",
    "\n",
    "nm_hist20ns_mfptsAB = []\n",
    "nm_hist20ns_mfptsBA = []\n",
    "\n",
    "nm_hist50ns_mfptsAB = []\n",
    "nm_hist50ns_mfptsBA = []\n",
    "\n",
    "nm_hist100ns_mfptsAB = []\n",
    "nm_hist100ns_mfptsBA = []\n",
    "\n",
    "std_errAB = []\n",
    "std_errBA = []\n",
    "\n",
    "for i, lag in enumerate(lag_to_use):\n",
    "    \n",
    "    nm_model = NonMarkovModel(dtrajs, stateA, stateB, lag_time=lag, sliding_window=True)\n",
    "    \n",
    "    # markov + color\n",
    "#     nm_model_hist10ns  = MarkovPlusColorModel(dtrajs, stateA, stateB, lag_time=lag, hist_length=50)\n",
    "#     nm_model_hist20ns  = MarkovPlusColorModel(dtrajs, stateA, stateB, lag_time=lag, hist_length=100)\n",
    "#     nm_model_hist50ns  = MarkovPlusColorModel(dtrajs, stateA, stateB, lag_time=lag, hist_length=250)\n",
    "#     nm_model_hist100ns = MarkovPlusColorModel(dtrajs, stateA, stateB, lag_time=lag, hist_length=500)\n",
    "    \n",
    "#     nm_kinetics = nm_model.mfpts()\n",
    "#     nm_model_hist10ns_kinetics = nm_model_hist10ns.mfpts()\n",
    "#     nm_model_hist20ns_kinetics = nm_model_hist20ns.mfpts()\n",
    "#     nm_model_hist50ns_kinetics = nm_model_hist50ns.mfpts()\n",
    "#     nm_model_hist100ns_kinetics = nm_model_hist100ns.mfpts()\n",
    "    \n",
    "    e_kinetics = nm_model.empirical_mfpts()\n",
    "    \n",
    "    \n",
    "    empirical_mfptsAB.append(e_kinetics['mfptAB']*dt)\n",
    "    empirical_mfptsBA.append(e_kinetics['mfptBA']*dt)\n",
    "    \n",
    "    std_errAB.append(e_kinetics['std_err_mfptAB']*dt)\n",
    "    std_errBA.append(e_kinetics['std_err_mfptBA']*dt)\n",
    "    \n",
    "#     nm_mfptsAB.append(nm_kinetics['mfptAB']*dt)\n",
    "#     nm_mfptsBA.append(nm_kinetics['mfptBA']*dt)\n",
    "    \n",
    "#     nm_hist10ns_mfptsAB.append(nm_model_hist10ns_kinetics['mfptAB']*dt)\n",
    "#     nm_hist10ns_mfptsBA.append(nm_model_hist10ns_kinetics['mfptBA']*dt)\n",
    "    \n",
    "#     nm_hist20ns_mfptsAB.append(nm_model_hist20ns_kinetics['mfptAB']*dt)\n",
    "#     nm_hist20ns_mfptsBA.append(nm_model_hist20ns_kinetics['mfptBA']*dt)\n",
    "    \n",
    "#     nm_hist50ns_mfptsAB.append(nm_model_hist50ns_kinetics['mfptAB']*dt)\n",
    "#     nm_hist50ns_mfptsBA.append(nm_model_hist50ns_kinetics['mfptBA']*dt)\n",
    "    \n",
    "#     nm_hist100ns_mfptsAB.append(nm_model_hist100ns_kinetics['mfptAB']*dt)\n",
    "#     nm_hist100ns_mfptsBA.append(nm_model_hist100ns_kinetics['mfptBA']*dt)"
   ]
  },
  {
   "cell_type": "code",
   "execution_count": 43,
   "metadata": {},
   "outputs": [
    {
     "data": {
      "text/markdown": [
       "#### Is there an inflection point?:"
      ],
      "text/plain": [
       "<IPython.core.display.Markdown object>"
      ]
     },
     "metadata": {},
     "output_type": "display_data"
    },
    {
     "name": "stderr",
     "output_type": "stream",
     "text": [
      "/anaconda3/lib/python3.6/site-packages/matplotlib/axes/_base.py:2966: UserWarning: Attempted to set non-positive xlimits for log-scale axis; invalid limits will be ignored.\n",
      "  'Attempted to set non-positive xlimits for log-scale axis; '\n"
     ]
    },
    {
     "data": {
      "image/png": "[encoded data removed]",
      "text/plain": [
       "<matplotlib.figure.Figure at 0x1a28a012b0>"
      ]
     },
     "metadata": {},
     "output_type": "display_data"
    }
   ],
   "source": [
    "lag_to_use_ns = np.array(lag_to_use) * 0.2\n",
    "\n",
    "empirical_mfptAB_max = np.array(empirical_mfptsAB) + 2*np.array(std_errAB)\n",
    "empirical_mfptAB_min = np.array(empirical_mfptsAB) - 2*np.array(std_errAB)\n",
    "\n",
    "empirical_mfptBA_max = np.array(empirical_mfptsBA) + 2*np.array(std_errBA)\n",
    "empirical_mfptBA_min = np.array(empirical_mfptsBA) - 2*np.array(std_errBA)\n",
    "\n",
    "printmd(\"#### Is there an inflection point?:\")\n",
    "\n",
    "fig=plt.figure(figsize = (10,4))\n",
    "\n",
    "ax1 = fig.add_subplot(121)\n",
    "ax1.fill_between(lag_to_use_ns, empirical_mfptAB_min, empirical_mfptAB_max,\n",
    "                 alpha=0.5, color=\"green\", label=\"Empiric Conf. Int.(95%)\" )\n",
    "\n",
    "\n",
    "# ax1.plot(lag_to_use_ns, nm_hist10ns_mfptsAB, \"--\", label=\"haMSM(hist=10ns)\", c='b')\n",
    "# ax1.plot(lag_to_use_ns, nm_hist100ns_mfptsAB, \"-.\", label=\"haMSM(hist=100ns)\", c='b')\n",
    "# ax1.plot(lag_to_use_ns, nm_mfptsAB, \"-o\", label=\"haMSM(full history)\", c='b')\n",
    "\n",
    "ax1.plot(lag_to_use_ns, msm_mfptAB, \"-o\",color='k', label=\"MSM\")\n",
    "ax1.plot(lag_to_use_ns, [empirical_mfptsAB[0] for i in lag_to_use_ns], \"--\", color='green',label='MD direct')\n",
    "#ax1.plot(lag_to_use_ns, lag_to_use_ns/nm_model.popA/1000, c='purple')\n",
    "ax1.set_xscale(\"log\")\n",
    "ax1.set_yscale(\"log\")\n",
    "ax1.set_title(\"Trp-cage FOLDING\")\n",
    "ax1.set_xlabel(\"Lag-time(ns)\")\n",
    "ax1.set_ylabel(\"MFPT($\\mu$s)\")\n",
    "ax1.set_xlim(0,210)\n",
    "#plt.legend(loc='upper left')\n",
    "\n",
    "ax2 = fig.add_subplot(122, sharey=ax1)\n",
    "ax2.fill_between(lag_to_use_ns, empirical_mfptBA_min, empirical_mfptBA_max,\n",
    "                 alpha=0.5, color=\"green\", label=\"Empiric Conf. Int.(95%)\" )\n",
    "\n",
    "# ax2.plot(lag_to_use_ns, nm_hist10ns_mfptsBA, \"--\", label=\"haMSM(hist=10ns)\", c='b')\n",
    "# ax2.plot(lag_to_use_ns, nm_hist100ns_mfptsBA, \"-.\", label=\"haMSM(hist=100ns)\", c='b')\n",
    "# ax2.plot(lag_to_use_ns, nm_mfptsBA, \"-o\", label=\"haMSM(full history)\", c='b' )\n",
    "\n",
    "ax2.plot(lag_to_use_ns, msm_mfptBA, \"-o\",color='k', label=\"MSM\")\n",
    "#ax2.plot(lag_to_use_ns, lag_to_use_ns/nm_model.popB/1000, color='purple')\n",
    "\n",
    "\n",
    "ax2.set_xscale(\"log\")\n",
    "ax2.set_yscale(\"log\")\n",
    "ax2.set_title(\"Trp-cage UNFOLDING\")\n",
    "ax2.set_xlabel(\"Lag-time(ns)\")\n",
    "ax2.set_xlim(0,210)\n",
    "plt.legend(loc='lower right')\n",
    "ax2.plot(lag_to_use_ns, [empirical_mfptsBA[0] for i in lag_to_use_ns], \"--\", color='green', label='MD direct')\n",
    "#plt.legend(bbox_to_anchor=(1.05, 1), loc=2, borderaxespad=0.)\n",
    "\n",
    "plt.show()"
   ]
  },
  {
   "cell_type": "code",
   "execution_count": 44,
   "metadata": {},
   "outputs": [
    {
     "data": {
      "text/plain": [
       "'/Users/rafalpwiewiora/repos/msm-mfpt/models3_10_interm_states'"
      ]
     },
     "execution_count": 44,
     "metadata": {},
     "output_type": "execute_result"
    }
   ],
   "source": [
    "pwd"
   ]
  },
  {
   "cell_type": "code",
   "execution_count": null,
   "metadata": {},
   "outputs": [],
   "source": []
  }
 ],
 "metadata": {
  "kernelspec": {
   "display_name": "Python 3",
   "language": "python",
   "name": "python3"
  },
  "language_info": {
   "codemirror_mode": {
    "name": "ipython",
    "version": 3
   },
   "file_extension": ".py",
   "mimetype": "text/x-python",
   "name": "python",
   "nbconvert_exporter": "python",
   "pygments_lexer": "ipython3",
   "version": "3.6.8"
  }
 },
 "nbformat": 4,
 "nbformat_minor": 2
}
