{
 "cells": [
  {
   "cell_type": "markdown",
   "metadata": {},
   "source": [
    "# Villin: mindist model"
   ]
  },
  {
   "cell_type": "code",
   "execution_count": 1,
   "metadata": {},
   "outputs": [],
   "source": [
    "%matplotlib inline\n",
    "import sys\n",
    "sys.path.append(\"/Users/suarezalvareze2/Documents/workspace/NMpathAnalysis/nmpath\")\n",
    "import matplotlib as mpl\n",
    "import matplotlib.pyplot as plt\n",
    "import numpy as np\n",
    "import pyemma\n",
    "import mdtraj as md\n",
    "from glob import glob\n",
    "import math\n",
    "\n",
    "\n",
    "from auxfunctions import *\n",
    "from mfpt import *\n",
    "from clustering import *\n",
    "from nmm import NonMarkovModel, MarkovPlusColorModel\n",
    "\n",
    "# Print\n",
    "from IPython.display import Markdown, display"
   ]
  },
  {
   "cell_type": "markdown",
   "metadata": {},
   "source": [
    "## Define auxiliary functions\n",
    "\n",
    "Here, we define a set of functions which will make plotting easier."
   ]
  },
  {
   "cell_type": "code",
   "execution_count": 2,
   "metadata": {
    "collapsed": true
   },
   "outputs": [],
   "source": [
    "def plot_its(lags, model, bayesian_model, ax, ylabel, dt=2.0E-4, confidence_interval=0.98):\n",
    "    cout = 50 * (1.0 - confidence_interval)\n",
    "    ax.fill_between(\n",
    "        lags * dt,\n",
    "        0.0,\n",
    "        lags * dt,\n",
    "        alpha=0.5, facecolor='grey')\n",
    "    ax.plot(lags * dt, lags * dt, linewidth=2, color='black')\n",
    "    for i in range(model.shape[1]):\n",
    "        ax.fill_between(\n",
    "            lags * dt,\n",
    "            np.percentile(bayesian_model[:, :, i], cout, axis=1),\n",
    "            np.percentile(bayesian_model[:, :, i], 100 - cout, axis=1),\n",
    "            alpha=0.3, facecolor='C%d' % i)\n",
    "        ax.plot(lags * dt, model[:, i], color='C%d' % i)\n",
    "        ax.plot(lags * dt, np.median(bayesian_model[:, :, i], axis=1), ':o', color='C%d' % i)\n",
    "    ax.set_xlabel(r'lagtime / $\\mu$s')\n",
    "    ax.set_ylabel(ylabel)\n",
    "    \n",
    "def get_lagtime_from_array(lags, lagtime, dt=2.0E-4):\n",
    "    idx = np.argmin(np.abs(lags * dt - lagtime))\n",
    "    return idx, lags[idx]\n",
    "\n",
    "def get_free_energy(tics, bins=100, use=[0, 1]):\n",
    "    z, xedge, yedge = np.histogram2d(*tics[:, use].T, bins=bins)\n",
    "    x = 0.5 * (xedge[:-1] + xedge[1:])\n",
    "    y = 0.5 * (yedge[:-1] + yedge[1:])\n",
    "    z = np.maximum(z, np.min(z[z > 0]))\n",
    "    f = -np.log(z)\n",
    "    f -= np.min(f)\n",
    "    xx, yy = np.meshgrid(x, y)\n",
    "    xy = np.array([xx.reshape(-1,), yy.reshape(-1,)]).T\n",
    "    return dict(x=x, y=y, xx=xx, yy=yy, xy=xy, f=f.T, use=use)\n",
    "\n",
    "def draw_free_energy(fe, ax, bw=False):\n",
    "    if bw:\n",
    "        cmap = mpl.cm.bone\n",
    "        alpha=0.2\n",
    "    else:\n",
    "        cmap = mpl.cm.jet\n",
    "        alpha=None\n",
    "    levels = np.linspace(fe['f'].min(), fe['f'].max(), 100, endpoint=False)\n",
    "    return ax.contourf(fe['x'], fe['y'], fe['f'], levels, cmap=cmap, alpha=alpha, vmin=0.0, vmax=np.max(fe['f']))\n",
    "\n",
    "def get_metastable_distribution(model, state):\n",
    "    pi = model.stationary_distribution.copy()\n",
    "    for i, s in enumerate(model.metastable_sets):\n",
    "        if i == state:\n",
    "            continue\n",
    "        pi[s] = 0.0\n",
    "    pi /= pi.sum()\n",
    "    return pi\n",
    "\n",
    "def cca(traj_a, traj_b):\n",
    "    def _isqrt(x):\n",
    "        w, v = np.linalg.eigh(x)\n",
    "        return np.dot(v, np.dot(np.diag(1.0 / np.sqrt(w)), v.T))\n",
    "    return np.linalg.svd(\n",
    "        np.dot(\n",
    "            _isqrt(np.dot(traj_a.T, traj_a)),\n",
    "            np.dot(\n",
    "                np.dot(traj_a.T, traj_b),\n",
    "                _isqrt(np.dot(traj_b.T, traj_b)))))\n",
    "\n",
    "def printmd(string):\n",
    "    display(Markdown(string))\n",
    "\n",
    "def plot_t_AB(t_cut_values, t_min_list, t_max_list, t_AB_list):\n",
    "    t_cut_values_ns = np.array(t_cut_values)*dt\n",
    "    t_min_list_ns = np.array(t_min_list)*dt\n",
    "    t_max_list_ns = np.array(t_max_list)*dt\n",
    "    t_AB_list_ns = np.array(t_AB_list)*dt\n",
    "\n",
    "    fig = plt.figure(figsize=(15,3))\n",
    "\n",
    "    ax1 =  fig.add_subplot(131)\n",
    "    ax1.plot(t_cut_values_ns , t_AB_list_ns, \"-o\")\n",
    "    ax1.set_xlabel(\"$t_{cut}\\mathrm{(ns)}$\", fontsize = 18)\n",
    "    ax1.set_ylabel(\"$t_{AB}\\mathrm{(ns)}$\", fontsize = 18)\n",
    "    #ax1.set_xlim(40,105)\n",
    "\n",
    "    ax2 =  fig.add_subplot(132)\n",
    "    ax2.plot(t_cut_values_ns, t_AB_list_ns/t_cut_values_ns, \"-o\",c=\"r\")\n",
    "    ax2.set_xlabel(\"$t_{cut}\\mathrm{(ns)}$\", fontsize = 18)\n",
    "    ax2.set_ylabel(\"$t_{AB} / t_{cut}$\", fontsize = 18)\n",
    "    #ax2.set_xlim(40,105)\n",
    "\n",
    "    ax3 =  fig.add_subplot(133)\n",
    "    ax3.plot(t_cut_values_ns, t_max_list_ns/t_cut_values_ns, \"-o\",c=\"g\")\n",
    "    ax3.set_xlabel(\"$t_{cut}\\mathrm{(ns)}$\", fontsize = 18)\n",
    "    ax3.set_ylabel(\"$t_{max} / t_{cut}$\", fontsize = 18)\n",
    "    #ax3.set_xlim(40,105)\n",
    "\n",
    "    plt.show()\n",
    "\n",
    "\n",
    "def plot_rmsd_histogram_clusters(t_cut_values, big_clusters_list, rmsd, dt, dtrajs):\n",
    "    max_ = len(t_cut_values)\n",
    "    select_to_plot= range(0, max_ ,3) # This will print the first column of the free energy plots\n",
    "\n",
    "\n",
    "    for i in select_to_plot:\n",
    "        macrostates = big_clusters_list[i]\n",
    "        rmsd_cluster0=[]\n",
    "        rmsd_cluster1=[]\n",
    "\n",
    "        for j, microstate in enumerate(dtrajs[0]):  # There is only one traj\n",
    "            if microstate in macrostates[0]:\n",
    "                rmsd_cluster0.append(rmsd[j])\n",
    "            elif (len(macrostates) > 1) and microstate in macrostates[1]:\n",
    "                rmsd_cluster1.append(rmsd[j])\n",
    "\n",
    "        fig = plt.figure(figsize=(5,2))\n",
    "\n",
    "        plt.hist(rmsd_cluster0,normed=True, bins=25, color=\"r\", \n",
    "                 alpha=0.5,label=\"cluster-0\", edgecolor=\"r\")\n",
    "        if len(macrostates) > 1:\n",
    "            plt.hist(rmsd_cluster1,normed=True, bins=25, color=\"b\", \n",
    "                     alpha=0.5,label=\"cluster-1\", edgecolor=\"b\")\n",
    "\n",
    "        plt.xlabel(\"RMSD$(\\AA)$\",fontsize=12)\n",
    "        plt.ylabel(\"Probability Dens.\",fontsize=12)\n",
    "        plt.legend()\n",
    "        #plt.title(\"t_cut: {:.2f}ns\".format(t_cut_values_ns[i]))\n",
    "        plt.annotate(\"t_cut: {:.2f}ns\".format(t_cut_values[i]*dt), xy=(1,2))\n",
    "        plt.xlim([0,7])\n",
    "        plt.show()\n",
    "\n",
    "\n",
    "color_sequence = ['#d62728', '#ff9896', '#9467bd',\n",
    "                  '#8c564b', '#c49c94', '#e377c2', '#f7b6d2', '#7f7f7f',\n",
    "                  '#c7c7c7', '#bcbd22', '#dbdb8d', '#17becf', '#9edae5', '#98df8a']"
   ]
  },
  {
   "cell_type": "markdown",
   "metadata": {},
   "source": [
    "## Create a feature reader\n"
   ]
  },
  {
   "cell_type": "code",
   "execution_count": 3,
   "metadata": {},
   "outputs": [],
   "source": [
    "path='/Users/suarezalvareze2/Documents/DESHAWTRAJS/DESRES-Trajectory_2F4K-0-protein/2F4K-0-protein/'\n",
    "trajs = '2F4K-0-protein-*.dcd'\n",
    "\n",
    "traj_files = [f for f in sorted(glob(path + trajs))]\n",
    "pdb_file = path + 'villin.pdb'\n",
    "\n",
    "features = pyemma.coordinates.featurizer(pdb_file)\n",
    "#features.add_residue_mindist()\n",
    "features.add_backbone_torsions()\n",
    "#features.add_minrmsd_to_ref(path + '2F4K-0-protein-000.dcd', ref_frame=9000)\n",
    "source = pyemma.coordinates.source([traj_files], features=features, chunk_size=10000)"
   ]
  },
  {
   "cell_type": "markdown",
   "metadata": {},
   "source": [
    "## RMSD"
   ]
  },
  {
   "cell_type": "code",
   "execution_count": null,
   "metadata": {},
   "outputs": [
    {
     "data": {
      "image/png": "[encoded data removed]",
      "text/plain": [
       "<matplotlib.figure.Figure at 0x1a156b49e8>"
      ]
     },
     "metadata": {},
     "output_type": "display_data"
    },
    {
     "data": {
      "image/png": "[encoded data removed]",
      "text/plain": [
       "<matplotlib.figure.Figure at 0x1a26504668>"
      ]
     },
     "metadata": {},
     "output_type": "display_data"
    }
   ],
   "source": [
    "reference = md.load_dcd(path + '2F4K-0-protein-000.dcd', top=pdb_file)\n",
    "\n",
    "CA_atoms = reference.topology.select('name CA and resid 1 to 33')\n",
    "\n",
    "rmsd = []\n",
    "\n",
    "for traj_name in traj_files:\n",
    "    traj = md.load_dcd(traj_name, top=pdb_file)\n",
    "    for element in md.rmsd(traj, reference,9000, atom_indices=CA_atoms):\n",
    "        rmsd.append(element)\n",
    "\n",
    "fig = plt.figure(figsize = (17, 2))\n",
    "plt.plot(rmsd[::500])\n",
    "plt.axis([0, 1260, 0.0, 1.5])\n",
    "plt.ylabel(\"RMSD(nm)\")\n",
    "plt.xlabel(\"Snapshot Num./500\")\n",
    "plt.show()\n",
    "\n",
    "\n",
    "#histogram\n",
    "fig =plt.figure(figsize=(5, 3))\n",
    "\n",
    "ax1 = fig.add_subplot(111)\n",
    "ax1.hist(rmsd[::100], normed=True, bins=30, color=\"r\", alpha=0.5, edgecolor=\"r\")\n",
    "ax1.set_xlabel(\"RMSD$(\\AA)$\", fontsize=12)\n",
    "ax1.set_ylabel(\"Probability Dens.\", fontsize=12)\n",
    "\n",
    "# to Angstrom\n",
    "rmsd = np.array(rmsd) * 10.0"
   ]
  },
  {
   "cell_type": "markdown",
   "metadata": {},
   "source": [
    "## Discretization\n",
    "\n",
    "We need to increase the transformation lagtime and number of cluster centers to get a good ITS convergence."
   ]
  },
  {
   "cell_type": "code",
   "execution_count": null,
   "metadata": {},
   "outputs": [
    {
     "data": {
      "application/vnd.jupyter.widget-view+json": {
       "model_id": "f666fa468fa34921ae53152ff84557e5",
       "version_major": 2,
       "version_minor": 0
      },
      "text/plain": [
       "A Jupyter Widget"
      ]
     },
     "metadata": {},
     "output_type": "display_data"
    },
    {
     "data": {
      "application/vnd.jupyter.widget-view+json": {
       "model_id": "f731482fb93f42eba27a1d95cad7c43b",
       "version_major": 2,
       "version_minor": 0
      },
      "text/plain": [
       "A Jupyter Widget"
      ]
     },
     "metadata": {},
     "output_type": "display_data"
    },
    {
     "data": {
      "application/vnd.jupyter.widget-view+json": {
       "model_id": "2f0c13b3023b4cba976af237dc3eb27e",
       "version_major": 2,
       "version_minor": 0
      },
      "text/plain": [
       "A Jupyter Widget"
      ]
     },
     "metadata": {},
     "output_type": "display_data"
    },
    {
     "data": {
      "application/vnd.jupyter.widget-view+json": {
       "model_id": "daf26362b86d4fe8aa2f2a45bf330033",
       "version_major": 2,
       "version_minor": 0
      },
      "text/plain": [
       "A Jupyter Widget"
      ]
     },
     "metadata": {},
     "output_type": "display_data"
    },
    {
     "data": {
      "application/vnd.jupyter.widget-view+json": {
       "model_id": "3732bc44d8f048c38bcc614ab46ab875",
       "version_major": 2,
       "version_minor": 0
      },
      "text/plain": [
       "A Jupyter Widget"
      ]
     },
     "metadata": {},
     "output_type": "display_data"
    }
   ],
   "source": [
    "tica = pyemma.coordinates.tica(data=source, lag=500, dim=2).get_output()[0]\n",
    "cluster = pyemma.coordinates.cluster_kmeans(tica, k=100, max_iter=50)\n",
    "\n",
    "lags = np.asarray([1, 5, 10, 20, 50] + [i * 100 for i in range(1, 21)])\n",
    "fig, axes = plt.subplots(1, 2, figsize=(8, 4))\n",
    "pyemma.plots.plot_implied_timescales(\n",
    "    pyemma.msm.its(cluster.dtrajs, lags=lags, errors=None, nits=6),\n",
    "    ylog=False, ax=axes[0], units='us', dt=2.0E-4)\n",
    "pyemma.plots.plot_free_energy(*tica.T, ax=axes[1], cmap=mpl.cm.nipy_spectral)\n",
    "axes[1].scatter(*cluster.clustercenters.T, marker='x', c='grey', s=30, label='centers')\n",
    "axes[1].legend()\n",
    "axes[1].set_xlabel('TIC 1 / a.u.')\n",
    "axes[1].set_ylabel('TIC 2 / a.u.')\n",
    "fig.tight_layout()"
   ]
  },
  {
   "cell_type": "markdown",
   "metadata": {},
   "source": [
    "## MSM estimation and analysis\n",
    "\n",
    "At $\\tau=0.15\\mu s$, the ITS are reasonably flat and we can build an MSM which passes the CK test using two metastable states."
   ]
  },
  {
   "cell_type": "code",
   "execution_count": null,
   "metadata": {
    "scrolled": true
   },
   "outputs": [],
   "source": [
    "lag = get_lagtime_from_array(lags, 0.15, dt=2.0E-4)[1]\n",
    "pyemma.plots.plot_cktest(pyemma.msm.bayesian_markov_model(cluster.dtrajs, lag=lag, dt_traj='0.0002 us').cktest(2))\n",
    "print('Estimated at lagtime %d steps' % lag)"
   ]
  },
  {
   "cell_type": "code",
   "execution_count": null,
   "metadata": {},
   "outputs": [],
   "source": [
    "msm = pyemma.msm.estimate_markov_model(cluster.dtrajs, lag=lag, dt_traj='0.0002 us')\n",
    "msm.pcca(2)\n",
    "fig, ax = pyemma.plots.plot_free_energy(*tica.T, weights=msm.pi[cluster.dtrajs])\n",
    "ax.scatter(*cluster.clustercenters[msm.metastable_sets[0], :].T, s=20, c='black', alpha=0.5)\n",
    "ax.scatter(*cluster.clustercenters[msm.metastable_sets[1], :].T, s=20, c='white', alpha=0.5)\n",
    "print('PI = ' + str([msm.pi[s].sum() for s in msm.metastable_sets]))\n",
    "print('MFPT[0, 1] = %2.3f us' % msm.mfpt(msm.metastable_sets[0], msm.metastable_sets[1]))\n",
    "print('MFPT[1, 0] = %2.3f us' % msm.mfpt(msm.metastable_sets[1], msm.metastable_sets[0]))"
   ]
  },
  {
   "cell_type": "markdown",
   "metadata": {
    "collapsed": true
   },
   "source": [
    "# PART 2:\n",
    "\n",
    "## Agglomerative Clustering from the transition matrix\n",
    "\n",
    "Hierarchical agglomerative clustering using the Markovian commute time: $t_{ij} = \\mathrm{MFPT}(i \\rightarrow j)+ \\mathrm{MFPT}(j \\rightarrow i)$.\n",
    "\n",
    "We follow some rules to build (in every mergin step) a new set of transition probabilities $\\{k_{i,j}\\}$, defined with the same lag-time $\\tau$. After merging two states $l$ and $m$, the probability of the transitions entering the new state that we will call \"$lm$\", from any state $i$, is computed as\n",
    "\n",
    "\n",
    "$$k_{i,ml}=k_{i,m}+k_{i,l}$$\n",
    "\n",
    "\n",
    "On the other hand the transition probabilities from $ml$ to any other state $j$ is computed as \n",
    "\n",
    "\n",
    "$$k_{ml,j}=\\frac{p_m k_{m,j}+p_l k_{l,j}}{p_m+p_l}$$\n",
    "\n",
    "\n",
    "Similarly,\n",
    "\n",
    "$$k_{ml,ml}=\\frac{p_m (k_{m,m}+k_{m,l})+p_l (k_{l,l}+k_{l,m})}{p_m+p_l}$$\n",
    "\n",
    "IMPORTANT: The goal of this clusterig is tho identify macrostates and not to use the best lag-time, the lag-time use for clustering could different from the one that would be appropiate for the final Markov model."
   ]
  },
  {
   "cell_type": "markdown",
   "metadata": {},
   "source": [
    "### Lag times to use (only for clustering)"
   ]
  },
  {
   "cell_type": "code",
   "execution_count": null,
   "metadata": {
    "collapsed": true
   },
   "outputs": [],
   "source": [
    "#lag_to_use = [1, 10, 100, 1000]\n",
    "lag_to_use = [10]\n",
    "\n",
    "lag_index = [ get_lagtime_from_array(lags, element*0.2)[0] for element in lag_to_use ]\n",
    "\n",
    "# This are the t_cut intervals to explore (in lag-time units) with the lag times in \"lag_to_use\"\n",
    "#range_per_lag = [[200,600], [200,350], [100,250], [30,200]]\n",
    "#range_per_lag = [[362,377]]\n",
    "range_per_lag = [[200,500]]"
   ]
  },
  {
   "cell_type": "markdown",
   "metadata": {},
   "source": [
    "### Clustering"
   ]
  },
  {
   "cell_type": "code",
   "execution_count": null,
   "metadata": {},
   "outputs": [],
   "source": [
    "K = msm.P\n",
    "dt = 0.2\n",
    "#---------------------\n",
    "printmd(\"### Lag-time: \"+str(dt)+\"ns\")\n",
    "\n",
    "t_min_list=[]\n",
    "t_max_list=[]\n",
    "t_AB_list=[]\n",
    "\n",
    "big_clusters_list = []\n",
    "\n",
    "# t_cut range\n",
    "min_ = range_per_lag[0][0]\n",
    "max_ = range_per_lag[0][1]\n",
    "interval = (max_ - min_)//15 \n",
    "t_cut_values =  [min_+i for i in range(0,max_- min_,interval)][0:15]\n",
    "\n",
    "\n",
    "fig_n_cols = 3\n",
    "fig_n_rows = int(math.ceil(len(t_cut_values)/fig_n_cols))\n",
    "\n",
    "\n",
    "fig = plt.figure(figsize=(6*fig_n_cols, 4.8*fig_n_rows))\n",
    "\n",
    "printmd(\"#### t_values:\")\n",
    "for ii, t_cut in enumerate(t_cut_values):\n",
    "\n",
    "    big_clusters=[]\n",
    "    big_clusters_index =[]\n",
    "\n",
    "    # clustering\n",
    "    #clusters, t_min, t_max, clustered_tmatrix = kinetic_clustering_from_tmatrix(K, t_cut=t_cut, verbose=False)\n",
    "    clusters = kinetic_clustering2_from_tmatrix(K, t_cut=t_cut, verbose=False)\n",
    "\n",
    "    t_min, t_max = 0, 0\n",
    "\n",
    "    t_min_list.append(t_min)\n",
    "    t_max_list.append(t_max)\n",
    "\n",
    "    for i, cluster_i in enumerate(clusters):\n",
    "        if len(cluster_i) > 1:\n",
    "            big_clusters.append(cluster_i)\n",
    "            big_clusters_index.append(i)\n",
    "\n",
    "    n_big = len(big_clusters)\n",
    "\n",
    "    macrostates = biggest_clusters_indexes(big_clusters, n_pick=2)\n",
    "    #macrostates_list.append([ clusters[macrostates[i]] for i in range(len(macrostates))])\n",
    "    big_clusters_list.append(big_clusters)\n",
    "\n",
    "    if n_big > 1:\n",
    "        tAB = markov_commute_time(clustered_tmatrix,[macrostates[0]],[macrostates[1]] )\n",
    "    else:\n",
    "        tAB = 0.0\n",
    "    t_AB_list.append(tAB)\n",
    "\n",
    "    print(\"t_cut: {:.2f}ns, t_min: {:.2f}ns, t_max: {:.2e}ns, tAB: {:.2f}ns\".format(t_cut*dt, t_min*dt, t_max*dt, tAB*dt))\n",
    "\n",
    "    plt.subplot(fig_n_rows, fig_n_cols, ii+1)\n",
    "    pyemma.plots.plot_free_energy(*tica.T)\n",
    "    plt.scatter(*cluster.clustercenters.T, marker='x', c='grey', s=30, label='centers')\n",
    "    plt.annotate(\"t_cut: {:.2f}ns\".format(t_cut*dt), xy=(-0.8,-4))\n",
    "\n",
    "    colors = ['red','blue','green','black','orange']\n",
    "\n",
    "    for i, cluster_i in enumerate(big_clusters):\n",
    "        cluster_i_tica_xy = []\n",
    "        for index in cluster_i:\n",
    "            cluster_i_tica_xy.append(cluster.clustercenters[index])\n",
    "        cluster_i_tica_xy = np.array(cluster_i_tica_xy)\n",
    "        plt.scatter(*cluster_i_tica_xy.T, marker='o', c=colors[i], s=30, label='cluster-'+str(i))\n",
    "\n",
    "    plt.legend(loc='upper left')\n",
    "    plt.xlabel('TIC 1 / a.u.')\n",
    "    plt.ylabel('TIC 2 / a.u.')\n",
    "printmd(\"#### Observed clusters vs t_cut\")\n",
    "plt.show()\n",
    "\n",
    "# printmd(\"#### t_AB plots:\")\n",
    "# plot_t_AB(t_cut_values, t_min_list, t_max_list, t_AB_list)"
   ]
  },
  {
   "cell_type": "code",
   "execution_count": null,
   "metadata": {
    "collapsed": true
   },
   "outputs": [],
   "source": []
  }
 ],
 "metadata": {
  "kernelspec": {
   "display_name": "Python 3",
   "language": "python",
   "name": "python3"
  },
  "language_info": {
   "codemirror_mode": {
    "name": "ipython",
    "version": 3
   },
   "file_extension": ".py",
   "mimetype": "text/x-python",
   "name": "python",
   "nbconvert_exporter": "python",
   "pygments_lexer": "ipython3",
   "version": "3.6.2"
  }
 },
 "nbformat": 4,
 "nbformat_minor": 1
}
