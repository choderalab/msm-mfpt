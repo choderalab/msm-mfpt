{
 "cells": [
  {
   "cell_type": "markdown",
   "metadata": {},
   "source": [
    "# NTL9: mindist and rmsdCA model"
   ]
  },
  {
   "cell_type": "code",
   "execution_count": 1,
   "metadata": {
    "collapsed": false
   },
   "outputs": [
    {
     "name": "stderr",
     "output_type": "stream",
     "text": [
      "/home/esuarez/anaconda3/lib/python3.6/site-packages/pyemma/__init__.py:91: UserWarning: You are not using the latest release of PyEMMA. Latest is 2.4, you have 2.3.2.\n",
      "  .format(latest=latest, current=current), category=UserWarning)\n"
     ]
    }
   ],
   "source": [
    "%matplotlib inline\n",
    "import matplotlib as mpl\n",
    "import matplotlib.pyplot as plt\n",
    "import numpy as np\n",
    "import pyemma\n",
    "import mdtraj as md\n",
    "from glob import glob\n",
    "import math\n",
    "\n",
    "\n",
    "from auxfunctions import *\n",
    "from mfpt import *\n",
    "from clustering import *\n",
    "from nmm import NonMarkovModel, MarkovPlusColorModel\n",
    "\n",
    "# Print\n",
    "from IPython.display import Markdown, display"
   ]
  },
  {
   "cell_type": "markdown",
   "metadata": {},
   "source": [
    "## Define auxiliary functions\n",
    "\n",
    "Here, we define a set of functions which will make plotting easier."
   ]
  },
  {
   "cell_type": "code",
   "execution_count": 2,
   "metadata": {
    "collapsed": true
   },
   "outputs": [],
   "source": [
    "def plot_its(lags, model, bayesian_model, ax, ylabel, dt=2.0E-4, confidence_interval=0.98):\n",
    "    cout = 50 * (1.0 - confidence_interval)\n",
    "    ax.fill_between(\n",
    "        lags * dt,\n",
    "        0.0,\n",
    "        lags * dt,\n",
    "        alpha=0.5, facecolor='grey')\n",
    "    ax.plot(lags * dt, lags * dt, linewidth=2, color='black')\n",
    "    for i in range(model.shape[1]):\n",
    "        ax.fill_between(\n",
    "            lags * dt,\n",
    "            np.percentile(bayesian_model[:, :, i], cout, axis=1),\n",
    "            np.percentile(bayesian_model[:, :, i], 100 - cout, axis=1),\n",
    "            alpha=0.3, facecolor='C%d' % i)\n",
    "        ax.plot(lags * dt, model[:, i], color='C%d' % i)\n",
    "        ax.plot(lags * dt, np.median(bayesian_model[:, :, i], axis=1), ':o', color='C%d' % i)\n",
    "    ax.set_xlabel(r'lagtime / $\\mu$s')\n",
    "    ax.set_ylabel(ylabel)\n",
    "    \n",
    "def get_lagtime_from_array(lags, lagtime, dt=2.0E-4):\n",
    "    idx = np.argmin(np.abs(lags * dt - lagtime))\n",
    "    return idx, lags[idx]\n",
    "\n",
    "def get_free_energy(tics, bins=100, use=[0, 1]):\n",
    "    z, xedge, yedge = np.histogram2d(*tics[:, use].T, bins=bins)\n",
    "    x = 0.5 * (xedge[:-1] + xedge[1:])\n",
    "    y = 0.5 * (yedge[:-1] + yedge[1:])\n",
    "    z = np.maximum(z, np.min(z[z > 0]))\n",
    "    f = -np.log(z)\n",
    "    f -= np.min(f)\n",
    "    xx, yy = np.meshgrid(x, y)\n",
    "    xy = np.array([xx.reshape(-1,), yy.reshape(-1,)]).T\n",
    "    return dict(x=x, y=y, xx=xx, yy=yy, xy=xy, f=f.T, use=use)\n",
    "\n",
    "def draw_free_energy(fe, ax, bw=False):\n",
    "    if bw:\n",
    "        cmap = mpl.cm.bone\n",
    "        alpha=0.2\n",
    "    else:\n",
    "        cmap = mpl.cm.jet\n",
    "        alpha=None\n",
    "    levels = np.linspace(fe['f'].min(), fe['f'].max(), 100, endpoint=False)\n",
    "    return ax.contourf(fe['x'], fe['y'], fe['f'], levels, cmap=cmap, alpha=alpha, vmin=0.0, vmax=np.max(fe['f']))\n",
    "\n",
    "def get_metastable_distribution(model, state):\n",
    "    pi = model.stationary_distribution.copy()\n",
    "    for i, s in enumerate(model.metastable_sets):\n",
    "        if i == state:\n",
    "            continue\n",
    "        pi[s] = 0.0\n",
    "    pi /= pi.sum()\n",
    "    return pi\n",
    "\n",
    "def printmd(string):\n",
    "    display(Markdown(string))\n",
    "\n",
    "def plot_t_AB(t_cut_values, t_min_list, t_max_list, t_AB_list):\n",
    "    t_cut_values_ns = np.array(t_cut_values)*dt\n",
    "    t_min_list_ns = np.array(t_min_list)*dt\n",
    "    t_max_list_ns = np.array(t_max_list)*dt\n",
    "    t_AB_list_ns = np.array(t_AB_list)*dt\n",
    "\n",
    "    fig = plt.figure(figsize=(15,3))\n",
    "\n",
    "    ax1 =  fig.add_subplot(131)\n",
    "    ax1.plot(t_cut_values_ns , t_AB_list_ns, \"-o\")\n",
    "    ax1.set_xlabel(\"$t_{cut}\\mathrm{(ns)}$\", fontsize = 18)\n",
    "    ax1.set_ylabel(\"$t_{AB}\\mathrm{(ns)}$\", fontsize = 18)\n",
    "    #ax1.set_xlim(40,105)\n",
    "\n",
    "    ax2 =  fig.add_subplot(132)\n",
    "    ax2.plot(t_cut_values_ns, t_AB_list_ns/t_cut_values_ns, \"-o\",c=\"r\")\n",
    "    ax2.set_xlabel(\"$t_{cut}\\mathrm{(ns)}$\", fontsize = 18)\n",
    "    ax2.set_ylabel(\"$t_{AB} / t_{cut}$\", fontsize = 18)\n",
    "    #ax2.set_xlim(40,105)\n",
    "\n",
    "    ax3 =  fig.add_subplot(133)\n",
    "    ax3.plot(t_cut_values_ns, t_max_list_ns/t_cut_values_ns, \"-o\",c=\"g\")\n",
    "    ax3.set_xlabel(\"$t_{cut}\\mathrm{(ns)}$\", fontsize = 18)\n",
    "    ax3.set_ylabel(\"$t_{max} / t_{cut}$\", fontsize = 18)\n",
    "    #ax3.set_xlim(40,105)\n",
    "\n",
    "    plt.show()\n",
    "\n",
    "def plot_rmsd_histogram_clusters(t_cut_values, big_clusters_list, rmsd, dt, dtrajs, step=100):\n",
    "    max_ = len(t_cut_values)\n",
    "    select_to_plot= range(0, max_ ,3) # This will print the first column of the free energy plots\n",
    "\n",
    "\n",
    "    for i in select_to_plot:\n",
    "        macrostates = big_clusters_list[i]\n",
    "        rmsd_cluster0=[]\n",
    "        rmsd_cluster1=[]\n",
    "\n",
    "        for j, microstate in enumerate(dtrajs[0]):  # There is only one traj\n",
    "            if j%step == 0:\n",
    "                if microstate in macrostates[0]:\n",
    "                    rmsd_cluster0.append(rmsd[j])\n",
    "                elif (len(macrostates) > 1) and microstate in macrostates[1]:\n",
    "                    rmsd_cluster1.append(rmsd[j])\n",
    "\n",
    "        fig = plt.figure(figsize=(5,2))\n",
    "\n",
    "        plt.hist(rmsd_cluster0, normed=True, bins=25, alpha=0.5,label=\"cluster-0\", edgecolor=\"r\")\n",
    "        \n",
    "        if len(macrostates) > 1:\n",
    "            plt.hist(rmsd_cluster1,normed=True, bins=25, color=\"b\", \n",
    "                     alpha=0.5,label=\"cluster-1\", edgecolor=\"b\")\n",
    "\n",
    "        plt.xlabel(\"RMSD$(\\AA)$\",fontsize=12)\n",
    "        plt.ylabel(\"Probability Dens.\",fontsize=12)\n",
    "        plt.legend()\n",
    "        #plt.title(\"t_cut: {:.2f}ns\".format(t_cut_values_ns[i]))\n",
    "        plt.annotate(\"t_cut: {:.2f}ns\".format(t_cut_values[i]*dt), xy=(1,2))\n",
    "        plt.xlim([0,7])\n",
    "        plt.show()\n",
    "\n",
    "\n",
    "color_sequence = ['#d62728', '#ff9896', '#9467bd',\n",
    "                  '#8c564b', '#c49c94', '#e377c2', '#f7b6d2', '#7f7f7f',\n",
    "                  '#c7c7c7', '#bcbd22', '#dbdb8d', '#17becf', '#9edae5', '#98df8a']"
   ]
  },
  {
   "cell_type": "markdown",
   "metadata": {},
   "source": [
    "## Data source"
   ]
  },
  {
   "cell_type": "code",
   "execution_count": 28,
   "metadata": {
    "collapsed": true
   },
   "outputs": [],
   "source": [
    "path  = '/home/esuarez/Documents/DESHAWTRAJS/DESRES-Trajectory_NTL9-0-protein/NTL9-0-protein/'\n",
    "path2 = '/home/esuarez/Documents/DESHAWTRAJS/DESRES-Trajectory_NTL9-1-protein/NTL9-1-protein/'\n",
    "trajs = 'NTL9-0-protein-*.dcd'\n",
    "trajs2 = 'NTL9-1-protein-*.dcd'\n",
    "\n",
    "traj_files = [f for f in sorted(glob(path + trajs))] \n",
    "traj_files2 = [f for f in sorted(glob(path2 + trajs2))]\n",
    "\n",
    "pdb_file = path + 'protein.pdb'"
   ]
  },
  {
   "cell_type": "markdown",
   "metadata": {},
   "source": [
    "## Create a feature reader\n"
   ]
  },
  {
   "cell_type": "code",
   "execution_count": 29,
   "metadata": {
    "collapsed": false
   },
   "outputs": [
    {
     "name": "stdout",
     "output_type": "stream",
     "text": [
      "05-09-17 14:12:40 pyemma.coordinates.data.featurization.featurizer.MDFeaturizer[4] WARNING  Using all residue pairs with schemes like closest or closest-heavy is very time consuming. Consider reducing the residue pairs\n"
     ]
    }
   ],
   "source": [
    "features = pyemma.coordinates.featurizer(pdb_file)\n",
    "features.add_residue_mindist()\n",
    "features.add_minrmsd_to_ref(path + 'NTL9-0-protein-020.dcd', ref_frame=0)\n",
    "source = pyemma.coordinates.source([traj_files, traj_files2], features=features, chunk_size=10000)"
   ]
  },
  {
   "cell_type": "markdown",
   "metadata": {},
   "source": [
    "## RMSD"
   ]
  },
  {
   "cell_type": "code",
   "execution_count": 30,
   "metadata": {
    "collapsed": false
   },
   "outputs": [
    {
     "data": {
      "image/png": "[encoded data removed]",
      "text/plain": [
       "<matplotlib.figure.Figure at 0x7f97cea5b6d8>"
      ]
     },
     "metadata": {},
     "output_type": "display_data"
    },
    {
     "data": {
      "image/png": "[encoded data removed]",
      "text/plain": [
       "<matplotlib.figure.Figure at 0x7f9779d8a048>"
      ]
     },
     "metadata": {},
     "output_type": "display_data"
    }
   ],
   "source": [
    "reference = md.load_dcd(path + 'NTL9-0-protein-020.dcd', top=pdb_file)\n",
    "\n",
    "CA_atoms = reference.topology.select('name CA and resid 1 to 37')\n",
    "\n",
    "rmsd = []\n",
    "\n",
    "for traj_name in traj_files:\n",
    "    traj = md.load_dcd(traj_name, top=pdb_file)\n",
    "    for element in md.rmsd(traj, reference, 0, atom_indices=CA_atoms):\n",
    "        rmsd.append(element)\n",
    "\n",
    "fig = plt.figure(figsize=(17, 2))\n",
    "plt.plot(rmsd[::500])\n",
    "#plt.axis([0, 11000, 0.0, 1.5])\n",
    "plt.ylabel('RMSD(nm)')\n",
    "plt.xlabel('Snapshot Num./500')\n",
    "plt.show()\n",
    "\n",
    "\n",
    "#histogram\n",
    "fig = plt.figure(figsize=(5, 3))\n",
    "\n",
    "ax1 = fig.add_subplot(111)\n",
    "ax1.hist(rmsd[::100], normed=True, bins=30, color='r', alpha=0.5, edgecolor='r')\n",
    "ax1.set_xlabel('RMSD$(\\AA)$', fontsize=12)\n",
    "ax1.set_ylabel('Probability Dens.', fontsize=12)\n",
    "\n",
    "# to Angstrom\n",
    "rmsd = np.array(rmsd) * 10.0"
   ]
  },
  {
   "cell_type": "markdown",
   "metadata": {},
   "source": [
    "## Discretization"
   ]
  },
  {
   "cell_type": "code",
   "execution_count": null,
   "metadata": {
    "collapsed": false
   },
   "outputs": [],
   "source": [
    "tica = pyemma.coordinates.tica(data=source, lag=5, dim=2).get_output()[0]\n",
    "cluster = pyemma.coordinates.cluster_kmeans(tica, k=100, max_iter=50)\n",
    "\n",
    "lags = np.asarray([1, 5, 10, 20, 50] + [i * 100 for i in range(1, 21)])\n",
    "fig, axes = plt.subplots(1, 2, figsize=(8, 4))\n",
    "pyemma.plots.plot_implied_timescales(\n",
    "    pyemma.msm.its(cluster.dtrajs, lags=lags, errors=None, nits=6),\n",
    "    ylog=False, ax=axes[0], units='us', dt=2.0E-4)\n",
    "pyemma.plots.plot_free_energy(*tica.T, ax=axes[1])\n",
    "axes[1].scatter(*cluster.clustercenters.T, marker='x', c='grey', s=30, label='centers')\n",
    "axes[1].legend()\n",
    "axes[1].set_xlabel('TIC 1 / a.u.')\n",
    "axes[1].set_ylabel('TIC 2 / a.u.')\n",
    "fig.tight_layout()"
   ]
  },
  {
   "cell_type": "code",
   "execution_count": null,
   "metadata": {
    "collapsed": true
   },
   "outputs": [],
   "source": []
  }
 ],
 "metadata": {
  "kernelspec": {
   "display_name": "Python 3",
   "language": "python",
   "name": "python3"
  },
  "language_info": {
   "codemirror_mode": {
    "name": "ipython",
    "version": 3
   },
   "file_extension": ".py",
   "mimetype": "text/x-python",
   "name": "python",
   "nbconvert_exporter": "python",
   "pygments_lexer": "ipython3",
   "version": "3.6.0"
  },
  "widgets": {
   "state": {
    "da308adefaaa4a2da47c28c44d76433e": {
     "views": [
      {
       "cell_index": 11
      }
     ]
    }
   },
   "version": "1.2.0"
  }
 },
 "nbformat": 4,
 "nbformat_minor": 1
}
